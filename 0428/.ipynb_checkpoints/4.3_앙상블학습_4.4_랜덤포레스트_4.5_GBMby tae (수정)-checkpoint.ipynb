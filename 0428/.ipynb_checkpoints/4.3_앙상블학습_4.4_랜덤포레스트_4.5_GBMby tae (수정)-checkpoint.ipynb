{
 "cells": [
  {
   "cell_type": "markdown",
   "metadata": {},
   "source": [
    "## 4.3 앙상블 학습 개요"
   ]
  },
  {
   "cell_type": "markdown",
   "metadata": {},
   "source": [
    "### Voting Classifier"
   ]
  },
  {
   "cell_type": "code",
   "execution_count": 6,
   "metadata": {},
   "outputs": [
    {
     "data": {
      "text/html": [
       "<div>\n",
       "<style scoped>\n",
       "    .dataframe tbody tr th:only-of-type {\n",
       "        vertical-align: middle;\n",
       "    }\n",
       "\n",
       "    .dataframe tbody tr th {\n",
       "        vertical-align: top;\n",
       "    }\n",
       "\n",
       "    .dataframe thead th {\n",
       "        text-align: right;\n",
       "    }\n",
       "</style>\n",
       "<table border=\"1\" class=\"dataframe\">\n",
       "  <thead>\n",
       "    <tr style=\"text-align: right;\">\n",
       "      <th></th>\n",
       "      <th>mean radius</th>\n",
       "      <th>mean texture</th>\n",
       "      <th>mean perimeter</th>\n",
       "      <th>mean area</th>\n",
       "      <th>mean smoothness</th>\n",
       "      <th>mean compactness</th>\n",
       "      <th>mean concavity</th>\n",
       "      <th>mean concave points</th>\n",
       "      <th>mean symmetry</th>\n",
       "      <th>mean fractal dimension</th>\n",
       "      <th>...</th>\n",
       "      <th>worst radius</th>\n",
       "      <th>worst texture</th>\n",
       "      <th>worst perimeter</th>\n",
       "      <th>worst area</th>\n",
       "      <th>worst smoothness</th>\n",
       "      <th>worst compactness</th>\n",
       "      <th>worst concavity</th>\n",
       "      <th>worst concave points</th>\n",
       "      <th>worst symmetry</th>\n",
       "      <th>worst fractal dimension</th>\n",
       "    </tr>\n",
       "  </thead>\n",
       "  <tbody>\n",
       "    <tr>\n",
       "      <th>0</th>\n",
       "      <td>17.99</td>\n",
       "      <td>10.38</td>\n",
       "      <td>122.8</td>\n",
       "      <td>1001.0</td>\n",
       "      <td>0.11840</td>\n",
       "      <td>0.27760</td>\n",
       "      <td>0.3001</td>\n",
       "      <td>0.14710</td>\n",
       "      <td>0.2419</td>\n",
       "      <td>0.07871</td>\n",
       "      <td>...</td>\n",
       "      <td>25.38</td>\n",
       "      <td>17.33</td>\n",
       "      <td>184.6</td>\n",
       "      <td>2019.0</td>\n",
       "      <td>0.1622</td>\n",
       "      <td>0.6656</td>\n",
       "      <td>0.7119</td>\n",
       "      <td>0.2654</td>\n",
       "      <td>0.4601</td>\n",
       "      <td>0.11890</td>\n",
       "    </tr>\n",
       "    <tr>\n",
       "      <th>1</th>\n",
       "      <td>20.57</td>\n",
       "      <td>17.77</td>\n",
       "      <td>132.9</td>\n",
       "      <td>1326.0</td>\n",
       "      <td>0.08474</td>\n",
       "      <td>0.07864</td>\n",
       "      <td>0.0869</td>\n",
       "      <td>0.07017</td>\n",
       "      <td>0.1812</td>\n",
       "      <td>0.05667</td>\n",
       "      <td>...</td>\n",
       "      <td>24.99</td>\n",
       "      <td>23.41</td>\n",
       "      <td>158.8</td>\n",
       "      <td>1956.0</td>\n",
       "      <td>0.1238</td>\n",
       "      <td>0.1866</td>\n",
       "      <td>0.2416</td>\n",
       "      <td>0.1860</td>\n",
       "      <td>0.2750</td>\n",
       "      <td>0.08902</td>\n",
       "    </tr>\n",
       "    <tr>\n",
       "      <th>2</th>\n",
       "      <td>19.69</td>\n",
       "      <td>21.25</td>\n",
       "      <td>130.0</td>\n",
       "      <td>1203.0</td>\n",
       "      <td>0.10960</td>\n",
       "      <td>0.15990</td>\n",
       "      <td>0.1974</td>\n",
       "      <td>0.12790</td>\n",
       "      <td>0.2069</td>\n",
       "      <td>0.05999</td>\n",
       "      <td>...</td>\n",
       "      <td>23.57</td>\n",
       "      <td>25.53</td>\n",
       "      <td>152.5</td>\n",
       "      <td>1709.0</td>\n",
       "      <td>0.1444</td>\n",
       "      <td>0.4245</td>\n",
       "      <td>0.4504</td>\n",
       "      <td>0.2430</td>\n",
       "      <td>0.3613</td>\n",
       "      <td>0.08758</td>\n",
       "    </tr>\n",
       "  </tbody>\n",
       "</table>\n",
       "<p>3 rows × 30 columns</p>\n",
       "</div>"
      ],
      "text/plain": [
       "   mean radius  mean texture  mean perimeter  mean area  mean smoothness  \\\n",
       "0        17.99         10.38           122.8     1001.0          0.11840   \n",
       "1        20.57         17.77           132.9     1326.0          0.08474   \n",
       "2        19.69         21.25           130.0     1203.0          0.10960   \n",
       "\n",
       "   mean compactness  mean concavity  mean concave points  mean symmetry  \\\n",
       "0           0.27760          0.3001              0.14710         0.2419   \n",
       "1           0.07864          0.0869              0.07017         0.1812   \n",
       "2           0.15990          0.1974              0.12790         0.2069   \n",
       "\n",
       "   mean fractal dimension  ...  worst radius  worst texture  worst perimeter  \\\n",
       "0                 0.07871  ...         25.38          17.33            184.6   \n",
       "1                 0.05667  ...         24.99          23.41            158.8   \n",
       "2                 0.05999  ...         23.57          25.53            152.5   \n",
       "\n",
       "   worst area  worst smoothness  worst compactness  worst concavity  \\\n",
       "0      2019.0            0.1622             0.6656           0.7119   \n",
       "1      1956.0            0.1238             0.1866           0.2416   \n",
       "2      1709.0            0.1444             0.4245           0.4504   \n",
       "\n",
       "   worst concave points  worst symmetry  worst fractal dimension  \n",
       "0                0.2654          0.4601                  0.11890  \n",
       "1                0.1860          0.2750                  0.08902  \n",
       "2                0.2430          0.3613                  0.08758  \n",
       "\n",
       "[3 rows x 30 columns]"
      ]
     },
     "execution_count": 6,
     "metadata": {},
     "output_type": "execute_result"
    }
   ],
   "source": [
    "import pandas as pd\n",
    "\n",
    "from sklearn.ensemble import VotingClassifier\n",
    "from sklearn.linear_model import LogisticRegression\n",
    "from sklearn.neighbors import KNeighborsClassifier\n",
    "from sklearn.datasets import load_breast_cancer\n",
    "from sklearn.model_selection import train_test_split\n",
    "from sklearn.metrics import accuracy_score\n",
    "\n",
    "cancer = load_breast_cancer()\n",
    "\n",
    "data_df = pd.DataFrame(cancer.data, columns=cancer.feature_names)\n",
    "data_df.head(3)\n",
    "\n"
   ]
  },
  {
   "cell_type": "code",
   "execution_count": 8,
   "metadata": {},
   "outputs": [
    {
     "name": "stdout",
     "output_type": "stream",
     "text": [
      "Voting 분류기 정확도: 0.9474\n",
      "LogisticRegression 정확도: 0.9386\n",
      "KNeighborsClassifier 정확도: 0.9386\n"
     ]
    },
    {
     "name": "stderr",
     "output_type": "stream",
     "text": [
      "C:\\Users\\likes\\anaconda3\\lib\\site-packages\\sklearn\\linear_model\\_logistic.py:762: ConvergenceWarning: lbfgs failed to converge (status=1):\n",
      "STOP: TOTAL NO. of ITERATIONS REACHED LIMIT.\n",
      "\n",
      "Increase the number of iterations (max_iter) or scale the data as shown in:\n",
      "    https://scikit-learn.org/stable/modules/preprocessing.html\n",
      "Please also refer to the documentation for alternative solver options:\n",
      "    https://scikit-learn.org/stable/modules/linear_model.html#logistic-regression\n",
      "  n_iter_i = _check_optimize_result(\n",
      "C:\\Users\\likes\\anaconda3\\lib\\site-packages\\sklearn\\linear_model\\_logistic.py:762: ConvergenceWarning: lbfgs failed to converge (status=1):\n",
      "STOP: TOTAL NO. of ITERATIONS REACHED LIMIT.\n",
      "\n",
      "Increase the number of iterations (max_iter) or scale the data as shown in:\n",
      "    https://scikit-learn.org/stable/modules/preprocessing.html\n",
      "Please also refer to the documentation for alternative solver options:\n",
      "    https://scikit-learn.org/stable/modules/linear_model.html#logistic-regression\n",
      "  n_iter_i = _check_optimize_result(\n"
     ]
    }
   ],
   "source": [
    "# 개별 모델은 로지스틱 회귀와 KNN 임. \n",
    "lr_clf = LogisticRegression()\n",
    "knn_clf = KNeighborsClassifier(n_neighbors=8)\n",
    "\n",
    "# 개별 모델을 소프트 보팅 기반의 앙상블 모델로 구현한 분류기 \n",
    "vo_clf = VotingClassifier( estimators=[('LR',lr_clf),('KNN',knn_clf)] , voting='soft' )\n",
    "\n",
    "X_train, X_test, y_train, y_test = train_test_split(cancer.data, cancer.target, \n",
    "                                                    test_size=0.2 , random_state= 156)\n",
    "\n",
    "# VotingClassifier 학습/예측/평가. \n",
    "vo_clf.fit(X_train , y_train)\n",
    "pred = vo_clf.predict(X_test)\n",
    "print('Voting 분류기 정확도: {0:.4f}'.format(accuracy_score(y_test , pred)))\n",
    "\n",
    "# 개별 모델의 학습/예측/평가.\n",
    "classifiers = [lr_clf, knn_clf]\n",
    "for classifier in classifiers:\n",
    "    classifier.fit(X_train , y_train)\n",
    "    pred = classifier.predict(X_test)\n",
    "    class_name= classifier.__class__.__name__\n",
    "    print('{0} 정확도: {1:.4f}'.format(class_name, accuracy_score(y_test , pred)))"
   ]
  },
  {
   "cell_type": "markdown",
   "metadata": {},
   "source": [
    "## 4.4 Random Forest"
   ]
  },
  {
   "cell_type": "code",
   "execution_count": 18,
   "metadata": {},
   "outputs": [],
   "source": [
    "def get_new_feature_name_df(old_feature_name_df):\n",
    "    feature_dup_df = pd.DataFrame(data=old_feature_name_df.groupby('column_name').cumcount(),\n",
    "                                  columns=['dup_cnt'])\n",
    "    feature_dup_df = feature_dup_df.reset_index()\n",
    "    new_feature_name_df = pd.merge(old_feature_name_df.reset_index(), feature_dup_df, how='outer')\n",
    "    new_feature_name_df['column_name'] = new_feature_name_df[['column_name', 'dup_cnt']].apply(lambda x : x[0]+'_'+str(x[1]) \n",
    "                                                                                         if x[1] >0 else x[0] ,  axis=1)\n",
    "    new_feature_name_df = new_feature_name_df.drop(['index'], axis=1)\n",
    "    return new_feature_name_df"
   ]
  },
  {
   "cell_type": "code",
   "execution_count": 4,
   "metadata": {},
   "outputs": [
    {
     "ename": "NameError",
     "evalue": "name 'get_new_feature_name_df' is not defined",
     "output_type": "error",
     "traceback": [
      "\u001b[1;31m---------------------------------------------------------------------------\u001b[0m",
      "\u001b[1;31mNameError\u001b[0m                                 Traceback (most recent call last)",
      "\u001b[1;32m<ipython-input-4-2277c289a317>\u001b[0m in \u001b[0;36m<module>\u001b[1;34m\u001b[0m\n\u001b[0;32m     25\u001b[0m \u001b[1;33m\u001b[0m\u001b[0m\n\u001b[0;32m     26\u001b[0m \u001b[1;33m\u001b[0m\u001b[0m\n\u001b[1;32m---> 27\u001b[1;33m \u001b[0mX_train\u001b[0m\u001b[1;33m,\u001b[0m \u001b[0mX_test\u001b[0m\u001b[1;33m,\u001b[0m \u001b[0my_train\u001b[0m\u001b[1;33m,\u001b[0m \u001b[0my_test\u001b[0m \u001b[1;33m=\u001b[0m \u001b[0mget_human_dataset\u001b[0m\u001b[1;33m(\u001b[0m\u001b[1;33m)\u001b[0m\u001b[1;33m\u001b[0m\u001b[1;33m\u001b[0m\u001b[0m\n\u001b[0m",
      "\u001b[1;32m<ipython-input-4-2277c289a317>\u001b[0m in \u001b[0;36mget_human_dataset\u001b[1;34m()\u001b[0m\n\u001b[0;32m      8\u001b[0m \u001b[1;33m\u001b[0m\u001b[0m\n\u001b[0;32m      9\u001b[0m     \u001b[1;31m# 중복된 피처명을 수정하는 get_new_feature_name_df()를 이용, 신규 피처명 DataFrame생성.\u001b[0m\u001b[1;33m\u001b[0m\u001b[1;33m\u001b[0m\u001b[1;33m\u001b[0m\u001b[0m\n\u001b[1;32m---> 10\u001b[1;33m     \u001b[0mnew_feature_name_df\u001b[0m \u001b[1;33m=\u001b[0m \u001b[0mget_new_feature_name_df\u001b[0m\u001b[1;33m(\u001b[0m\u001b[0mfeature_name_df\u001b[0m\u001b[1;33m)\u001b[0m\u001b[1;33m\u001b[0m\u001b[1;33m\u001b[0m\u001b[0m\n\u001b[0m\u001b[0;32m     11\u001b[0m \u001b[1;33m\u001b[0m\u001b[0m\n\u001b[0;32m     12\u001b[0m     \u001b[1;31m# DataFrame에 피처명을 컬럼으로 부여하기 위해 리스트 객체로 다시 변환\u001b[0m\u001b[1;33m\u001b[0m\u001b[1;33m\u001b[0m\u001b[1;33m\u001b[0m\u001b[0m\n",
      "\u001b[1;31mNameError\u001b[0m: name 'get_new_feature_name_df' is not defined"
     ]
    }
   ],
   "source": [
    "import pandas as pd\n",
    "\n",
    "def get_human_dataset( ):\n",
    "    \n",
    "    # 각 데이터 파일들은 공백으로 분리되어 있으므로 read_csv에서 공백 문자를 sep으로 할당.\n",
    "    feature_name_df = pd.read_csv('./UCI HAR Dataset/features.txt',sep='\\s+',\n",
    "                        header=None,names=['column_index','column_name'])\n",
    "    \n",
    "    # 중복된 피처명을 수정하는 get_new_feature_name_df()를 이용, 신규 피처명 DataFrame생성. \n",
    "    new_feature_name_df = get_new_feature_name_df(feature_name_df)\n",
    "    \n",
    "    # DataFrame에 피처명을 컬럼으로 부여하기 위해 리스트 객체로 다시 변환\n",
    "    feature_name = new_feature_name_df.iloc[:, 1].values.tolist()\n",
    "    \n",
    "    # 학습 피처 데이터 셋과 테스트 피처 데이터을 DataFrame으로 로딩. 컬럼명은 feature_name 적용\n",
    "    X_train = pd.read_csv('./UCI HAR Dataset/train/X_train.txt',sep='\\s+', names=feature_name )\n",
    "    X_test = pd.read_csv('./UCI HAR Dataset/test/X_test.txt',sep='\\s+', names=feature_name)\n",
    "    \n",
    "    # 학습 레이블과 테스트 레이블 데이터을 DataFrame으로 로딩하고 컬럼명은 action으로 부여\n",
    "    y_train = pd.read_csv('./UCI HAR Dataset/train/y_train.txt',sep='\\s+',header=None,names=['action'])\n",
    "    y_test = pd.read_csv('./UCI HAR Dataset/test/y_test.txt',sep='\\s+',header=None,names=['action'])\n",
    "    \n",
    "    # 로드된 학습/테스트용 DataFrame을 모두 반환 \n",
    "    return X_train, X_test, y_train, y_test\n",
    "\n",
    "\n",
    "X_train, X_test, y_train, y_test = get_human_dataset()"
   ]
  },
  {
   "cell_type": "code",
   "execution_count": 14,
   "metadata": {},
   "outputs": [
    {
     "name": "stdout",
     "output_type": "stream",
     "text": [
      "랜덤 포레스트 정확도: 0.9253\n"
     ]
    }
   ],
   "source": [
    "from sklearn.ensemble import RandomForestClassifier\n",
    "from sklearn.metrics import accuracy_score\n",
    "import pandas as pd\n",
    "import warnings\n",
    "warnings.filterwarnings('ignore')\n",
    "\n",
    "# 결정 트리에서 사용한 get_human_dataset( )을 이용해 학습/테스트용 DataFrame 반환\n",
    "X_train, X_test, y_train, y_test = get_human_dataset()\n",
    "\n",
    "# 랜덤 포레스트 학습 및 별도의 테스트 셋으로 예측 성능 평가\n",
    "rf_clf = RandomForestClassifier(random_state=0)\n",
    "rf_clf.fit(X_train , y_train)\n",
    "pred = rf_clf.predict(X_test)\n",
    "accuracy = accuracy_score(y_test , pred)\n",
    "print('랜덤 포레스트 정확도: {0:.4f}'.format(accuracy))"
   ]
  },
  {
   "cell_type": "code",
   "execution_count": 20,
   "metadata": {},
   "outputs": [
    {
     "name": "stdout",
     "output_type": "stream",
     "text": [
      "최적 하이퍼 파라미터:\n",
      " {'max_depth': 10, 'min_samples_leaf': 8, 'min_samples_split': 8, 'n_estimators': 100}\n",
      "최고 예측 정확도: 0.9180\n"
     ]
    }
   ],
   "source": [
    "from sklearn.model_selection import GridSearchCV\n",
    "\n",
    "params = {\n",
    "    'n_estimators':[100],\n",
    "    'max_depth' : [6, 8, 10, 12], \n",
    "    'min_samples_leaf' : [8, 12, 18 ],\n",
    "    'min_samples_split' : [8, 16, 20]\n",
    "}\n",
    "# RandomForestClassifier 객체 생성 후 GridSearchCV 수행\n",
    "rf_clf = RandomForestClassifier(random_state=0, n_jobs=-1)\n",
    "grid_cv = GridSearchCV(rf_clf , param_grid=params , cv=2, n_jobs=-1 )\n",
    "grid_cv.fit(X_train , y_train)\n",
    "\n",
    "print('최적 하이퍼 파라미터:\\n', grid_cv.best_params_)\n",
    "print('최고 예측 정확도: {0:.4f}'.format(grid_cv.best_score_))"
   ]
  },
  {
   "cell_type": "code",
   "execution_count": null,
   "metadata": {},
   "outputs": [],
   "source": [
    "rf_clf1 = RandomForestClassifier(n_estimators=300, max_depth=10, min_samples_leaf=8, \\\n",
    "                                 min_samples_split=8, random_state=0)\n",
    "rf_clf1.fit(X_train , y_train)\n",
    "pred = rf_clf1.predict(X_test)\n",
    "print('예측 정확도: {0:.4f}'.format(accuracy_score(y_test , pred)))"
   ]
  },
  {
   "cell_type": "code",
   "execution_count": 17,
   "metadata": {},
   "outputs": [
    {
     "data": {
      "image/png": "[encoded data removed]",
      "text/plain": [
       "<Figure size 576x432 with 1 Axes>"
      ]
     },
     "metadata": {
      "needs_background": "light"
     },
     "output_type": "display_data"
    }
   ],
   "source": [
    "import matplotlib.pyplot as plt\n",
    "import seaborn as sns\n",
    "%matplotlib inline\n",
    "\n",
    "ftr_importances_values = rf_clf1.feature_importances_\n",
    "ftr_importances = pd.Series(ftr_importances_values,index=X_train.columns  )\n",
    "ftr_top20 = ftr_importances.sort_values(ascending=False)[:20]\n",
    "\n",
    "plt.figure(figsize=(8,6))\n",
    "plt.title('Feature importances Top 20')\n",
    "sns.barplot(x=ftr_top20 , y = ftr_top20.index)\n",
    "plt.show()"
   ]
  },
  {
   "cell_type": "markdown",
   "metadata": {},
   "source": [
    "## 4.5 GBM(Gradient Boosting Machine)"
   ]
  },
  {
   "cell_type": "code",
   "execution_count": 1,
   "metadata": {},
   "outputs": [
    {
     "ename": "NameError",
     "evalue": "name 'get_human_dataset' is not defined",
     "output_type": "error",
     "traceback": [
      "\u001b[1;31m---------------------------------------------------------------------------\u001b[0m",
      "\u001b[1;31mNameError\u001b[0m                                 Traceback (most recent call last)",
      "\u001b[1;32m<ipython-input-1-a261186bccbd>\u001b[0m in \u001b[0;36m<module>\u001b[1;34m\u001b[0m\n\u001b[0;32m      4\u001b[0m \u001b[0mwarnings\u001b[0m\u001b[1;33m.\u001b[0m\u001b[0mfilterwarnings\u001b[0m\u001b[1;33m(\u001b[0m\u001b[1;34m'ignore'\u001b[0m\u001b[1;33m)\u001b[0m\u001b[1;33m\u001b[0m\u001b[1;33m\u001b[0m\u001b[0m\n\u001b[0;32m      5\u001b[0m \u001b[1;33m\u001b[0m\u001b[0m\n\u001b[1;32m----> 6\u001b[1;33m \u001b[0mX_train\u001b[0m\u001b[1;33m,\u001b[0m \u001b[0mX_test\u001b[0m\u001b[1;33m,\u001b[0m \u001b[0my_train\u001b[0m\u001b[1;33m,\u001b[0m \u001b[0my_test\u001b[0m \u001b[1;33m=\u001b[0m \u001b[0mget_human_dataset\u001b[0m\u001b[1;33m(\u001b[0m\u001b[1;33m)\u001b[0m\u001b[1;33m\u001b[0m\u001b[1;33m\u001b[0m\u001b[0m\n\u001b[0m\u001b[0;32m      7\u001b[0m \u001b[1;33m\u001b[0m\u001b[0m\n\u001b[0;32m      8\u001b[0m \u001b[1;31m# GBM 수행 시간 측정을 위함. 시작 시간 설정.\u001b[0m\u001b[1;33m\u001b[0m\u001b[1;33m\u001b[0m\u001b[1;33m\u001b[0m\u001b[0m\n",
      "\u001b[1;31mNameError\u001b[0m: name 'get_human_dataset' is not defined"
     ]
    }
   ],
   "source": [
    "from sklearn.ensemble import GradientBoostingClassifier\n",
    "import time\n",
    "import warnings\n",
    "warnings.filterwarnings('ignore')\n",
    "\n",
    "X_train, X_test, y_train, y_test = get_human_dataset()\n",
    "\n",
    "# GBM 수행 시간 측정을 위함. 시작 시간 설정.\n",
    "start_time = time.time()\n",
    "\n",
    "gb_clf = GradientBoostingClassifier(random_state=0)\n",
    "gb_clf.fit(X_train , y_train)\n",
    "gb_pred = gb_clf.predict(X_test)\n",
    "gb_accuracy = accuracy_score(y_test, gb_pred)\n",
    "\n",
    "print('GBM 정확도: {0:.4f}'.format(gb_accuracy))\n",
    "print(\"GBM 수행 시간: {0:.1f} 초 \".format(time.time() - start_time))\n"
   ]
  },
  {
   "cell_type": "code",
   "execution_count": null,
   "metadata": {},
   "outputs": [],
   "source": [
    "from sklearn.model_selection import GridSearchCV\n",
    "\n",
    "params = {\n",
    "    'n_estimators':[100, 500],\n",
    "    'learning_rate' : [ 0.05, 0.1]\n",
    "}\n",
    "grid_cv = GridSearchCV(gb_clf , param_grid=params , cv=2 ,verbose=1)\n",
    "grid_cv.fit(X_train , y_train)\n",
    "print('최적 하이퍼 파라미터:\\n', grid_cv.best_params_)\n",
    "print('최고 예측 정확도: {0:.4f}'.format(grid_cv.best_score_))"
   ]
  },
  {
   "cell_type": "code",
   "execution_count": null,
   "metadata": {},
   "outputs": [],
   "source": [
    "# GridSearchCV를 이용하여 최적으로 학습된 estimator로 predict 수행. \n",
    "gb_pred = grid_cv.best_estimator_.predict(X_test)\n",
    "gb_accuracy = accuracy_score(y_test, gb_pred)\n",
    "print('GBM 정확도: {0:.4f}'.format(gb_accuracy))"
   ]
  },
  {
   "cell_type": "markdown",
   "metadata": {},
   "source": [
    "## 4.6 SVM"
   ]
  },
  {
   "cell_type": "code",
   "execution_count": 14,
   "metadata": {},
   "outputs": [],
   "source": [
    "from sklearn import datasets\n",
    "iris = datasets.load_iris()\n",
    "X = iris.data\n",
    "y = iris.target\n",
    "from sklearn.model_selection import train_test_split\n",
    "X_train, X_test, y_train, y_test = train_test_split(X,y,test_size=.5)"
   ]
  },
  {
   "cell_type": "code",
   "execution_count": 15,
   "metadata": {},
   "outputs": [
    {
     "name": "stdout",
     "output_type": "stream",
     "text": [
      "0.9866666666666667\n"
     ]
    }
   ],
   "source": [
    "from sklearn import svm\n",
    "clf = svm.SVC(gamma=0.001, C=100.)\n",
    "clf.fit(X_train, y_train)\n",
    "predictions = clf.predict(X_test)\n",
    "#print(y_test)\n",
    "from sklearn.metrics import accuracy_score\n",
    "print(accuracy_score(y_test, predictions))"
   ]
  },
  {
   "cell_type": "markdown",
   "metadata": {},
   "source": [
    "## 4.7 kNN"
   ]
  },
  {
   "cell_type": "code",
   "execution_count": 17,
   "metadata": {},
   "outputs": [
    {
     "name": "stdout",
     "output_type": "stream",
     "text": [
      "['sepal length (cm)', 'sepal width (cm)', 'petal length (cm)', 'petal width (cm)']\n",
      "['setosa' 'versicolor' 'virginica']\n",
      "[5.1 3.5 1.4 0.2]\n",
      "0\n"
     ]
    }
   ],
   "source": [
    "from sklearn import datasets\n",
    "iris = datasets.load_iris()\n",
    "print(iris.feature_names)\n",
    "print(iris.target_names)\n",
    "print(iris.data[0])\n",
    "print(iris.target[0])"
   ]
  },
  {
   "cell_type": "code",
   "execution_count": 18,
   "metadata": {},
   "outputs": [
    {
     "name": "stdout",
     "output_type": "stream",
     "text": [
      "Example 0: label 0, features [5.1 3.5 1.4 0.2]\n",
      "Example 1: label 0, features [4.9 3.  1.4 0.2]\n",
      "Example 2: label 0, features [4.7 3.2 1.3 0.2]\n",
      "Example 3: label 0, features [4.6 3.1 1.5 0.2]\n",
      "Example 4: label 0, features [5.  3.6 1.4 0.2]\n",
      "Example 5: label 0, features [5.4 3.9 1.7 0.4]\n",
      "Example 6: label 0, features [4.6 3.4 1.4 0.3]\n",
      "Example 7: label 0, features [5.  3.4 1.5 0.2]\n",
      "Example 8: label 0, features [4.4 2.9 1.4 0.2]\n",
      "Example 9: label 0, features [4.9 3.1 1.5 0.1]\n",
      "Example 10: label 0, features [5.4 3.7 1.5 0.2]\n",
      "Example 11: label 0, features [4.8 3.4 1.6 0.2]\n",
      "Example 12: label 0, features [4.8 3.  1.4 0.1]\n",
      "Example 13: label 0, features [4.3 3.  1.1 0.1]\n",
      "Example 14: label 0, features [5.8 4.  1.2 0.2]\n",
      "Example 15: label 0, features [5.7 4.4 1.5 0.4]\n",
      "Example 16: label 0, features [5.4 3.9 1.3 0.4]\n",
      "Example 17: label 0, features [5.1 3.5 1.4 0.3]\n",
      "Example 18: label 0, features [5.7 3.8 1.7 0.3]\n",
      "Example 19: label 0, features [5.1 3.8 1.5 0.3]\n",
      "Example 20: label 0, features [5.4 3.4 1.7 0.2]\n",
      "Example 21: label 0, features [5.1 3.7 1.5 0.4]\n",
      "Example 22: label 0, features [4.6 3.6 1.  0.2]\n",
      "Example 23: label 0, features [5.1 3.3 1.7 0.5]\n",
      "Example 24: label 0, features [4.8 3.4 1.9 0.2]\n",
      "Example 25: label 0, features [5.  3.  1.6 0.2]\n",
      "Example 26: label 0, features [5.  3.4 1.6 0.4]\n",
      "Example 27: label 0, features [5.2 3.5 1.5 0.2]\n",
      "Example 28: label 0, features [5.2 3.4 1.4 0.2]\n",
      "Example 29: label 0, features [4.7 3.2 1.6 0.2]\n",
      "Example 30: label 0, features [4.8 3.1 1.6 0.2]\n",
      "Example 31: label 0, features [5.4 3.4 1.5 0.4]\n",
      "Example 32: label 0, features [5.2 4.1 1.5 0.1]\n",
      "Example 33: label 0, features [5.5 4.2 1.4 0.2]\n",
      "Example 34: label 0, features [4.9 3.1 1.5 0.2]\n",
      "Example 35: label 0, features [5.  3.2 1.2 0.2]\n",
      "Example 36: label 0, features [5.5 3.5 1.3 0.2]\n",
      "Example 37: label 0, features [4.9 3.6 1.4 0.1]\n",
      "Example 38: label 0, features [4.4 3.  1.3 0.2]\n",
      "Example 39: label 0, features [5.1 3.4 1.5 0.2]\n",
      "Example 40: label 0, features [5.  3.5 1.3 0.3]\n",
      "Example 41: label 0, features [4.5 2.3 1.3 0.3]\n",
      "Example 42: label 0, features [4.4 3.2 1.3 0.2]\n",
      "Example 43: label 0, features [5.  3.5 1.6 0.6]\n",
      "Example 44: label 0, features [5.1 3.8 1.9 0.4]\n",
      "Example 45: label 0, features [4.8 3.  1.4 0.3]\n",
      "Example 46: label 0, features [5.1 3.8 1.6 0.2]\n",
      "Example 47: label 0, features [4.6 3.2 1.4 0.2]\n",
      "Example 48: label 0, features [5.3 3.7 1.5 0.2]\n",
      "Example 49: label 0, features [5.  3.3 1.4 0.2]\n",
      "Example 50: label 1, features [7.  3.2 4.7 1.4]\n",
      "Example 51: label 1, features [6.4 3.2 4.5 1.5]\n",
      "Example 52: label 1, features [6.9 3.1 4.9 1.5]\n",
      "Example 53: label 1, features [5.5 2.3 4.  1.3]\n",
      "Example 54: label 1, features [6.5 2.8 4.6 1.5]\n",
      "Example 55: label 1, features [5.7 2.8 4.5 1.3]\n",
      "Example 56: label 1, features [6.3 3.3 4.7 1.6]\n",
      "Example 57: label 1, features [4.9 2.4 3.3 1. ]\n",
      "Example 58: label 1, features [6.6 2.9 4.6 1.3]\n",
      "Example 59: label 1, features [5.2 2.7 3.9 1.4]\n",
      "Example 60: label 1, features [5.  2.  3.5 1. ]\n",
      "Example 61: label 1, features [5.9 3.  4.2 1.5]\n",
      "Example 62: label 1, features [6.  2.2 4.  1. ]\n",
      "Example 63: label 1, features [6.1 2.9 4.7 1.4]\n",
      "Example 64: label 1, features [5.6 2.9 3.6 1.3]\n",
      "Example 65: label 1, features [6.7 3.1 4.4 1.4]\n",
      "Example 66: label 1, features [5.6 3.  4.5 1.5]\n",
      "Example 67: label 1, features [5.8 2.7 4.1 1. ]\n",
      "Example 68: label 1, features [6.2 2.2 4.5 1.5]\n",
      "Example 69: label 1, features [5.6 2.5 3.9 1.1]\n",
      "Example 70: label 1, features [5.9 3.2 4.8 1.8]\n",
      "Example 71: label 1, features [6.1 2.8 4.  1.3]\n",
      "Example 72: label 1, features [6.3 2.5 4.9 1.5]\n",
      "Example 73: label 1, features [6.1 2.8 4.7 1.2]\n",
      "Example 74: label 1, features [6.4 2.9 4.3 1.3]\n",
      "Example 75: label 1, features [6.6 3.  4.4 1.4]\n",
      "Example 76: label 1, features [6.8 2.8 4.8 1.4]\n",
      "Example 77: label 1, features [6.7 3.  5.  1.7]\n",
      "Example 78: label 1, features [6.  2.9 4.5 1.5]\n",
      "Example 79: label 1, features [5.7 2.6 3.5 1. ]\n",
      "Example 80: label 1, features [5.5 2.4 3.8 1.1]\n",
      "Example 81: label 1, features [5.5 2.4 3.7 1. ]\n",
      "Example 82: label 1, features [5.8 2.7 3.9 1.2]\n",
      "Example 83: label 1, features [6.  2.7 5.1 1.6]\n",
      "Example 84: label 1, features [5.4 3.  4.5 1.5]\n",
      "Example 85: label 1, features [6.  3.4 4.5 1.6]\n",
      "Example 86: label 1, features [6.7 3.1 4.7 1.5]\n",
      "Example 87: label 1, features [6.3 2.3 4.4 1.3]\n",
      "Example 88: label 1, features [5.6 3.  4.1 1.3]\n",
      "Example 89: label 1, features [5.5 2.5 4.  1.3]\n",
      "Example 90: label 1, features [5.5 2.6 4.4 1.2]\n",
      "Example 91: label 1, features [6.1 3.  4.6 1.4]\n",
      "Example 92: label 1, features [5.8 2.6 4.  1.2]\n",
      "Example 93: label 1, features [5.  2.3 3.3 1. ]\n",
      "Example 94: label 1, features [5.6 2.7 4.2 1.3]\n",
      "Example 95: label 1, features [5.7 3.  4.2 1.2]\n",
      "Example 96: label 1, features [5.7 2.9 4.2 1.3]\n",
      "Example 97: label 1, features [6.2 2.9 4.3 1.3]\n",
      "Example 98: label 1, features [5.1 2.5 3.  1.1]\n",
      "Example 99: label 1, features [5.7 2.8 4.1 1.3]\n",
      "Example 100: label 2, features [6.3 3.3 6.  2.5]\n",
      "Example 101: label 2, features [5.8 2.7 5.1 1.9]\n",
      "Example 102: label 2, features [7.1 3.  5.9 2.1]\n",
      "Example 103: label 2, features [6.3 2.9 5.6 1.8]\n",
      "Example 104: label 2, features [6.5 3.  5.8 2.2]\n",
      "Example 105: label 2, features [7.6 3.  6.6 2.1]\n",
      "Example 106: label 2, features [4.9 2.5 4.5 1.7]\n",
      "Example 107: label 2, features [7.3 2.9 6.3 1.8]\n",
      "Example 108: label 2, features [6.7 2.5 5.8 1.8]\n",
      "Example 109: label 2, features [7.2 3.6 6.1 2.5]\n",
      "Example 110: label 2, features [6.5 3.2 5.1 2. ]\n",
      "Example 111: label 2, features [6.4 2.7 5.3 1.9]\n",
      "Example 112: label 2, features [6.8 3.  5.5 2.1]\n",
      "Example 113: label 2, features [5.7 2.5 5.  2. ]\n",
      "Example 114: label 2, features [5.8 2.8 5.1 2.4]\n",
      "Example 115: label 2, features [6.4 3.2 5.3 2.3]\n",
      "Example 116: label 2, features [6.5 3.  5.5 1.8]\n",
      "Example 117: label 2, features [7.7 3.8 6.7 2.2]\n",
      "Example 118: label 2, features [7.7 2.6 6.9 2.3]\n",
      "Example 119: label 2, features [6.  2.2 5.  1.5]\n",
      "Example 120: label 2, features [6.9 3.2 5.7 2.3]\n",
      "Example 121: label 2, features [5.6 2.8 4.9 2. ]\n",
      "Example 122: label 2, features [7.7 2.8 6.7 2. ]\n",
      "Example 123: label 2, features [6.3 2.7 4.9 1.8]\n",
      "Example 124: label 2, features [6.7 3.3 5.7 2.1]\n",
      "Example 125: label 2, features [7.2 3.2 6.  1.8]\n",
      "Example 126: label 2, features [6.2 2.8 4.8 1.8]\n",
      "Example 127: label 2, features [6.1 3.  4.9 1.8]\n",
      "Example 128: label 2, features [6.4 2.8 5.6 2.1]\n",
      "Example 129: label 2, features [7.2 3.  5.8 1.6]\n",
      "Example 130: label 2, features [7.4 2.8 6.1 1.9]\n",
      "Example 131: label 2, features [7.9 3.8 6.4 2. ]\n",
      "Example 132: label 2, features [6.4 2.8 5.6 2.2]\n",
      "Example 133: label 2, features [6.3 2.8 5.1 1.5]\n",
      "Example 134: label 2, features [6.1 2.6 5.6 1.4]\n",
      "Example 135: label 2, features [7.7 3.  6.1 2.3]\n",
      "Example 136: label 2, features [6.3 3.4 5.6 2.4]\n",
      "Example 137: label 2, features [6.4 3.1 5.5 1.8]\n",
      "Example 138: label 2, features [6.  3.  4.8 1.8]\n",
      "Example 139: label 2, features [6.9 3.1 5.4 2.1]\n",
      "Example 140: label 2, features [6.7 3.1 5.6 2.4]\n",
      "Example 141: label 2, features [6.9 3.1 5.1 2.3]\n",
      "Example 142: label 2, features [5.8 2.7 5.1 1.9]\n",
      "Example 143: label 2, features [6.8 3.2 5.9 2.3]\n",
      "Example 144: label 2, features [6.7 3.3 5.7 2.5]\n",
      "Example 145: label 2, features [6.7 3.  5.2 2.3]\n",
      "Example 146: label 2, features [6.3 2.5 5.  1.9]\n",
      "Example 147: label 2, features [6.5 3.  5.2 2. ]\n",
      "Example 148: label 2, features [6.2 3.4 5.4 2.3]\n",
      "Example 149: label 2, features [5.9 3.  5.1 1.8]\n"
     ]
    }
   ],
   "source": [
    "for i in range(len(iris.target)):\n",
    "    print(\"Example %d: label %s, features %s\" % (i, iris.target[i], iris.data[i]))"
   ]
  },
  {
   "cell_type": "code",
   "execution_count": 25,
   "metadata": {},
   "outputs": [
    {
     "data": {
      "text/plain": [
       "<matplotlib.legend.Legend at 0x1a54eedd550>"
      ]
     },
     "execution_count": 25,
     "metadata": {},
     "output_type": "execute_result"
    },
    {
     "data": {
      "image/png": "[encoded data removed]",
      "text/plain": [
       "<Figure size 432x288 with 1 Axes>"
      ]
     },
     "metadata": {
      "needs_background": "light"
     },
     "output_type": "display_data"
    }
   ],
   "source": [
    "import matplotlib.pyplot as plt\n",
    "sepal = iris.data[:, 0:2]\n",
    "kind = iris.target\n",
    "plt.xlabel('Sepal Length')\n",
    "plt.ylabel('Sepal Width')\n",
    "plt.plot(sepal[kind==0][:,0], sepal[kind==0][:,1],\"ro\", label='Setosa')\n",
    "plt.plot(sepal[kind==1][:,0], sepal[kind==1][:,1],\"bo\", label='Versicolor')\n",
    "plt.plot(sepal[kind==2][:,0], sepal[kind==2][:,1],\"yo\", label='Virginica')\n",
    "plt.legend()"
   ]
  },
  {
   "cell_type": "code",
   "execution_count": 20,
   "metadata": {},
   "outputs": [
    {
     "name": "stdout",
     "output_type": "stream",
     "text": [
      "(120, 4)\n",
      "(30, 4)\n"
     ]
    }
   ],
   "source": [
    "from sklearn.datasets import load_iris\n",
    "iris = load_iris()\n",
    "#print(iris.data)\n",
    "from sklearn.model_selection import train_test_split\n",
    "X = iris.data\n",
    "y = iris.target\n",
    "# (80:20)으로 분할한다. \n",
    "X_train,X_test,y_train,y_test = train_test_split(X,y,test_size=0.2,random_state=4)\n",
    "print(X_train.shape)\n",
    "print(X_test.shape)"
   ]
  },
  {
   "cell_type": "code",
   "execution_count": 21,
   "metadata": {},
   "outputs": [
    {
     "data": {
      "text/plain": [
       "0.9666666666666667"
      ]
     },
     "execution_count": 21,
     "metadata": {},
     "output_type": "execute_result"
    }
   ],
   "source": [
    "from sklearn.neighbors import KNeighborsClassifier\n",
    "from sklearn import metrics\n",
    "knn = KNeighborsClassifier(n_neighbors=6) #주변 6개 탐색\n",
    "knn.fit(X_train, y_train)\n",
    "y_pred = knn.predict(X_test)\n",
    "scores = metrics.accuracy_score(y_test, y_pred)\n",
    "scores"
   ]
  },
  {
   "cell_type": "code",
   "execution_count": 22,
   "metadata": {},
   "outputs": [
    {
     "name": "stdout",
     "output_type": "stream",
     "text": [
      "versicolor\n",
      "setosa\n"
     ]
    }
   ],
   "source": [
    "knn = KNeighborsClassifier(n_neighbors=5) #주변 5개 탐색\n",
    "knn.fit(X, y)\n",
    "#0 = setosa, 1=versicolor, 2=virginica\n",
    "classes = {0:'setosa',1:'versicolor',2:'virginica'}\n",
    "# 아직 보지 못한 새로운 데이터를 제시해보자. \n",
    "x_new = [[3,4,5,2],\n",
    "[5,4,2,2]]\n",
    "y_predict = knn.predict(x_new)\n",
    "print(classes[y_predict[0]])\n",
    "print(classes[y_predict[1]])"
   ]
  }
 ],
 "metadata": {
  "kernelspec": {
   "display_name": "Python 3",
   "language": "python",
   "name": "python3"
  },
  "language_info": {
   "codemirror_mode": {
    "name": "ipython",
    "version": 3
   },
   "file_extension": ".py",
   "mimetype": "text/x-python",
   "name": "python",
   "nbconvert_exporter": "python",
   "pygments_lexer": "ipython3",
   "version": "3.8.9"
  }
 },
 "nbformat": 4,
 "nbformat_minor": 2
}
