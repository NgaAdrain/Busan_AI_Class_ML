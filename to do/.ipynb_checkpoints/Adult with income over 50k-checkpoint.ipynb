{
 "cells": [
  {
   "cell_type": "markdown",
   "id": "00b08f07",
   "metadata": {},
   "source": [
    "# 대략적 진행 개요"
   ]
  },
  {
   "cell_type": "markdown",
   "id": "0fe7811d",
   "metadata": {},
   "source": [
    "1. csv 파일 pandas를 이용해서 read_csv하기"
   ]
  },
  {
   "cell_type": "markdown",
   "id": "51842eaa",
   "metadata": {},
   "source": [
    "2. adult 데이터 feature 분석하기"
   ]
  },
  {
   "cell_type": "markdown",
   "id": "7e0fbf63",
   "metadata": {},
   "source": [
    "3. 분석한 feature에서 데이터 선별"
   ]
  },
  {
   "cell_type": "markdown",
   "id": "41b9e56e",
   "metadata": {},
   "source": [
    "4. 선별된 데이터에서 무의미 데이터, NaN 데이터 대체 (outlier, null)"
   ]
  },
  {
   "cell_type": "markdown",
   "id": "cbc6441c",
   "metadata": {},
   "source": [
    "5. 스케일러를 사용하여 데이터 전처리"
   ]
  },
  {
   "cell_type": "markdown",
   "id": "ee37a03a",
   "metadata": {},
   "source": [
    "6. 분류기 작성 및 학습"
   ]
  },
  {
   "cell_type": "markdown",
   "id": "a848fb61",
   "metadata": {},
   "source": [
    "7. 테스트 및 평가"
   ]
  },
  {
   "cell_type": "markdown",
   "id": "b7852983",
   "metadata": {},
   "source": [
    "## 필요 모듈 import"
   ]
  },
  {
   "cell_type": "code",
   "execution_count": 1,
   "id": "c70c32b3",
   "metadata": {},
   "outputs": [],
   "source": [
    "from sklearn.tree import DecisionTreeClassifier\n",
    "from sklearn.ensemble import RandomForestClassifier\n",
    "from sklearn.linear_model import LogisticRegression\n",
    "\n",
    "from sklearn.model_selection import train_test_split\n",
    "from sklearn.model_selection import cross_val_score , cross_validate\n",
    "\n",
    "from sklearn.metrics import classification_report, confusion_matrix\n",
    "from sklearn.metrics import accuracy_score, precision_score , recall_score , f1_score , roc_auc_score , confusion_matrix\n",
    "\n",
    "from sklearn.model_selection import KFold\n",
    "from sklearn.model_selection import StratifiedKFold\n",
    "from sklearn.model_selection import GridSearchCV\n",
    "\n",
    "from sklearn.preprocessing import StandardScaler\n",
    "from sklearn.preprocessing import MinMaxScaler\n",
    "from sklearn.preprocessing import Binarizer\n",
    "\n",
    "import graphviz\n",
    "from sklearn.tree import export_graphviz\n",
    "from IPython.display import display\n",
    "\n",
    "import numpy as np\n",
    "import pandas as pd\n",
    "import matplotlib.pyplot as plt\n",
    "import seaborn as sns"
   ]
  },
  {
   "cell_type": "markdown",
   "id": "bd0d2f0a",
   "metadata": {},
   "source": [
    "## read csv"
   ]
  },
  {
   "cell_type": "code",
   "execution_count": 2,
   "id": "bf2cddb4",
   "metadata": {},
   "outputs": [
    {
     "data": {
      "text/html": [
       "<div>\n",
       "<style scoped>\n",
       "    .dataframe tbody tr th:only-of-type {\n",
       "        vertical-align: middle;\n",
       "    }\n",
       "\n",
       "    .dataframe tbody tr th {\n",
       "        vertical-align: top;\n",
       "    }\n",
       "\n",
       "    .dataframe thead th {\n",
       "        text-align: right;\n",
       "    }\n",
       "</style>\n",
       "<table border=\"1\" class=\"dataframe\">\n",
       "  <thead>\n",
       "    <tr style=\"text-align: right;\">\n",
       "      <th></th>\n",
       "      <th>age</th>\n",
       "      <th>workclass</th>\n",
       "      <th>fnlwgt</th>\n",
       "      <th>education</th>\n",
       "      <th>education-num</th>\n",
       "      <th>marital-status</th>\n",
       "      <th>occupation</th>\n",
       "      <th>relationship</th>\n",
       "      <th>race</th>\n",
       "      <th>sex</th>\n",
       "      <th>capital-gain</th>\n",
       "      <th>capital-loss</th>\n",
       "      <th>hours-per-week</th>\n",
       "      <th>native-country</th>\n",
       "      <th>income</th>\n",
       "    </tr>\n",
       "  </thead>\n",
       "  <tbody>\n",
       "    <tr>\n",
       "      <th>0</th>\n",
       "      <td>25</td>\n",
       "      <td>Private</td>\n",
       "      <td>226802</td>\n",
       "      <td>11th</td>\n",
       "      <td>7</td>\n",
       "      <td>Never-married</td>\n",
       "      <td>Machine-op-inspct</td>\n",
       "      <td>Own-child</td>\n",
       "      <td>Black</td>\n",
       "      <td>Male</td>\n",
       "      <td>0</td>\n",
       "      <td>0</td>\n",
       "      <td>40</td>\n",
       "      <td>United-States</td>\n",
       "      <td>&lt;=50K.</td>\n",
       "    </tr>\n",
       "    <tr>\n",
       "      <th>1</th>\n",
       "      <td>38</td>\n",
       "      <td>Private</td>\n",
       "      <td>89814</td>\n",
       "      <td>HS-grad</td>\n",
       "      <td>9</td>\n",
       "      <td>Married-civ-spouse</td>\n",
       "      <td>Farming-fishing</td>\n",
       "      <td>Husband</td>\n",
       "      <td>White</td>\n",
       "      <td>Male</td>\n",
       "      <td>0</td>\n",
       "      <td>0</td>\n",
       "      <td>50</td>\n",
       "      <td>United-States</td>\n",
       "      <td>&lt;=50K.</td>\n",
       "    </tr>\n",
       "    <tr>\n",
       "      <th>2</th>\n",
       "      <td>28</td>\n",
       "      <td>Local-gov</td>\n",
       "      <td>336951</td>\n",
       "      <td>Assoc-acdm</td>\n",
       "      <td>12</td>\n",
       "      <td>Married-civ-spouse</td>\n",
       "      <td>Protective-serv</td>\n",
       "      <td>Husband</td>\n",
       "      <td>White</td>\n",
       "      <td>Male</td>\n",
       "      <td>0</td>\n",
       "      <td>0</td>\n",
       "      <td>40</td>\n",
       "      <td>United-States</td>\n",
       "      <td>&gt;50K.</td>\n",
       "    </tr>\n",
       "    <tr>\n",
       "      <th>3</th>\n",
       "      <td>44</td>\n",
       "      <td>Private</td>\n",
       "      <td>160323</td>\n",
       "      <td>Some-college</td>\n",
       "      <td>10</td>\n",
       "      <td>Married-civ-spouse</td>\n",
       "      <td>Machine-op-inspct</td>\n",
       "      <td>Husband</td>\n",
       "      <td>Black</td>\n",
       "      <td>Male</td>\n",
       "      <td>7688</td>\n",
       "      <td>0</td>\n",
       "      <td>40</td>\n",
       "      <td>United-States</td>\n",
       "      <td>&gt;50K.</td>\n",
       "    </tr>\n",
       "    <tr>\n",
       "      <th>4</th>\n",
       "      <td>18</td>\n",
       "      <td>?</td>\n",
       "      <td>103497</td>\n",
       "      <td>Some-college</td>\n",
       "      <td>10</td>\n",
       "      <td>Never-married</td>\n",
       "      <td>?</td>\n",
       "      <td>Own-child</td>\n",
       "      <td>White</td>\n",
       "      <td>Female</td>\n",
       "      <td>0</td>\n",
       "      <td>0</td>\n",
       "      <td>30</td>\n",
       "      <td>United-States</td>\n",
       "      <td>&lt;=50K.</td>\n",
       "    </tr>\n",
       "    <tr>\n",
       "      <th>5</th>\n",
       "      <td>34</td>\n",
       "      <td>Private</td>\n",
       "      <td>198693</td>\n",
       "      <td>10th</td>\n",
       "      <td>6</td>\n",
       "      <td>Never-married</td>\n",
       "      <td>Other-service</td>\n",
       "      <td>Not-in-family</td>\n",
       "      <td>White</td>\n",
       "      <td>Male</td>\n",
       "      <td>0</td>\n",
       "      <td>0</td>\n",
       "      <td>30</td>\n",
       "      <td>United-States</td>\n",
       "      <td>&lt;=50K.</td>\n",
       "    </tr>\n",
       "    <tr>\n",
       "      <th>6</th>\n",
       "      <td>29</td>\n",
       "      <td>?</td>\n",
       "      <td>227026</td>\n",
       "      <td>HS-grad</td>\n",
       "      <td>9</td>\n",
       "      <td>Never-married</td>\n",
       "      <td>?</td>\n",
       "      <td>Unmarried</td>\n",
       "      <td>Black</td>\n",
       "      <td>Male</td>\n",
       "      <td>0</td>\n",
       "      <td>0</td>\n",
       "      <td>40</td>\n",
       "      <td>United-States</td>\n",
       "      <td>&lt;=50K.</td>\n",
       "    </tr>\n",
       "    <tr>\n",
       "      <th>7</th>\n",
       "      <td>63</td>\n",
       "      <td>Self-emp-not-inc</td>\n",
       "      <td>104626</td>\n",
       "      <td>Prof-school</td>\n",
       "      <td>15</td>\n",
       "      <td>Married-civ-spouse</td>\n",
       "      <td>Prof-specialty</td>\n",
       "      <td>Husband</td>\n",
       "      <td>White</td>\n",
       "      <td>Male</td>\n",
       "      <td>3103</td>\n",
       "      <td>0</td>\n",
       "      <td>32</td>\n",
       "      <td>United-States</td>\n",
       "      <td>&gt;50K.</td>\n",
       "    </tr>\n",
       "    <tr>\n",
       "      <th>8</th>\n",
       "      <td>24</td>\n",
       "      <td>Private</td>\n",
       "      <td>369667</td>\n",
       "      <td>Some-college</td>\n",
       "      <td>10</td>\n",
       "      <td>Never-married</td>\n",
       "      <td>Other-service</td>\n",
       "      <td>Unmarried</td>\n",
       "      <td>White</td>\n",
       "      <td>Female</td>\n",
       "      <td>0</td>\n",
       "      <td>0</td>\n",
       "      <td>40</td>\n",
       "      <td>United-States</td>\n",
       "      <td>&lt;=50K.</td>\n",
       "    </tr>\n",
       "    <tr>\n",
       "      <th>9</th>\n",
       "      <td>55</td>\n",
       "      <td>Private</td>\n",
       "      <td>104996</td>\n",
       "      <td>7th-8th</td>\n",
       "      <td>4</td>\n",
       "      <td>Married-civ-spouse</td>\n",
       "      <td>Craft-repair</td>\n",
       "      <td>Husband</td>\n",
       "      <td>White</td>\n",
       "      <td>Male</td>\n",
       "      <td>0</td>\n",
       "      <td>0</td>\n",
       "      <td>10</td>\n",
       "      <td>United-States</td>\n",
       "      <td>&lt;=50K.</td>\n",
       "    </tr>\n",
       "  </tbody>\n",
       "</table>\n",
       "</div>"
      ],
      "text/plain": [
       "   age          workclass  fnlwgt      education  education-num  \\\n",
       "0   25            Private  226802           11th              7   \n",
       "1   38            Private   89814        HS-grad              9   \n",
       "2   28          Local-gov  336951     Assoc-acdm             12   \n",
       "3   44            Private  160323   Some-college             10   \n",
       "4   18                  ?  103497   Some-college             10   \n",
       "5   34            Private  198693           10th              6   \n",
       "6   29                  ?  227026        HS-grad              9   \n",
       "7   63   Self-emp-not-inc  104626    Prof-school             15   \n",
       "8   24            Private  369667   Some-college             10   \n",
       "9   55            Private  104996        7th-8th              4   \n",
       "\n",
       "        marital-status          occupation    relationship    race      sex  \\\n",
       "0        Never-married   Machine-op-inspct       Own-child   Black     Male   \n",
       "1   Married-civ-spouse     Farming-fishing         Husband   White     Male   \n",
       "2   Married-civ-spouse     Protective-serv         Husband   White     Male   \n",
       "3   Married-civ-spouse   Machine-op-inspct         Husband   Black     Male   \n",
       "4        Never-married                   ?       Own-child   White   Female   \n",
       "5        Never-married       Other-service   Not-in-family   White     Male   \n",
       "6        Never-married                   ?       Unmarried   Black     Male   \n",
       "7   Married-civ-spouse      Prof-specialty         Husband   White     Male   \n",
       "8        Never-married       Other-service       Unmarried   White   Female   \n",
       "9   Married-civ-spouse        Craft-repair         Husband   White     Male   \n",
       "\n",
       "   capital-gain  capital-loss  hours-per-week  native-country   income  \n",
       "0             0             0              40   United-States   <=50K.  \n",
       "1             0             0              50   United-States   <=50K.  \n",
       "2             0             0              40   United-States    >50K.  \n",
       "3          7688             0              40   United-States    >50K.  \n",
       "4             0             0              30   United-States   <=50K.  \n",
       "5             0             0              30   United-States   <=50K.  \n",
       "6             0             0              40   United-States   <=50K.  \n",
       "7          3103             0              32   United-States    >50K.  \n",
       "8             0             0              40   United-States   <=50K.  \n",
       "9             0             0              10   United-States   <=50K.  "
      ]
     },
     "execution_count": 2,
     "metadata": {},
     "output_type": "execute_result"
    }
   ],
   "source": [
    "%matplotlib inline\n",
    "\n",
    "adult_train = pd.read_csv('./adult_data/adult_data.csv')\n",
    "adult_test = pd.read_csv('./adult_data/adult_test.csv')\n",
    "adult_train.head(3)\n",
    "adult_test.head(10)"
   ]
  },
  {
   "cell_type": "markdown",
   "id": "97987126",
   "metadata": {},
   "source": [
    "## Feature Analysis"
   ]
  },
  {
   "cell_type": "code",
   "execution_count": 3,
   "id": "387edb44",
   "metadata": {},
   "outputs": [],
   "source": [
    "workclass = [' Private',' Self-emp-not-inc',' Self-emp-inc',' Federal-gov',' Local-gov',' State-gov',' Without-pay',' Never-worked.']\n",
    "\n",
    "education = [' Bachelors',' Some-college',' 11th',' HS-grad',' Prof-school',' Assoc-acdm',' Assoc-voc',' 9th',' 7th-8th',' 12th',' Masters',' 1st-4th',' 10th',' Doctorate',' 5th-6th',' Preschool']\n",
    "\n",
    "marital_status = [' Married-civ-spouse',' Divorced',' Never-married',' Separated',' Widowed',' Married-spouse-absent',' Married-AF-spouse']\n",
    "\n",
    "occupation = [' Tech-support',' Craft-repair',' Other-service',' Sales',' Exec-managerial',' Prof-specialty',' Handlers-cleaners',' Machine-op-inspct',' Adm-clerical',' Farming-fishing',' Transport-moving',' Priv-house-serv',' Protective-serv',' Armed-Forces']\n",
    "    \n",
    "relationship= [' Wife',' Own-child',' Husband',' Not-in-family',' Other-relative',' Unmarried']\n",
    "    \n",
    "race = [' White',' Asian-Pac-Islander',' Amer-Indian-Eskimo',' Other',' Black']\n",
    "\n",
    "sex = [' Female',' Male']\n",
    "    \n",
    "native_country = [' United-States',' Cambodia',' England',' Puerto-Rico',' Canada',' Germany',' Outlying-US(Guam-USVI-etc)',' India',' Japan',' Greece',' South',' China',' Cuba',' Iran',' Honduras',' Philippines',' Italy',' Poland',' Jamaica',' Vietnam',' Mexico',' Portugal',' Ireland',' France',' Dominican-Republic',' Laos',' Ecuador',' Taiwan',' Haiti',' Columbia',' Hungary',' Guatemala',' Nicaragua',' Scotland',' Thailand',' Yugoslavia',' El-Salvador',' Trinadad&Tobago',' Peru',' Hong', 'Holand-Netherlands']"
   ]
  },
  {
   "cell_type": "markdown",
   "id": "ef3eb049",
   "metadata": {},
   "source": [
    "========================Features========================<br>\n",
    "- income >50K, <=50K.<br>\n",
    "1. <b>age</b>: continuous.<br>\n",
    "2. <b>workclass</b>: Private, Self-emp-not-inc, Self-emp-inc, Federal-gov, Local-gov, State-gov, Without-pay, Never-worked.<br>\n",
    "3. <b>fnlwgt</b>: continuous. #final weight<br>\n",
    "4. <b>education</b>: Bachelors, Some-college, 11th, HS-grad, Prof-school, Assoc-acdm, Assoc-voc, 9th, 7th-8th, 12th, Masters, 1st-4th, 10th, Doctorate, 5th-6th, Preschool.<br>\n",
    "5. <b>education-num</b>: continuous.<br>\n",
    "6. <b>marital-status</b>: Married-civ-spouse, Divorced, Never-married, Separated, Widowed, Married-spouse-absent, Married-AF-spouse.<br>\n",
    "7. <b>occupation</b>: Tech-support, Craft-repair, Other-service, Sales, Exec-managerial, Prof-specialty, Handlers-cleaners, Machine-op-inspct, Adm-clerical, Farming-fishing, Transport-moving, Priv-house-serv, Protective-serv, Armed-Forces.<br>\n",
    "8. <b>relationship</b>: Wife, Own-child, Husband, Not-in-family, Other-relative, Unmarried.<br>\n",
    "9. <b>race</b>: White, Asian-Pac-Islander, Amer-Indian-Eskimo, Other, Black.<br>\n",
    "10. <b>sex</b>: Female, Male.<br>\n",
    "11. <b>capital-gain</b>: continuous. #자본 이득<br>\n",
    "12. <b>capital-loss</b>: continuous.  #자본 손실<br>\n",
    "13. <b>hours-per-week</b>: continuous.<br>\n",
    "14. <b>native-country</b>: United-States, Cambodia, England, Puerto-Rico, Canada, Germany, Outlying-US(Guam-USVI-etc), India, Japan, Greece, South, China, Cuba, Iran, Honduras, Philippines, Italy, Poland, Jamaica, Vietnam, Mexico, Portugal, Ireland, France, Dominican-Republic, Laos, Ecuador, Taiwan, Haiti, Columbia, Hungary, Guatemala, Nicaragua, Scotland, Thailand, Yugoslavia, El-Salvador, Trinadad&Tobago, Peru, Hong, Holand-Netherlands.<br>\n",
    "\n",
    "=========================================<br>\n",
    "Class Distribution:<br>\n",
    "Probability for the label '>50K' : 23.93% / 24.78% (without unknowns)<br>\n",
    "Probability for the label '<=50K' : 76.07% / 75.22% (without unknowns)<br>\n",
    "=========================================<br>\n",
    "Missing Attribute Values:<br>\n",
    "7% have missing values.<br>"
   ]
  },
  {
   "cell_type": "code",
   "execution_count": 4,
   "id": "b747019e",
   "metadata": {},
   "outputs": [
    {
     "name": "stdout",
     "output_type": "stream",
     "text": [
      "\n",
      " ### train 데이터 정보 ###  \n",
      "\n",
      "<class 'pandas.core.frame.DataFrame'>\n",
      "RangeIndex: 32561 entries, 0 to 32560\n",
      "Data columns (total 15 columns):\n",
      " #   Column          Non-Null Count  Dtype \n",
      "---  ------          --------------  ----- \n",
      " 0   age             32561 non-null  int64 \n",
      " 1   workclass       32561 non-null  object\n",
      " 2   fnlwgt          32561 non-null  int64 \n",
      " 3   education       32561 non-null  object\n",
      " 4   education-num   32561 non-null  int64 \n",
      " 5   marital-status  32561 non-null  object\n",
      " 6   occupation      32561 non-null  object\n",
      " 7   relationship    32561 non-null  object\n",
      " 8   race            32561 non-null  object\n",
      " 9   sex             32561 non-null  object\n",
      " 10  capital-gain    32561 non-null  int64 \n",
      " 11  capital-loss    32561 non-null  int64 \n",
      " 12  hours-per-week  32561 non-null  int64 \n",
      " 13  native-country  32561 non-null  object\n",
      " 14  income          32561 non-null  object\n",
      "dtypes: int64(6), object(9)\n",
      "memory usage: 3.7+ MB\n",
      "None\n"
     ]
    }
   ],
   "source": [
    "print('\\n ### train 데이터 정보 ###  \\n')\n",
    "print(adult_train.info())"
   ]
  },
  {
   "cell_type": "markdown",
   "id": "4773cf87",
   "metadata": {},
   "source": [
    "수정 필요한 feature:\n",
    "1. <b>workclass</b>\n",
    "2. <b>education</b>\n",
    "3. <b>marital-status</b>\n",
    "4. <b>occupation</b>\n",
    "5. <b>relationship</b>\n",
    "6. <b>race</b>\n",
    "7. <b>sex</b>\n",
    "8. <b>native-country</b>\n",
    "9. <b>income</b>\n",
    "\n",
    "\n",
    "모든 데이터에서 NaN은 ?로 되어있다\n",
    "=> 이를 NaN으로 바꿀 필요성 존재"
   ]
  },
  {
   "cell_type": "markdown",
   "id": "f85a7713",
   "metadata": {},
   "source": [
    "?를 NaN으로 치환하여 feature별 NaN 개수를 구해야 한다."
   ]
  },
  {
   "cell_type": "markdown",
   "id": "3c9f57e9",
   "metadata": {},
   "source": [
    "<b>integer type</b>"
   ]
  },
  {
   "cell_type": "code",
   "execution_count": 5,
   "id": "9e47e3fa",
   "metadata": {},
   "outputs": [
    {
     "name": "stdout",
     "output_type": "stream",
     "text": [
      "35    461\n",
      "33    460\n",
      "23    452\n",
      "36    450\n",
      "38    437\n",
      "     ... \n",
      "82      3\n",
      "88      3\n",
      "85      2\n",
      "89      2\n",
      "87      2\n",
      "Name: age, Length: 73, dtype: int64\n"
     ]
    }
   ],
   "source": [
    "print(adult_test['age'].value_counts())"
   ]
  },
  {
   "cell_type": "code",
   "execution_count": 6,
   "id": "31f4d074",
   "metadata": {},
   "outputs": [
    {
     "name": "stdout",
     "output_type": "stream",
     "text": [
      "136986    9\n",
      "190290    8\n",
      "125892    8\n",
      "203488    8\n",
      "127651    8\n",
      "         ..\n",
      "284701    1\n",
      "344094    1\n",
      "75140     1\n",
      "342049    1\n",
      "145522    1\n",
      "Name: fnlwgt, Length: 12787, dtype: int64\n"
     ]
    }
   ],
   "source": [
    "print(adult_test['fnlwgt'].value_counts())"
   ]
  },
  {
   "cell_type": "code",
   "execution_count": 7,
   "id": "d8d749ef",
   "metadata": {},
   "outputs": [
    {
     "name": "stdout",
     "output_type": "stream",
     "text": [
      "9     5283\n",
      "10    3587\n",
      "13    2670\n",
      "14     934\n",
      "11     679\n",
      "7      637\n",
      "12     534\n",
      "6      456\n",
      "4      309\n",
      "15     258\n",
      "5      242\n",
      "8      224\n",
      "16     181\n",
      "3      176\n",
      "2       79\n",
      "1       32\n",
      "Name: education-num, dtype: int64\n"
     ]
    }
   ],
   "source": [
    "print(adult_test['education-num'].value_counts())"
   ]
  },
  {
   "cell_type": "code",
   "execution_count": 8,
   "id": "9d28311f",
   "metadata": {},
   "outputs": [
    {
     "name": "stdout",
     "output_type": "stream",
     "text": [
      "0        14958\n",
      "15024      166\n",
      "7688       126\n",
      "7298       118\n",
      "99999       85\n",
      "         ...  \n",
      "7896         1\n",
      "4687         1\n",
      "6097         1\n",
      "2036         1\n",
      "1424         1\n",
      "Name: capital-gain, Length: 113, dtype: int64\n"
     ]
    }
   ],
   "source": [
    "print(adult_test['capital-gain'].value_counts())"
   ]
  },
  {
   "cell_type": "code",
   "execution_count": 9,
   "id": "d3758197",
   "metadata": {},
   "outputs": [
    {
     "name": "stdout",
     "output_type": "stream",
     "text": [
      "0       15518\n",
      "1902      102\n",
      "1977       85\n",
      "1887       74\n",
      "2415       23\n",
      "        ...  \n",
      "2547        1\n",
      "1594        1\n",
      "2282        1\n",
      "1421        1\n",
      "1911        1\n",
      "Name: capital-loss, Length: 82, dtype: int64\n"
     ]
    }
   ],
   "source": [
    "print(adult_test['capital-loss'].value_counts())"
   ]
  },
  {
   "cell_type": "code",
   "execution_count": 10,
   "id": "da91262e",
   "metadata": {},
   "outputs": [
    {
     "name": "stdout",
     "output_type": "stream",
     "text": [
      "40    7586\n",
      "50    1427\n",
      "45     893\n",
      "60     702\n",
      "35     640\n",
      "      ... \n",
      "92       2\n",
      "89       1\n",
      "76       1\n",
      "69       1\n",
      "79       1\n",
      "Name: hours-per-week, Length: 89, dtype: int64\n"
     ]
    }
   ],
   "source": [
    "print(adult_test['hours-per-week'].value_counts())"
   ]
  },
  {
   "cell_type": "markdown",
   "id": "bb610e93",
   "metadata": {},
   "source": [
    "<b>object type</b>"
   ]
  },
  {
   "cell_type": "code",
   "execution_count": 11,
   "id": "546b666d",
   "metadata": {},
   "outputs": [
    {
     "name": "stdout",
     "output_type": "stream",
     "text": [
      " Private             11210\n",
      " Self-emp-not-inc     1321\n",
      " Local-gov            1043\n",
      " ?                     963\n",
      " State-gov             683\n",
      " Self-emp-inc          579\n",
      " Federal-gov           472\n",
      " Without-pay             7\n",
      " Never-worked            3\n",
      "Name: workclass, dtype: int64\n"
     ]
    }
   ],
   "source": [
    "print(adult_test['workclass'].value_counts())"
   ]
  },
  {
   "cell_type": "code",
   "execution_count": 12,
   "id": "985e7bd1",
   "metadata": {},
   "outputs": [
    {
     "name": "stdout",
     "output_type": "stream",
     "text": [
      " HS-grad         5283\n",
      " Some-college    3587\n",
      " Bachelors       2670\n",
      " Masters          934\n",
      " Assoc-voc        679\n",
      " 11th             637\n",
      " Assoc-acdm       534\n",
      " 10th             456\n",
      " 7th-8th          309\n",
      " Prof-school      258\n",
      " 9th              242\n",
      " 12th             224\n",
      " Doctorate        181\n",
      " 5th-6th          176\n",
      " 1st-4th           79\n",
      " Preschool         32\n",
      "Name: education, dtype: int64\n"
     ]
    }
   ],
   "source": [
    "print(adult_test['education'].value_counts())"
   ]
  },
  {
   "cell_type": "code",
   "execution_count": 13,
   "id": "0caf6cc8",
   "metadata": {},
   "outputs": [
    {
     "name": "stdout",
     "output_type": "stream",
     "text": [
      " Married-civ-spouse       7403\n",
      " Never-married            5434\n",
      " Divorced                 2190\n",
      " Widowed                   525\n",
      " Separated                 505\n",
      " Married-spouse-absent     210\n",
      " Married-AF-spouse          14\n",
      "Name: marital-status, dtype: int64\n"
     ]
    }
   ],
   "source": [
    "print(adult_test['marital-status'].value_counts())"
   ]
  },
  {
   "cell_type": "code",
   "execution_count": 14,
   "id": "5e850289",
   "metadata": {},
   "outputs": [
    {
     "name": "stdout",
     "output_type": "stream",
     "text": [
      " Prof-specialty       2032\n",
      " Exec-managerial      2020\n",
      " Craft-repair         2013\n",
      " Sales                1854\n",
      " Adm-clerical         1841\n",
      " Other-service        1628\n",
      " Machine-op-inspct    1020\n",
      " ?                     966\n",
      " Transport-moving      758\n",
      " Handlers-cleaners     702\n",
      " Tech-support          518\n",
      " Farming-fishing       496\n",
      " Protective-serv       334\n",
      " Priv-house-serv        93\n",
      " Armed-Forces            6\n",
      "Name: occupation, dtype: int64\n"
     ]
    }
   ],
   "source": [
    "print(adult_test['occupation'].value_counts())"
   ]
  },
  {
   "cell_type": "code",
   "execution_count": 15,
   "id": "68173d1e",
   "metadata": {},
   "outputs": [
    {
     "name": "stdout",
     "output_type": "stream",
     "text": [
      " Husband           6523\n",
      " Not-in-family     4278\n",
      " Own-child         2513\n",
      " Unmarried         1679\n",
      " Wife               763\n",
      " Other-relative     525\n",
      "Name: relationship, dtype: int64\n"
     ]
    }
   ],
   "source": [
    "print(adult_test['relationship'].value_counts())"
   ]
  },
  {
   "cell_type": "code",
   "execution_count": 16,
   "id": "1e5e5219",
   "metadata": {},
   "outputs": [
    {
     "name": "stdout",
     "output_type": "stream",
     "text": [
      " White                 13946\n",
      " Black                  1561\n",
      " Asian-Pac-Islander      480\n",
      " Amer-Indian-Eskimo      159\n",
      " Other                   135\n",
      "Name: race, dtype: int64\n"
     ]
    }
   ],
   "source": [
    "print(adult_test['race'].value_counts())"
   ]
  },
  {
   "cell_type": "code",
   "execution_count": 17,
   "id": "54d5a3c3",
   "metadata": {},
   "outputs": [
    {
     "name": "stdout",
     "output_type": "stream",
     "text": [
      " Male      10860\n",
      " Female     5421\n",
      "Name: sex, dtype: int64\n"
     ]
    }
   ],
   "source": [
    "print(adult_test['sex'].value_counts())"
   ]
  },
  {
   "cell_type": "code",
   "execution_count": 18,
   "id": "51e0accd",
   "metadata": {},
   "outputs": [
    {
     "name": "stdout",
     "output_type": "stream",
     "text": [
      " United-States                 14662\n",
      " Mexico                          308\n",
      " ?                               274\n",
      " Philippines                      97\n",
      " Puerto-Rico                      70\n",
      " Germany                          69\n",
      " Canada                           61\n",
      " India                            51\n",
      " El-Salvador                      49\n",
      " China                            47\n",
      " Cuba                             43\n",
      " England                          37\n",
      " South                            35\n",
      " Dominican-Republic               33\n",
      " Italy                            32\n",
      " Haiti                            31\n",
      " Portugal                         30\n",
      " Japan                            30\n",
      " Poland                           27\n",
      " Columbia                         26\n",
      " Jamaica                          25\n",
      " Guatemala                        24\n",
      " Greece                           20\n",
      " Vietnam                          19\n",
      " Ecuador                          17\n",
      " Iran                             16\n",
      " Peru                             15\n",
      " Nicaragua                        15\n",
      " Taiwan                           14\n",
      " Ireland                          13\n",
      " Thailand                         12\n",
      " Hong                             10\n",
      " France                            9\n",
      " Scotland                          9\n",
      " Cambodia                          9\n",
      " Outlying-US(Guam-USVI-etc)        9\n",
      " Trinadad&Tobago                   8\n",
      " Yugoslavia                        7\n",
      " Honduras                          7\n",
      " Hungary                           6\n",
      " Laos                              5\n",
      "Name: native-country, dtype: int64\n"
     ]
    }
   ],
   "source": [
    "print(adult_test['native-country'].value_counts())"
   ]
  },
  {
   "cell_type": "markdown",
   "id": "e6828bef",
   "metadata": {},
   "source": [
    "?가 존재하는 것은 workclass ,occupation ,native-country"
   ]
  },
  {
   "cell_type": "code",
   "execution_count": 19,
   "id": "16fb9665",
   "metadata": {},
   "outputs": [],
   "source": [
    "adult_train = adult_train.replace({' ?'},np.nan)\n",
    "adult_test = adult_test.replace({' ?'},np.nan)\n",
    "#print(adult_test)"
   ]
  },
  {
   "cell_type": "markdown",
   "id": "64d06f42",
   "metadata": {},
   "source": [
    "-> null의 개수 : DataFrame.isnull().sum()"
   ]
  },
  {
   "cell_type": "code",
   "execution_count": 20,
   "id": "ba0fcd03",
   "metadata": {},
   "outputs": [
    {
     "name": "stdout",
     "output_type": "stream",
     "text": [
      "age                  0\n",
      "workclass         1836\n",
      "fnlwgt               0\n",
      "education            0\n",
      "education-num        0\n",
      "marital-status       0\n",
      "occupation        1843\n",
      "relationship         0\n",
      "race                 0\n",
      "sex                  0\n",
      "capital-gain         0\n",
      "capital-loss         0\n",
      "hours-per-week       0\n",
      "native-country     583\n",
      "income               0\n",
      "dtype: int64\n"
     ]
    }
   ],
   "source": [
    "print(adult_train.isnull().sum())"
   ]
  },
  {
   "cell_type": "code",
   "execution_count": 21,
   "id": "0c53a5f1",
   "metadata": {},
   "outputs": [
    {
     "name": "stdout",
     "output_type": "stream",
     "text": [
      "age                 0\n",
      "workclass         963\n",
      "fnlwgt              0\n",
      "education           0\n",
      "education-num       0\n",
      "marital-status      0\n",
      "occupation        966\n",
      "relationship        0\n",
      "race                0\n",
      "sex                 0\n",
      "capital-gain        0\n",
      "capital-loss        0\n",
      "hours-per-week      0\n",
      "native-country    274\n",
      "income              0\n",
      "dtype: int64\n"
     ]
    }
   ],
   "source": [
    "print(adult_test.isnull().sum())"
   ]
  },
  {
   "cell_type": "markdown",
   "id": "debae643",
   "metadata": {},
   "source": [
    "? -> NaN 수정 필요한 feature:\n",
    "1. <b>workclass</b>\n",
    "2. <b>occupation</b>\n",
    "3. <b>native-country</b>"
   ]
  },
  {
   "cell_type": "code",
   "execution_count": 22,
   "id": "536cd19f",
   "metadata": {},
   "outputs": [
    {
     "name": "stdout",
     "output_type": "stream",
     "text": [
      "<class 'pandas.core.frame.DataFrame'>\n",
      "RangeIndex: 32561 entries, 0 to 32560\n",
      "Data columns (total 15 columns):\n",
      " #   Column          Non-Null Count  Dtype \n",
      "---  ------          --------------  ----- \n",
      " 0   age             32561 non-null  int64 \n",
      " 1   workclass       30725 non-null  object\n",
      " 2   fnlwgt          32561 non-null  int64 \n",
      " 3   education       32561 non-null  object\n",
      " 4   education-num   32561 non-null  int64 \n",
      " 5   marital-status  32561 non-null  object\n",
      " 6   occupation      30718 non-null  object\n",
      " 7   relationship    32561 non-null  object\n",
      " 8   race            32561 non-null  object\n",
      " 9   sex             32561 non-null  object\n",
      " 10  capital-gain    32561 non-null  int64 \n",
      " 11  capital-loss    32561 non-null  int64 \n",
      " 12  hours-per-week  32561 non-null  int64 \n",
      " 13  native-country  31978 non-null  object\n",
      " 14  income          32561 non-null  object\n",
      "dtypes: int64(6), object(9)\n",
      "memory usage: 3.7+ MB\n"
     ]
    }
   ],
   "source": [
    "adult_test.head(10)\n",
    "adult_train.info()"
   ]
  },
  {
   "cell_type": "markdown",
   "id": "9fdbcbc4",
   "metadata": {},
   "source": [
    "## 각 속성별 income과의 관계"
   ]
  },
  {
   "cell_type": "markdown",
   "id": "df6b868c",
   "metadata": {},
   "source": [
    "이 부분은 진행해도 되고 나중에 진행해도 됩니다."
   ]
  },
  {
   "cell_type": "code",
   "execution_count": 23,
   "id": "c5d5bf90",
   "metadata": {},
   "outputs": [],
   "source": [
    "from sklearn import preprocessing\n",
    "le = preprocessing.LabelEncoder()\n",
    "le = le.fit(adult_train['income'])\n",
    "adult_train['income'] = le.transform(adult_train['income'])"
   ]
  },
  {
   "cell_type": "markdown",
   "id": "332ea553",
   "metadata": {},
   "source": [
    "y축 값이 숫자가 되어야 해서 위의 LabelEncoder 한줄 가져와서 income가 >50K, <=50K 인거를 0,1로 바꾼것."
   ]
  },
  {
   "cell_type": "code",
   "execution_count": 24,
   "id": "f5bea657",
   "metadata": {},
   "outputs": [],
   "source": [
    "from sklearn import preprocessing"
   ]
  },
  {
   "cell_type": "code",
   "execution_count": 25,
   "id": "81714ea1",
   "metadata": {},
   "outputs": [],
   "source": [
    "le = preprocessing.LabelEncoder()"
   ]
  },
  {
   "cell_type": "code",
   "execution_count": 26,
   "id": "8deb76ee",
   "metadata": {},
   "outputs": [],
   "source": [
    "le = le.fit(adult_train['income'])"
   ]
  },
  {
   "cell_type": "code",
   "execution_count": 27,
   "id": "80bc05a6",
   "metadata": {},
   "outputs": [],
   "source": [
    "adult_train['income'] = le.transform(adult_train['income'])"
   ]
  },
  {
   "cell_type": "code",
   "execution_count": 28,
   "id": "27dd576a",
   "metadata": {},
   "outputs": [
    {
     "data": {
      "text/plain": [
       "0        0\n",
       "1        0\n",
       "2        0\n",
       "3        0\n",
       "4        0\n",
       "        ..\n",
       "32556    0\n",
       "32557    1\n",
       "32558    0\n",
       "32559    0\n",
       "32560    1\n",
       "Name: income, Length: 32561, dtype: int64"
      ]
     },
     "execution_count": 28,
     "metadata": {},
     "output_type": "execute_result"
    }
   ],
   "source": [
    "adult_train['income']"
   ]
  },
  {
   "cell_type": "code",
   "execution_count": 29,
   "id": "b4969140",
   "metadata": {},
   "outputs": [
    {
     "data": {
      "text/plain": [
       "<AxesSubplot:xlabel='sex', ylabel='income'>"
      ]
     },
     "execution_count": 29,
     "metadata": {},
     "output_type": "execute_result"
    },
    {
     "data": {
      "image/png": "[encoded data removed]",
      "text/plain": [
       "<Figure size 432x288 with 1 Axes>"
      ]
     },
     "metadata": {
      "needs_background": "light"
     },
     "output_type": "display_data"
    }
   ],
   "source": [
    "sns.barplot(x='sex', y = 'income', data=adult_train)"
   ]
  },
  {
   "cell_type": "code",
   "execution_count": 30,
   "id": "71bcfd1a",
   "metadata": {},
   "outputs": [
    {
     "data": {
      "text/plain": [
       "<AxesSubplot:xlabel='age', ylabel='income'>"
      ]
     },
     "execution_count": 30,
     "metadata": {},
     "output_type": "execute_result"
    },
    {
     "data": {
      "image/png": "[encoded data removed]",
      "text/plain": [
       "<Figure size 432x288 with 1 Axes>"
      ]
     },
     "metadata": {
      "needs_background": "light"
     },
     "output_type": "display_data"
    }
   ],
   "source": [
    "sns.barplot(x='age', y = 'income', data=adult_train)"
   ]
  },
  {
   "cell_type": "code",
   "execution_count": 31,
   "id": "df4003ab",
   "metadata": {},
   "outputs": [
    {
     "data": {
      "text/plain": [
       "<AxesSubplot:xlabel='education', ylabel='income'>"
      ]
     },
     "execution_count": 31,
     "metadata": {},
     "output_type": "execute_result"
    },
    {
     "data": {
      "image/png": "[encoded data removed]",
      "text/plain": [
       "<Figure size 432x288 with 1 Axes>"
      ]
     },
     "metadata": {
      "needs_background": "light"
     },
     "output_type": "display_data"
    }
   ],
   "source": [
    "sns.barplot(x='education', y = 'income', data=adult_train)"
   ]
  },
  {
   "cell_type": "code",
   "execution_count": 32,
   "id": "2d8fb162",
   "metadata": {},
   "outputs": [
    {
     "data": {
      "text/plain": [
       "<AxesSubplot:xlabel='marital-status', ylabel='income'>"
      ]
     },
     "execution_count": 32,
     "metadata": {},
     "output_type": "execute_result"
    },
    {
     "data": {
      "image/png": "[encoded data removed]",
      "text/plain": [
       "<Figure size 432x288 with 1 Axes>"
      ]
     },
     "metadata": {
      "needs_background": "light"
     },
     "output_type": "display_data"
    }
   ],
   "source": [
    "sns.barplot(x='marital-status', y = 'income', data=adult_train)"
   ]
  },
  {
   "cell_type": "code",
   "execution_count": 33,
   "id": "60a6d9f1",
   "metadata": {},
   "outputs": [
    {
     "data": {
      "text/plain": [
       "<AxesSubplot:xlabel='occupation', ylabel='income'>"
      ]
     },
     "execution_count": 33,
     "metadata": {},
     "output_type": "execute_result"
    },
    {
     "data": {
      "image/png": "[encoded data removed]",
      "text/plain": [
       "<Figure size 432x288 with 1 Axes>"
      ]
     },
     "metadata": {
      "needs_background": "light"
     },
     "output_type": "display_data"
    }
   ],
   "source": [
    "sns.barplot(x='occupation', y = 'income', data=adult_train)"
   ]
  },
  {
   "cell_type": "code",
   "execution_count": 34,
   "id": "12740d41",
   "metadata": {},
   "outputs": [
    {
     "data": {
      "text/plain": [
       "<AxesSubplot:xlabel='relationship', ylabel='income'>"
      ]
     },
     "execution_count": 34,
     "metadata": {},
     "output_type": "execute_result"
    },
    {
     "data": {
      "image/png": "[encoded data removed]",
      "text/plain": [
       "<Figure size 432x288 with 1 Axes>"
      ]
     },
     "metadata": {
      "needs_background": "light"
     },
     "output_type": "display_data"
    }
   ],
   "source": [
    "sns.barplot(x='relationship', y = 'income', data=adult_train)"
   ]
  },
  {
   "cell_type": "code",
   "execution_count": 35,
   "id": "c6be8ca0",
   "metadata": {},
   "outputs": [
    {
     "data": {
      "text/plain": [
       "<AxesSubplot:xlabel='race', ylabel='income'>"
      ]
     },
     "execution_count": 35,
     "metadata": {},
     "output_type": "execute_result"
    },
    {
     "data": {
      "image/png": "[encoded data removed]",
      "text/plain": [
       "<Figure size 432x288 with 1 Axes>"
      ]
     },
     "metadata": {
      "needs_background": "light"
     },
     "output_type": "display_data"
    }
   ],
   "source": [
    "sns.barplot(x='race', y = 'income', data=adult_train)"
   ]
  },
  {
   "cell_type": "markdown",
   "id": "5e986056",
   "metadata": {},
   "source": [
    "## Data(Feature) Selection"
   ]
  },
  {
   "cell_type": "markdown",
   "id": "e48cc8c7",
   "metadata": {},
   "source": [
    "여기부터 다시 진행"
   ]
  },
  {
   "cell_type": "code",
   "execution_count": 30,
   "id": "6bde4349",
   "metadata": {},
   "outputs": [
    {
     "name": "stdout",
     "output_type": "stream",
     "text": [
      "데이터 세트 Null 값 갯수  4262\n"
     ]
    }
   ],
   "source": [
    "print('데이터 세트 Null 값 갯수 ',adult_train.isnull().sum().sum())"
   ]
  },
  {
   "cell_type": "markdown",
   "id": "bfab69ec",
   "metadata": {},
   "source": [
    "## Data Replacement"
   ]
  },
  {
   "cell_type": "markdown",
   "id": "bdb6583d",
   "metadata": {},
   "source": [
    "NaN을 대체해야 한다!\n",
    "1. <b>workclass</b>\n",
    "2. <b>occupation</b>\n",
    "3. <b>native-country</b>"
   ]
  },
  {
   "cell_type": "code",
   "execution_count": 35,
   "id": "24da8564",
   "metadata": {},
   "outputs": [],
   "source": [
    "adult_train['workclass'].fillna('Unknown',inplace=True)\n",
    "adult_train['occupation'].fillna('Unknown',inplace=True)\n",
    "adult_train['native-country'].fillna('Unknown',inplace=True)"
   ]
  },
  {
   "cell_type": "code",
   "execution_count": 36,
   "id": "b3e20016",
   "metadata": {},
   "outputs": [],
   "source": [
    "adult_test['workclass'].fillna('Unknown',inplace=True)\n",
    "adult_test['occupation'].fillna('Unknown',inplace=True)\n",
    "adult_test['native-country'].fillna('Unknown',inplace=True)"
   ]
  },
  {
   "cell_type": "code",
   "execution_count": 37,
   "id": "0016a462",
   "metadata": {},
   "outputs": [
    {
     "name": "stdout",
     "output_type": "stream",
     "text": [
      "데이터 세트 Null 값 갯수  0\n"
     ]
    }
   ],
   "source": [
    "print('데이터 세트 Null 값 갯수 ',adult_train.isnull().sum().sum())"
   ]
  },
  {
   "cell_type": "code",
   "execution_count": 38,
   "id": "8e99f241",
   "metadata": {},
   "outputs": [
    {
     "name": "stdout",
     "output_type": "stream",
     "text": [
      "데이터 세트 Null 값 갯수  0\n"
     ]
    }
   ],
   "source": [
    "print('데이터 세트 Null 값 갯수 ',adult_test.isnull().sum().sum())"
   ]
  },
  {
   "cell_type": "markdown",
   "id": "3085b1cc",
   "metadata": {},
   "source": [
    "object 데이터 -> integer label 데이터"
   ]
  },
  {
   "cell_type": "code",
   "execution_count": 39,
   "id": "eb9fe2f8",
   "metadata": {},
   "outputs": [
    {
     "data": {
      "text/html": [
       "<div>\n",
       "<style scoped>\n",
       "    .dataframe tbody tr th:only-of-type {\n",
       "        vertical-align: middle;\n",
       "    }\n",
       "\n",
       "    .dataframe tbody tr th {\n",
       "        vertical-align: top;\n",
       "    }\n",
       "\n",
       "    .dataframe thead th {\n",
       "        text-align: right;\n",
       "    }\n",
       "</style>\n",
       "<table border=\"1\" class=\"dataframe\">\n",
       "  <thead>\n",
       "    <tr style=\"text-align: right;\">\n",
       "      <th></th>\n",
       "      <th>age</th>\n",
       "      <th>workclass</th>\n",
       "      <th>fnlwgt</th>\n",
       "      <th>education</th>\n",
       "      <th>education-num</th>\n",
       "      <th>marital-status</th>\n",
       "      <th>occupation</th>\n",
       "      <th>relationship</th>\n",
       "      <th>race</th>\n",
       "      <th>sex</th>\n",
       "      <th>capital-gain</th>\n",
       "      <th>capital-loss</th>\n",
       "      <th>hours-per-week</th>\n",
       "      <th>native-country</th>\n",
       "      <th>income</th>\n",
       "    </tr>\n",
       "  </thead>\n",
       "  <tbody>\n",
       "    <tr>\n",
       "      <th>0</th>\n",
       "      <td>25</td>\n",
       "      <td>3</td>\n",
       "      <td>226802</td>\n",
       "      <td>1</td>\n",
       "      <td>7</td>\n",
       "      <td>4</td>\n",
       "      <td>6</td>\n",
       "      <td>3</td>\n",
       "      <td>2</td>\n",
       "      <td>1</td>\n",
       "      <td>0</td>\n",
       "      <td>0</td>\n",
       "      <td>40</td>\n",
       "      <td>37</td>\n",
       "      <td>0</td>\n",
       "    </tr>\n",
       "    <tr>\n",
       "      <th>1</th>\n",
       "      <td>38</td>\n",
       "      <td>3</td>\n",
       "      <td>89814</td>\n",
       "      <td>11</td>\n",
       "      <td>9</td>\n",
       "      <td>2</td>\n",
       "      <td>4</td>\n",
       "      <td>0</td>\n",
       "      <td>4</td>\n",
       "      <td>1</td>\n",
       "      <td>0</td>\n",
       "      <td>0</td>\n",
       "      <td>50</td>\n",
       "      <td>37</td>\n",
       "      <td>0</td>\n",
       "    </tr>\n",
       "    <tr>\n",
       "      <th>2</th>\n",
       "      <td>28</td>\n",
       "      <td>1</td>\n",
       "      <td>336951</td>\n",
       "      <td>7</td>\n",
       "      <td>12</td>\n",
       "      <td>2</td>\n",
       "      <td>10</td>\n",
       "      <td>0</td>\n",
       "      <td>4</td>\n",
       "      <td>1</td>\n",
       "      <td>0</td>\n",
       "      <td>0</td>\n",
       "      <td>40</td>\n",
       "      <td>37</td>\n",
       "      <td>1</td>\n",
       "    </tr>\n",
       "    <tr>\n",
       "      <th>3</th>\n",
       "      <td>44</td>\n",
       "      <td>3</td>\n",
       "      <td>160323</td>\n",
       "      <td>15</td>\n",
       "      <td>10</td>\n",
       "      <td>2</td>\n",
       "      <td>6</td>\n",
       "      <td>0</td>\n",
       "      <td>2</td>\n",
       "      <td>1</td>\n",
       "      <td>7688</td>\n",
       "      <td>0</td>\n",
       "      <td>40</td>\n",
       "      <td>37</td>\n",
       "      <td>1</td>\n",
       "    </tr>\n",
       "    <tr>\n",
       "      <th>4</th>\n",
       "      <td>18</td>\n",
       "      <td>8</td>\n",
       "      <td>103497</td>\n",
       "      <td>15</td>\n",
       "      <td>10</td>\n",
       "      <td>4</td>\n",
       "      <td>14</td>\n",
       "      <td>3</td>\n",
       "      <td>4</td>\n",
       "      <td>0</td>\n",
       "      <td>0</td>\n",
       "      <td>0</td>\n",
       "      <td>30</td>\n",
       "      <td>37</td>\n",
       "      <td>0</td>\n",
       "    </tr>\n",
       "    <tr>\n",
       "      <th>5</th>\n",
       "      <td>34</td>\n",
       "      <td>3</td>\n",
       "      <td>198693</td>\n",
       "      <td>0</td>\n",
       "      <td>6</td>\n",
       "      <td>4</td>\n",
       "      <td>7</td>\n",
       "      <td>1</td>\n",
       "      <td>4</td>\n",
       "      <td>1</td>\n",
       "      <td>0</td>\n",
       "      <td>0</td>\n",
       "      <td>30</td>\n",
       "      <td>37</td>\n",
       "      <td>0</td>\n",
       "    </tr>\n",
       "    <tr>\n",
       "      <th>6</th>\n",
       "      <td>29</td>\n",
       "      <td>8</td>\n",
       "      <td>227026</td>\n",
       "      <td>11</td>\n",
       "      <td>9</td>\n",
       "      <td>4</td>\n",
       "      <td>14</td>\n",
       "      <td>4</td>\n",
       "      <td>2</td>\n",
       "      <td>1</td>\n",
       "      <td>0</td>\n",
       "      <td>0</td>\n",
       "      <td>40</td>\n",
       "      <td>37</td>\n",
       "      <td>0</td>\n",
       "    </tr>\n",
       "    <tr>\n",
       "      <th>7</th>\n",
       "      <td>63</td>\n",
       "      <td>5</td>\n",
       "      <td>104626</td>\n",
       "      <td>14</td>\n",
       "      <td>15</td>\n",
       "      <td>2</td>\n",
       "      <td>9</td>\n",
       "      <td>0</td>\n",
       "      <td>4</td>\n",
       "      <td>1</td>\n",
       "      <td>3103</td>\n",
       "      <td>0</td>\n",
       "      <td>32</td>\n",
       "      <td>37</td>\n",
       "      <td>1</td>\n",
       "    </tr>\n",
       "    <tr>\n",
       "      <th>8</th>\n",
       "      <td>24</td>\n",
       "      <td>3</td>\n",
       "      <td>369667</td>\n",
       "      <td>15</td>\n",
       "      <td>10</td>\n",
       "      <td>4</td>\n",
       "      <td>7</td>\n",
       "      <td>4</td>\n",
       "      <td>4</td>\n",
       "      <td>0</td>\n",
       "      <td>0</td>\n",
       "      <td>0</td>\n",
       "      <td>40</td>\n",
       "      <td>37</td>\n",
       "      <td>0</td>\n",
       "    </tr>\n",
       "    <tr>\n",
       "      <th>9</th>\n",
       "      <td>55</td>\n",
       "      <td>3</td>\n",
       "      <td>104996</td>\n",
       "      <td>5</td>\n",
       "      <td>4</td>\n",
       "      <td>2</td>\n",
       "      <td>2</td>\n",
       "      <td>0</td>\n",
       "      <td>4</td>\n",
       "      <td>1</td>\n",
       "      <td>0</td>\n",
       "      <td>0</td>\n",
       "      <td>10</td>\n",
       "      <td>37</td>\n",
       "      <td>0</td>\n",
       "    </tr>\n",
       "    <tr>\n",
       "      <th>10</th>\n",
       "      <td>65</td>\n",
       "      <td>3</td>\n",
       "      <td>184454</td>\n",
       "      <td>11</td>\n",
       "      <td>9</td>\n",
       "      <td>2</td>\n",
       "      <td>6</td>\n",
       "      <td>0</td>\n",
       "      <td>4</td>\n",
       "      <td>1</td>\n",
       "      <td>6418</td>\n",
       "      <td>0</td>\n",
       "      <td>40</td>\n",
       "      <td>37</td>\n",
       "      <td>1</td>\n",
       "    </tr>\n",
       "    <tr>\n",
       "      <th>11</th>\n",
       "      <td>36</td>\n",
       "      <td>0</td>\n",
       "      <td>212465</td>\n",
       "      <td>9</td>\n",
       "      <td>13</td>\n",
       "      <td>2</td>\n",
       "      <td>0</td>\n",
       "      <td>0</td>\n",
       "      <td>4</td>\n",
       "      <td>1</td>\n",
       "      <td>0</td>\n",
       "      <td>0</td>\n",
       "      <td>40</td>\n",
       "      <td>37</td>\n",
       "      <td>0</td>\n",
       "    </tr>\n",
       "    <tr>\n",
       "      <th>12</th>\n",
       "      <td>26</td>\n",
       "      <td>3</td>\n",
       "      <td>82091</td>\n",
       "      <td>11</td>\n",
       "      <td>9</td>\n",
       "      <td>4</td>\n",
       "      <td>0</td>\n",
       "      <td>1</td>\n",
       "      <td>4</td>\n",
       "      <td>0</td>\n",
       "      <td>0</td>\n",
       "      <td>0</td>\n",
       "      <td>39</td>\n",
       "      <td>37</td>\n",
       "      <td>0</td>\n",
       "    </tr>\n",
       "    <tr>\n",
       "      <th>13</th>\n",
       "      <td>58</td>\n",
       "      <td>8</td>\n",
       "      <td>299831</td>\n",
       "      <td>11</td>\n",
       "      <td>9</td>\n",
       "      <td>2</td>\n",
       "      <td>14</td>\n",
       "      <td>0</td>\n",
       "      <td>4</td>\n",
       "      <td>1</td>\n",
       "      <td>0</td>\n",
       "      <td>0</td>\n",
       "      <td>35</td>\n",
       "      <td>37</td>\n",
       "      <td>0</td>\n",
       "    </tr>\n",
       "    <tr>\n",
       "      <th>14</th>\n",
       "      <td>48</td>\n",
       "      <td>3</td>\n",
       "      <td>279724</td>\n",
       "      <td>11</td>\n",
       "      <td>9</td>\n",
       "      <td>2</td>\n",
       "      <td>6</td>\n",
       "      <td>0</td>\n",
       "      <td>4</td>\n",
       "      <td>1</td>\n",
       "      <td>3103</td>\n",
       "      <td>0</td>\n",
       "      <td>48</td>\n",
       "      <td>37</td>\n",
       "      <td>1</td>\n",
       "    </tr>\n",
       "  </tbody>\n",
       "</table>\n",
       "</div>"
      ],
      "text/plain": [
       "    age  workclass  fnlwgt  education  education-num  marital-status  \\\n",
       "0    25          3  226802          1              7               4   \n",
       "1    38          3   89814         11              9               2   \n",
       "2    28          1  336951          7             12               2   \n",
       "3    44          3  160323         15             10               2   \n",
       "4    18          8  103497         15             10               4   \n",
       "5    34          3  198693          0              6               4   \n",
       "6    29          8  227026         11              9               4   \n",
       "7    63          5  104626         14             15               2   \n",
       "8    24          3  369667         15             10               4   \n",
       "9    55          3  104996          5              4               2   \n",
       "10   65          3  184454         11              9               2   \n",
       "11   36          0  212465          9             13               2   \n",
       "12   26          3   82091         11              9               4   \n",
       "13   58          8  299831         11              9               2   \n",
       "14   48          3  279724         11              9               2   \n",
       "\n",
       "    occupation  relationship  race  sex  capital-gain  capital-loss  \\\n",
       "0            6             3     2    1             0             0   \n",
       "1            4             0     4    1             0             0   \n",
       "2           10             0     4    1             0             0   \n",
       "3            6             0     2    1          7688             0   \n",
       "4           14             3     4    0             0             0   \n",
       "5            7             1     4    1             0             0   \n",
       "6           14             4     2    1             0             0   \n",
       "7            9             0     4    1          3103             0   \n",
       "8            7             4     4    0             0             0   \n",
       "9            2             0     4    1             0             0   \n",
       "10           6             0     4    1          6418             0   \n",
       "11           0             0     4    1             0             0   \n",
       "12           0             1     4    0             0             0   \n",
       "13          14             0     4    1             0             0   \n",
       "14           6             0     4    1          3103             0   \n",
       "\n",
       "    hours-per-week  native-country  income  \n",
       "0               40              37       0  \n",
       "1               50              37       0  \n",
       "2               40              37       1  \n",
       "3               40              37       1  \n",
       "4               30              37       0  \n",
       "5               30              37       0  \n",
       "6               40              37       0  \n",
       "7               32              37       1  \n",
       "8               40              37       0  \n",
       "9               10              37       0  \n",
       "10              40              37       1  \n",
       "11              40              37       0  \n",
       "12              39              37       0  \n",
       "13              35              37       0  \n",
       "14              48              37       1  "
      ]
     },
     "execution_count": 39,
     "metadata": {},
     "output_type": "execute_result"
    }
   ],
   "source": [
    "from sklearn import preprocessing\n",
    "\n",
    "def encode_features(dataDF):\n",
    "    features = ['workclass', 'education', 'marital-status','occupation','relationship','race','sex','native-country','income']\n",
    "    for feature in features:\n",
    "        le = preprocessing.LabelEncoder()\n",
    "        le = le.fit(dataDF[feature])\n",
    "        dataDF[feature] = le.transform(dataDF[feature])\n",
    "        \n",
    "    return dataDF\n",
    "\n",
    "adult_train = encode_features(adult_train)\n",
    "adult_train.head(15)\n",
    "\n",
    "adult_test = encode_features(adult_test)\n",
    "adult_test.head(15) "
   ]
  },
  {
   "cell_type": "markdown",
   "id": "f53cbddb",
   "metadata": {},
   "source": [
    "## Feature importance"
   ]
  },
  {
   "cell_type": "markdown",
   "id": "1a0b5cce",
   "metadata": {},
   "source": [
    "dt_clf, rf_clf, lr_clf를 fit 한 이후에<br>\n",
    "해당 tree가 어떤 feature를 중심으로 학습을 진행했는지를 확인하는 코드<br>\n",
    "이 부분은 classifier를 선언, fit을 진행하고 나서 실행하면 정상 작동합니다."
   ]
  },
  {
   "cell_type": "code",
   "execution_count": 49,
   "id": "39817518",
   "metadata": {},
   "outputs": [
    {
     "data": {
      "image/png": "[encoded data removed]",
      "text/plain": [
       "<Figure size 720x432 with 1 Axes>"
      ]
     },
     "metadata": {
      "needs_background": "light"
     },
     "output_type": "display_data"
    }
   ],
   "source": [
    "ftr_importances_values = dt_clf.feature_importances_\n",
    "# Top 중요도로 정렬을 쉽게 하고, 시본(Seaborn)의 막대그래프로 쉽게 표현하기 위해 Series변환\n",
    "ftr_importances = pd.Series(ftr_importances_values, index=train_x.columns  )\n",
    "# 중요도값 순으로 Series를 정렬\n",
    "ftr_top = ftr_importances.sort_values(ascending=False)\n",
    "plt.figure(figsize=(10,6))\n",
    "plt.title('Feature importances')\n",
    "sns.barplot(x=ftr_top , y = ftr_top.index)\n",
    "plt.show()"
   ]
  },
  {
   "cell_type": "code",
   "execution_count": 50,
   "id": "970e1131",
   "metadata": {},
   "outputs": [
    {
     "data": {
      "image/png": "[encoded data removed]",
      "text/plain": [
       "<Figure size 720x432 with 1 Axes>"
      ]
     },
     "metadata": {
      "needs_background": "light"
     },
     "output_type": "display_data"
    }
   ],
   "source": [
    "ftr_importances_values = rf_clf.feature_importances_\n",
    "# Top 중요도로 정렬을 쉽게 하고, 시본(Seaborn)의 막대그래프로 쉽게 표현하기 위해 Series변환\n",
    "ftr_importances = pd.Series(ftr_importances_values, index=train_x.columns  )\n",
    "# 중요도값 순으로 Series를 정렬\n",
    "ftr_top = ftr_importances.sort_values(ascending=False)\n",
    "plt.figure(figsize=(10,6))\n",
    "plt.title('Feature importances')\n",
    "sns.barplot(x=ftr_top , y = ftr_top.index)\n",
    "plt.show()"
   ]
  },
  {
   "cell_type": "code",
   "execution_count": 51,
   "id": "1c867c0c",
   "metadata": {},
   "outputs": [
    {
     "name": "stdout",
     "output_type": "stream",
     "text": [
      "Feature: 0, Score: 0.00803\n",
      "Feature: 1, Score: -0.02139\n",
      "Feature: 2, Score: -0.00000\n",
      "Feature: 3, Score: -0.01045\n",
      "Feature: 4, Score: 0.02899\n",
      "Feature: 5, Score: -0.03255\n",
      "Feature: 6, Score: -0.01750\n",
      "Feature: 7, Score: -0.03576\n",
      "Feature: 8, Score: -0.00882\n",
      "Feature: 9, Score: 0.00544\n",
      "Feature: 10, Score: 0.00033\n",
      "Feature: 11, Score: 0.00083\n",
      "Feature: 12, Score: 0.03023\n",
      "Feature: 13, Score: -0.07027\n"
     ]
    },
    {
     "data": {
      "image/png": "[encoded data removed]",
      "text/plain": [
       "<Figure size 432x288 with 1 Axes>"
      ]
     },
     "metadata": {
      "needs_background": "light"
     },
     "output_type": "display_data"
    }
   ],
   "source": [
    "from matplotlib import pyplot\n",
    "importance = lr_clf.coef_[0]\n",
    "# summarize feature importance\n",
    "for i,v in enumerate(importance):\n",
    "\tprint('Feature: %0d, Score: %.5f' % (i,v))\n",
    "# plot feature importance\n",
    "pyplot.bar([x for x in range(len(importance))], importance)\n",
    "pyplot.show()"
   ]
  },
  {
   "cell_type": "markdown",
   "id": "9d948d3f",
   "metadata": {},
   "source": [
    "std"
   ]
  },
  {
   "cell_type": "code",
   "execution_count": 79,
   "id": "6e844074",
   "metadata": {},
   "outputs": [
    {
     "data": {
      "image/png": "[encoded data removed]",
      "text/plain": [
       "<Figure size 720x432 with 1 Axes>"
      ]
     },
     "metadata": {
      "needs_background": "light"
     },
     "output_type": "display_data"
    }
   ],
   "source": [
    "ftr_importances_values = std_dt_clf.feature_importances_\n",
    "# Top 중요도로 정렬을 쉽게 하고, 시본(Seaborn)의 막대그래프로 쉽게 표현하기 위해 Series변환\n",
    "ftr_importances = pd.Series(ftr_importances_values, index=train_x.columns  )\n",
    "# 중요도값 순으로 Series를 정렬\n",
    "ftr_top = ftr_importances.sort_values(ascending=False)\n",
    "plt.figure(figsize=(10,6))\n",
    "plt.title('Feature importances')\n",
    "sns.barplot(x=ftr_top , y = ftr_top.index)\n",
    "plt.show()"
   ]
  },
  {
   "cell_type": "code",
   "execution_count": 80,
   "id": "835199c8",
   "metadata": {},
   "outputs": [
    {
     "data": {
      "image/png": "[encoded data removed]",
      "text/plain": [
       "<Figure size 720x432 with 1 Axes>"
      ]
     },
     "metadata": {
      "needs_background": "light"
     },
     "output_type": "display_data"
    }
   ],
   "source": [
    "ftr_importances_values = std_rf_clf.feature_importances_\n",
    "# Top 중요도로 정렬을 쉽게 하고, 시본(Seaborn)의 막대그래프로 쉽게 표현하기 위해 Series변환\n",
    "ftr_importances = pd.Series(ftr_importances_values, index=train_x.columns  )\n",
    "# 중요도값 순으로 Series를 정렬\n",
    "ftr_top = ftr_importances.sort_values(ascending=False)\n",
    "plt.figure(figsize=(10,6))\n",
    "plt.title('Feature importances')\n",
    "sns.barplot(x=ftr_top , y = ftr_top.index)\n",
    "plt.show()"
   ]
  },
  {
   "cell_type": "code",
   "execution_count": 81,
   "id": "b0386d6d",
   "metadata": {},
   "outputs": [
    {
     "name": "stdout",
     "output_type": "stream",
     "text": [
      "Feature: 0, Score: 0.48784\n",
      "Feature: 1, Score: -0.17309\n",
      "Feature: 2, Score: 0.05132\n",
      "Feature: 3, Score: 0.05892\n",
      "Feature: 4, Score: 0.85486\n",
      "Feature: 5, Score: -0.34542\n",
      "Feature: 6, Score: -0.01421\n",
      "Feature: 7, Score: -0.19010\n",
      "Feature: 8, Score: 0.10566\n",
      "Feature: 9, Score: 0.43310\n",
      "Feature: 10, Score: 2.32154\n",
      "Feature: 11, Score: 0.27235\n",
      "Feature: 12, Score: 0.36515\n",
      "Feature: 13, Score: 0.00308\n"
     ]
    },
    {
     "data": {
      "image/png": "[encoded data removed]",
      "text/plain": [
       "<Figure size 432x288 with 1 Axes>"
      ]
     },
     "metadata": {
      "needs_background": "light"
     },
     "output_type": "display_data"
    }
   ],
   "source": [
    "from matplotlib import pyplot\n",
    "importance = std_lr_clf.coef_[0]\n",
    "# summarize feature importance\n",
    "for i,v in enumerate(importance):\n",
    "\tprint('Feature: %0d, Score: %.5f' % (i,v))\n",
    "# plot feature importance\n",
    "pyplot.bar([x for x in range(len(importance))], importance)\n",
    "pyplot.show()"
   ]
  },
  {
   "cell_type": "markdown",
   "id": "158d3da2",
   "metadata": {},
   "source": [
    "mm"
   ]
  },
  {
   "cell_type": "code",
   "execution_count": 82,
   "id": "7ce32b58",
   "metadata": {},
   "outputs": [
    {
     "data": {
      "image/png": "[encoded data removed]",
      "text/plain": [
       "<Figure size 720x432 with 1 Axes>"
      ]
     },
     "metadata": {
      "needs_background": "light"
     },
     "output_type": "display_data"
    }
   ],
   "source": [
    "ftr_importances_values = mm_dt_clf.feature_importances_\n",
    "# Top 중요도로 정렬을 쉽게 하고, 시본(Seaborn)의 막대그래프로 쉽게 표현하기 위해 Series변환\n",
    "ftr_importances = pd.Series(ftr_importances_values, index=train_x.columns  )\n",
    "# 중요도값 순으로 Series를 정렬\n",
    "ftr_top = ftr_importances.sort_values(ascending=False)\n",
    "plt.figure(figsize=(10,6))\n",
    "plt.title('Feature importances')\n",
    "sns.barplot(x=ftr_top , y = ftr_top.index)\n",
    "plt.show()"
   ]
  },
  {
   "cell_type": "code",
   "execution_count": 83,
   "id": "3b1efc04",
   "metadata": {},
   "outputs": [
    {
     "data": {
      "image/png": "[encoded data removed]",
      "text/plain": [
       "<Figure size 720x432 with 1 Axes>"
      ]
     },
     "metadata": {
      "needs_background": "light"
     },
     "output_type": "display_data"
    }
   ],
   "source": [
    "ftr_importances_values = mm_rf_clf.feature_importances_\n",
    "# Top 중요도로 정렬을 쉽게 하고, 시본(Seaborn)의 막대그래프로 쉽게 표현하기 위해 Series변환\n",
    "ftr_importances = pd.Series(ftr_importances_values, index=train_x.columns  )\n",
    "# 중요도값 순으로 Series를 정렬\n",
    "ftr_top = ftr_importances.sort_values(ascending=False)\n",
    "plt.figure(figsize=(10,6))\n",
    "plt.title('Feature importances')\n",
    "sns.barplot(x=ftr_top , y = ftr_top.index)\n",
    "plt.show()"
   ]
  },
  {
   "cell_type": "code",
   "execution_count": 84,
   "id": "13254b73",
   "metadata": {},
   "outputs": [
    {
     "name": "stdout",
     "output_type": "stream",
     "text": [
      "Feature: 0, Score: 2.61423\n",
      "Feature: 1, Score: -0.85169\n",
      "Feature: 2, Score: 0.67701\n",
      "Feature: 3, Score: 0.21734\n",
      "Feature: 4, Score: 4.89932\n",
      "Feature: 5, Score: -1.34355\n",
      "Feature: 6, Score: -0.04550\n",
      "Feature: 7, Score: -0.58225\n",
      "Feature: 8, Score: 0.47547\n",
      "Feature: 9, Score: 0.90014\n",
      "Feature: 10, Score: 18.70362\n",
      "Feature: 11, Score: 2.73057\n",
      "Feature: 12, Score: 2.83657\n",
      "Feature: 13, Score: 0.03151\n"
     ]
    },
    {
     "data": {
      "image/png": "[encoded data removed]",
      "text/plain": [
       "<Figure size 432x288 with 1 Axes>"
      ]
     },
     "metadata": {
      "needs_background": "light"
     },
     "output_type": "display_data"
    }
   ],
   "source": [
    "from matplotlib import pyplot\n",
    "importance = mm_lr_clf.coef_[0]\n",
    "# summarize feature importance\n",
    "for i,v in enumerate(importance):\n",
    "\tprint('Feature: %0d, Score: %.5f' % (i,v))\n",
    "# plot feature importance\n",
    "pyplot.bar([x for x in range(len(importance))], importance)\n",
    "pyplot.show()"
   ]
  },
  {
   "cell_type": "markdown",
   "id": "ce6438ef",
   "metadata": {},
   "source": [
    "# No Drops"
   ]
  },
  {
   "cell_type": "markdown",
   "id": "0b781e73",
   "metadata": {},
   "source": [
    "Make Train & Test Set"
   ]
  },
  {
   "cell_type": "code",
   "execution_count": 42,
   "id": "29d219ce",
   "metadata": {},
   "outputs": [],
   "source": [
    "train_x = adult_train.iloc[:,:-1]\n",
    "train_y = adult_train.iloc[:,-1]\n",
    "test_x = adult_test.iloc[:,:-1]\n",
    "test_y = adult_test.iloc[:,-1]"
   ]
  },
  {
   "cell_type": "markdown",
   "id": "55953e39",
   "metadata": {},
   "source": [
    "## PreProcessing with Scaler"
   ]
  },
  {
   "cell_type": "markdown",
   "id": "001406cc",
   "metadata": {},
   "source": [
    "### 1. StandardScaler"
   ]
  },
  {
   "cell_type": "markdown",
   "id": "984e32cd",
   "metadata": {},
   "source": [
    "오류 났던 이유: object -> int64로 변환이 진행되지 않았기 때문"
   ]
  },
  {
   "cell_type": "code",
   "execution_count": 50,
   "id": "02d3e476",
   "metadata": {},
   "outputs": [],
   "source": [
    "std_scaler = StandardScaler()\n",
    "std_train_x = std_scaler.fit_transform(train_x)\n",
    "std_test_x = std_scaler.fit_transform(test_x)"
   ]
  },
  {
   "cell_type": "code",
   "execution_count": 60,
   "id": "248c2c3d",
   "metadata": {},
   "outputs": [
    {
     "data": {
      "text/plain": [
       "array([[-0.99412926, -0.2528865 ,  0.35347399, ..., -0.21806206,\n",
       "        -0.03143184,  0.2480116 ],\n",
       "       [-0.05541716, -0.2528865 , -0.94239062, ..., -0.21806206,\n",
       "         0.7699177 ,  0.2480116 ],\n",
       "       [-0.77750339, -1.49902606,  1.39544986, ..., -0.21806206,\n",
       "        -0.03143184,  0.2480116 ],\n",
       "       ...,\n",
       "       [-0.05541716, -0.2528865 ,  1.75522095, ..., -0.21806206,\n",
       "         0.7699177 ,  0.2480116 ],\n",
       "       [ 0.37783458, -0.2528865 , -0.99842039, ..., -0.21806206,\n",
       "        -0.03143184,  0.2480116 ],\n",
       "       [-0.27204303,  0.37018328, -0.0689392 , ..., -0.21806206,\n",
       "         1.57126723,  0.2480116 ]])"
      ]
     },
     "execution_count": 60,
     "metadata": {},
     "output_type": "execute_result"
    }
   ],
   "source": [
    "std_test_x"
   ]
  },
  {
   "cell_type": "markdown",
   "id": "e80c29a1",
   "metadata": {},
   "source": [
    "### 2. MinMaxScaler"
   ]
  },
  {
   "cell_type": "code",
   "execution_count": 58,
   "id": "1f765105",
   "metadata": {},
   "outputs": [],
   "source": [
    "mm_scaler = MinMaxScaler()\n",
    "mm_train_x = mm_scaler.fit_transform(train_x)\n",
    "mm_test_x = mm_scaler.fit_transform(test_x)"
   ]
  },
  {
   "cell_type": "code",
   "execution_count": 59,
   "id": "66e68604",
   "metadata": {},
   "outputs": [
    {
     "data": {
      "text/plain": [
       "array([[0.10958904, 0.375     , 0.14443012, ..., 0.        , 0.39795918,\n",
       "        0.925     ],\n",
       "       [0.28767123, 0.375     , 0.05167688, ..., 0.        , 0.5       ,\n",
       "        0.925     ],\n",
       "       [0.15068493, 0.125     , 0.21901093, ..., 0.        , 0.39795918,\n",
       "        0.925     ],\n",
       "       ...,\n",
       "       [0.28767123, 0.375     , 0.24476203, ..., 0.        , 0.5       ,\n",
       "        0.925     ],\n",
       "       [0.36986301, 0.375     , 0.04766648, ..., 0.        , 0.39795918,\n",
       "        0.925     ],\n",
       "       [0.24657534, 0.5       , 0.11419533, ..., 0.        , 0.60204082,\n",
       "        0.925     ]])"
      ]
     },
     "execution_count": 59,
     "metadata": {},
     "output_type": "execute_result"
    }
   ],
   "source": [
    "mm_test_x"
   ]
  },
  {
   "cell_type": "markdown",
   "id": "751827b1",
   "metadata": {},
   "source": [
    "## No PreProcessing Scaler"
   ]
  },
  {
   "cell_type": "markdown",
   "id": "56651f37",
   "metadata": {},
   "source": [
    "### Decision Tree & Random Forest & Logistic Regression"
   ]
  },
  {
   "cell_type": "code",
   "execution_count": 40,
   "id": "09041073",
   "metadata": {},
   "outputs": [],
   "source": [
    "from sklearn.tree import DecisionTreeClassifier\n",
    "from sklearn.ensemble import RandomForestClassifier\n",
    "from sklearn.linear_model import LogisticRegression\n",
    "\n",
    "dt_clf = DecisionTreeClassifier(random_state=156)\n",
    "rf_clf = RandomForestClassifier(random_state=156)\n",
    "lr_clf = LogisticRegression()"
   ]
  },
  {
   "cell_type": "code",
   "execution_count": 43,
   "id": "946255b1",
   "metadata": {},
   "outputs": [
    {
     "name": "stderr",
     "output_type": "stream",
     "text": [
      "c:\\users\\ad\\appdata\\local\\programs\\python\\python38\\lib\\site-packages\\sklearn\\linear_model\\_logistic.py:763: ConvergenceWarning: lbfgs failed to converge (status=1):\n",
      "STOP: TOTAL NO. of ITERATIONS REACHED LIMIT.\n",
      "\n",
      "Increase the number of iterations (max_iter) or scale the data as shown in:\n",
      "    https://scikit-learn.org/stable/modules/preprocessing.html\n",
      "Please also refer to the documentation for alternative solver options:\n",
      "    https://scikit-learn.org/stable/modules/linear_model.html#logistic-regression\n",
      "  n_iter_i = _check_optimize_result(\n"
     ]
    },
    {
     "data": {
      "text/plain": [
       "LogisticRegression()"
      ]
     },
     "execution_count": 43,
     "metadata": {},
     "output_type": "execute_result"
    }
   ],
   "source": [
    "dt_clf.fit(train_x,train_y)\n",
    "rf_clf.fit(train_x,train_y)\n",
    "lr_clf.fit(train_x,train_y)"
   ]
  },
  {
   "cell_type": "code",
   "execution_count": 45,
   "id": "b4132320",
   "metadata": {},
   "outputs": [],
   "source": [
    "pred_dt = dt_clf.predict(test_x)\n",
    "pred_rf = rf_clf.predict(test_x)\n",
    "pred_lr = lr_clf.predict(test_x)"
   ]
  },
  {
   "cell_type": "code",
   "execution_count": 46,
   "id": "440a92e7",
   "metadata": {},
   "outputs": [],
   "source": [
    "pred_dt_proba = dt_clf.predict_proba(test_x)[:, 1]\n",
    "pred_rf_proba = rf_clf.predict_proba(test_x)[:, 1]\n",
    "pred_lr_proba = lr_clf.predict_proba(test_x)[:, 1]"
   ]
  },
  {
   "cell_type": "markdown",
   "id": "59324dbc",
   "metadata": {},
   "source": [
    "## PreProcessing Standard Scaler"
   ]
  },
  {
   "cell_type": "markdown",
   "id": "a1b6a9fe",
   "metadata": {},
   "source": [
    "### Decision Tree & Random Forest & Logistic Regression"
   ]
  },
  {
   "cell_type": "code",
   "execution_count": 61,
   "id": "9d4ad91d",
   "metadata": {},
   "outputs": [],
   "source": [
    "from sklearn.tree import DecisionTreeClassifier\n",
    "from sklearn.ensemble import RandomForestClassifier\n",
    "from sklearn.linear_model import LogisticRegression\n",
    "\n",
    "std_dt_clf = DecisionTreeClassifier(random_state=156)\n",
    "std_rf_clf = RandomForestClassifier(random_state=156)\n",
    "std_lr_clf = LogisticRegression()"
   ]
  },
  {
   "cell_type": "code",
   "execution_count": 62,
   "id": "5554aa7e",
   "metadata": {},
   "outputs": [
    {
     "data": {
      "text/plain": [
       "LogisticRegression()"
      ]
     },
     "execution_count": 62,
     "metadata": {},
     "output_type": "execute_result"
    }
   ],
   "source": [
    "std_dt_clf.fit(std_train_x,train_y)\n",
    "std_rf_clf.fit(std_train_x,train_y)\n",
    "std_lr_clf.fit(std_train_x,train_y)"
   ]
  },
  {
   "cell_type": "code",
   "execution_count": 63,
   "id": "4253f5b3",
   "metadata": {},
   "outputs": [],
   "source": [
    "std_pred_dt = std_dt_clf.predict(std_test_x)\n",
    "std_pred_rf = std_rf_clf.predict(std_test_x)\n",
    "std_pred_lr = std_lr_clf.predict(std_test_x)"
   ]
  },
  {
   "cell_type": "code",
   "execution_count": 64,
   "id": "aba058ab",
   "metadata": {},
   "outputs": [
    {
     "name": "stdout",
     "output_type": "stream",
     "text": [
      "[[1. 0.]\n",
      " [1. 0.]\n",
      " [0. 1.]\n",
      " ...\n",
      " [0. 1.]\n",
      " [1. 0.]\n",
      " [1. 0.]]\n"
     ]
    }
   ],
   "source": [
    "print(std_dt_clf.predict_proba(std_test_x))"
   ]
  },
  {
   "cell_type": "code",
   "execution_count": 65,
   "id": "0188d81e",
   "metadata": {},
   "outputs": [],
   "source": [
    "std_pred_dt_proba = std_dt_clf.predict_proba(std_test_x)[:, 1]\n",
    "std_pred_rf_proba = std_rf_clf.predict_proba(std_test_x)[:, 1]\n",
    "std_pred_lr_proba = std_lr_clf.predict_proba(std_test_x)[:, 1]"
   ]
  },
  {
   "cell_type": "code",
   "execution_count": 66,
   "id": "e908279c",
   "metadata": {},
   "outputs": [
    {
     "data": {
      "text/plain": [
       "array([0.01960946, 0.20803367, 0.32573623, ..., 0.52165846, 0.78340931,\n",
       "       0.52294596])"
      ]
     },
     "execution_count": 66,
     "metadata": {},
     "output_type": "execute_result"
    }
   ],
   "source": [
    "std_pred_lr_proba"
   ]
  },
  {
   "cell_type": "markdown",
   "id": "0797ab41",
   "metadata": {},
   "source": [
    "## PreProcessing MinMax Scaler"
   ]
  },
  {
   "cell_type": "markdown",
   "id": "5b38bc33",
   "metadata": {},
   "source": [
    "### Decision Tree & Random Forest & Logistic Regression"
   ]
  },
  {
   "cell_type": "code",
   "execution_count": 67,
   "id": "1c13439a",
   "metadata": {},
   "outputs": [],
   "source": [
    "from sklearn.tree import DecisionTreeClassifier\n",
    "from sklearn.ensemble import RandomForestClassifier\n",
    "from sklearn.linear_model import LogisticRegression\n",
    "\n",
    "mm_dt_clf = DecisionTreeClassifier(random_state=156)\n",
    "mm_rf_clf = RandomForestClassifier(random_state=156)\n",
    "mm_lr_clf = LogisticRegression()"
   ]
  },
  {
   "cell_type": "code",
   "execution_count": 68,
   "id": "cf5f76ae",
   "metadata": {},
   "outputs": [
    {
     "data": {
      "text/plain": [
       "LogisticRegression()"
      ]
     },
     "execution_count": 68,
     "metadata": {},
     "output_type": "execute_result"
    }
   ],
   "source": [
    "mm_dt_clf.fit(mm_train_x,train_y)\n",
    "mm_rf_clf.fit(mm_train_x,train_y)\n",
    "mm_lr_clf.fit(mm_train_x,train_y)"
   ]
  },
  {
   "cell_type": "code",
   "execution_count": 69,
   "id": "2b75ad49",
   "metadata": {},
   "outputs": [],
   "source": [
    "mm_pred_dt = mm_dt_clf.predict(mm_test_x)\n",
    "mm_pred_rf = mm_rf_clf.predict(mm_test_x)\n",
    "mm_pred_lr = mm_lr_clf.predict(mm_test_x)"
   ]
  },
  {
   "cell_type": "code",
   "execution_count": 70,
   "id": "d146de34",
   "metadata": {},
   "outputs": [],
   "source": [
    "mm_pred_dt_proba = mm_dt_clf.predict_proba(mm_test_x)[:, 1]\n",
    "mm_pred_rf_proba = mm_rf_clf.predict_proba(mm_test_x)[:, 1]\n",
    "mm_pred_lr_proba = mm_lr_clf.predict_proba(mm_test_x)[:, 1]"
   ]
  },
  {
   "cell_type": "markdown",
   "id": "cc69485b",
   "metadata": {},
   "source": [
    "## 평가"
   ]
  },
  {
   "cell_type": "code",
   "execution_count": 71,
   "id": "80896fb9",
   "metadata": {},
   "outputs": [],
   "source": [
    "def get_clf_eval(y_test, pred=None, pred_proba=None):\n",
    "    confusion = confusion_matrix( y_test, pred)\n",
    "    accuracy = accuracy_score(y_test , pred)\n",
    "    precision = precision_score(y_test , pred)\n",
    "    recall = recall_score(y_test , pred)\n",
    "    f1 = f1_score(y_test,pred)\n",
    "    # ROC-AUC 추가 \n",
    "    roc_auc = roc_auc_score(y_test, pred_proba)\n",
    "    print('오차 행렬')\n",
    "    print(confusion)\n",
    "    # ROC-AUC print 추가\n",
    "    print('정확도: {0:.4f}, 정밀도: {1:.4f}, 재현율: {2:.4f},\\\n",
    "    F1: {3:.4f}, AUC:{4:.4f}'.format(accuracy, precision, recall, f1, roc_auc))"
   ]
  },
  {
   "cell_type": "markdown",
   "id": "38601907",
   "metadata": {},
   "source": [
    "### 1. Decision Tree"
   ]
  },
  {
   "cell_type": "code",
   "execution_count": 72,
   "id": "4a0010b5",
   "metadata": {},
   "outputs": [
    {
     "name": "stdout",
     "output_type": "stream",
     "text": [
      "no scaler\n",
      "오차 행렬\n",
      "[[10839  1596]\n",
      " [ 1496  2350]]\n",
      "정확도: 0.8101, 정밀도: 0.5955, 재현율: 0.6110,    F1: 0.6032, AUC:0.7413\n",
      "standard scaler\n",
      "오차 행렬\n",
      "[[10831  1604]\n",
      " [ 1536  2310]]\n",
      "정확도: 0.8071, 정밀도: 0.5902, 재현율: 0.6006,    F1: 0.5954, AUC:0.7358\n",
      "minmax scaler\n",
      "오차 행렬\n",
      "[[10796  1639]\n",
      " [ 1625  2221]]\n",
      "정확도: 0.7995, 정밀도: 0.5754, 재현율: 0.5775,    F1: 0.5764, AUC:0.7413\n"
     ]
    }
   ],
   "source": [
    "print('no scaler')\n",
    "get_clf_eval(test_y, pred_dt, pred_dt_proba)\n",
    "print('standard scaler')\n",
    "get_clf_eval(test_y, std_pred_dt, std_pred_dt_proba)\n",
    "print('minmax scaler')\n",
    "get_clf_eval(test_y, mm_pred_dt, pred_dt_proba)\n"
   ]
  },
  {
   "cell_type": "markdown",
   "id": "5ac2afd6",
   "metadata": {},
   "source": [
    "\n",
    "### 2. Random Forest"
   ]
  },
  {
   "cell_type": "code",
   "execution_count": 73,
   "id": "530b5ffe",
   "metadata": {},
   "outputs": [
    {
     "name": "stdout",
     "output_type": "stream",
     "text": [
      "no scaler\n",
      "오차 행렬\n",
      "[[11601   834]\n",
      " [ 1509  2337]]\n",
      "정확도: 0.8561, 정밀도: 0.7370, 재현율: 0.6076,    F1: 0.6661, AUC:0.9050\n",
      "standard scaler\n",
      "오차 행렬\n",
      "[[11561   874]\n",
      " [ 1538  2308]]\n",
      "정확도: 0.8519, 정밀도: 0.7253, 재현율: 0.6001,    F1: 0.6568, AUC:0.9019\n",
      "minmax scaler\n",
      "오차 행렬\n",
      "[[11515   920]\n",
      " [ 1582  2264]]\n",
      "정확도: 0.8463, 정밀도: 0.7111, 재현율: 0.5887,    F1: 0.6441, AUC:0.9050\n"
     ]
    }
   ],
   "source": [
    "print('no scaler')\n",
    "get_clf_eval(test_y, pred_rf, pred_rf_proba)\n",
    "print('standard scaler')\n",
    "get_clf_eval(test_y, std_pred_rf, std_pred_rf_proba)\n",
    "print('minmax scaler')\n",
    "get_clf_eval(test_y, mm_pred_rf, mm_pred_rf_proba)"
   ]
  },
  {
   "cell_type": "code",
   "execution_count": 78,
   "id": "43b72955",
   "metadata": {},
   "outputs": [
    {
     "name": "stdout",
     "output_type": "stream",
     "text": [
      "임곗값: 0.3\n",
      "오차 행렬\n",
      "[[10490  1945]\n",
      " [  847  2999]]\n",
      "정확도: 0.8285, 정밀도: 0.6066, 재현율: 0.7798,    F1: 0.6824, AUC:0.9050\n",
      "임곗값: 0.33\n",
      "오차 행렬\n",
      "[[10717  1718]\n",
      " [  939  2907]]\n",
      "정확도: 0.8368, 정밀도: 0.6285, 재현율: 0.7559,    F1: 0.6863, AUC:0.9050\n",
      "임곗값: 0.36\n",
      "오차 행렬\n",
      "[[10916  1519]\n",
      " [ 1041  2805]]\n",
      "정확도: 0.8428, 정밀도: 0.6487, 재현율: 0.7293,    F1: 0.6867, AUC:0.9050\n",
      "임곗값: 0.39\n",
      "오차 행렬\n",
      "[[11090  1345]\n",
      " [ 1149  2697]]\n",
      "정확도: 0.8468, 정밀도: 0.6672, 재현율: 0.7012,    F1: 0.6838, AUC:0.9050\n",
      "임곗값: 0.42\n",
      "오차 행렬\n",
      "[[11244  1191]\n",
      " [ 1266  2580]]\n",
      "정확도: 0.8491, 정밀도: 0.6842, 재현율: 0.6708,    F1: 0.6774, AUC:0.9050\n",
      "임곗값: 0.45\n",
      "오차 행렬\n",
      "[[11382  1053]\n",
      " [ 1377  2469]]\n",
      "정확도: 0.8507, 정밀도: 0.7010, 재현율: 0.6420,    F1: 0.6702, AUC:0.9050\n",
      "임곗값: 0.48\n",
      "오차 행렬\n",
      "[[11510   925]\n",
      " [ 1459  2387]]\n",
      "정확도: 0.8536, 정밀도: 0.7207, 재현율: 0.6206,    F1: 0.6669, AUC:0.9050\n",
      "임곗값: 0.5\n",
      "오차 행렬\n",
      "[[11601   834]\n",
      " [ 1509  2337]]\n",
      "정확도: 0.8561, 정밀도: 0.7370, 재현율: 0.6076,    F1: 0.6661, AUC:0.9050\n"
     ]
    }
   ],
   "source": [
    "thresholds = [0.3 , 0.33 ,0.36,0.39, 0.42 , 0.45 ,0.48, 0.50]\n",
    "get_eval_by_threshold(test_y, pred_rf_proba.reshape(-1,1), thresholds )"
   ]
  },
  {
   "cell_type": "code",
   "execution_count": 79,
   "id": "3e2ecafa",
   "metadata": {},
   "outputs": [
    {
     "name": "stdout",
     "output_type": "stream",
     "text": [
      "임곗값: 0.3\n",
      "오차 행렬\n",
      "[[10453  1982]\n",
      " [  866  2980]]\n",
      "정확도: 0.8251, 정밀도: 0.6006, 재현율: 0.7748,    F1: 0.6767, AUC:0.9019\n",
      "임곗값: 0.33\n",
      "오차 행렬\n",
      "[[10675  1760]\n",
      " [  967  2879]]\n",
      "정확도: 0.8325, 정밀도: 0.6206, 재현율: 0.7486,    F1: 0.6786, AUC:0.9019\n",
      "임곗값: 0.36\n",
      "오차 행렬\n",
      "[[10871  1564]\n",
      " [ 1068  2778]]\n",
      "정확도: 0.8383, 정밀도: 0.6398, 재현율: 0.7223,    F1: 0.6786, AUC:0.9019\n",
      "임곗값: 0.39\n",
      "오차 행렬\n",
      "[[11044  1391]\n",
      " [ 1171  2675]]\n",
      "정확도: 0.8426, 정밀도: 0.6579, 재현율: 0.6955,    F1: 0.6762, AUC:0.9019\n",
      "임곗값: 0.42\n",
      "오차 행렬\n",
      "[[11214  1221]\n",
      " [ 1272  2574]]\n",
      "정확도: 0.8469, 정밀도: 0.6783, 재현율: 0.6693,    F1: 0.6737, AUC:0.9019\n",
      "임곗값: 0.45\n",
      "오차 행렬\n",
      "[[11333  1102]\n",
      " [ 1389  2457]]\n",
      "정확도: 0.8470, 정밀도: 0.6904, 재현율: 0.6388,    F1: 0.6636, AUC:0.9019\n",
      "임곗값: 0.48\n",
      "오차 행렬\n",
      "[[11477   958]\n",
      " [ 1475  2371]]\n",
      "정확도: 0.8506, 정밀도: 0.7122, 재현율: 0.6165,    F1: 0.6609, AUC:0.9019\n",
      "임곗값: 0.5\n",
      "오차 행렬\n",
      "[[11561   874]\n",
      " [ 1538  2308]]\n",
      "정확도: 0.8519, 정밀도: 0.7253, 재현율: 0.6001,    F1: 0.6568, AUC:0.9019\n"
     ]
    }
   ],
   "source": [
    "thresholds = [0.3 , 0.33 ,0.36,0.39, 0.42 , 0.45 ,0.48, 0.50]\n",
    "get_eval_by_threshold(test_y, std_pred_rf_proba.reshape(-1,1), thresholds )"
   ]
  },
  {
   "cell_type": "code",
   "execution_count": 80,
   "id": "eb535e1d",
   "metadata": {},
   "outputs": [
    {
     "name": "stdout",
     "output_type": "stream",
     "text": [
      "임곗값: 0.3\n",
      "오차 행렬\n",
      "[[10391  2044]\n",
      " [  887  2959]]\n",
      "정확도: 0.8200, 정밀도: 0.5914, 재현율: 0.7694,    F1: 0.6688, AUC:0.8974\n",
      "임곗값: 0.33\n",
      "오차 행렬\n",
      "[[10620  1815]\n",
      " [  986  2860]]\n",
      "정확도: 0.8280, 정밀도: 0.6118, 재현율: 0.7436,    F1: 0.6713, AUC:0.8974\n",
      "임곗값: 0.36\n",
      "오차 행렬\n",
      "[[10828  1607]\n",
      " [ 1085  2761]]\n",
      "정확도: 0.8347, 정밀도: 0.6321, 재현율: 0.7179,    F1: 0.6723, AUC:0.8974\n",
      "임곗값: 0.39\n",
      "오차 행렬\n",
      "[[10995  1440]\n",
      " [ 1193  2653]]\n",
      "정확도: 0.8383, 정밀도: 0.6482, 재현율: 0.6898,    F1: 0.6683, AUC:0.8974\n",
      "임곗값: 0.42\n",
      "오차 행렬\n",
      "[[11141  1294]\n",
      " [ 1301  2545]]\n",
      "정확도: 0.8406, 정밀도: 0.6629, 재현율: 0.6617,    F1: 0.6623, AUC:0.8974\n",
      "임곗값: 0.45\n",
      "오차 행렬\n",
      "[[11285  1150]\n",
      " [ 1419  2427]]\n",
      "정확도: 0.8422, 정밀도: 0.6785, 재현율: 0.6310,    F1: 0.6539, AUC:0.8974\n",
      "임곗값: 0.48\n",
      "오차 행렬\n",
      "[[11421  1014]\n",
      " [ 1518  2328]]\n",
      "정확도: 0.8445, 정밀도: 0.6966, 재현율: 0.6053,    F1: 0.6477, AUC:0.8974\n",
      "임곗값: 0.5\n",
      "오차 행렬\n",
      "[[11515   920]\n",
      " [ 1582  2264]]\n",
      "정확도: 0.8463, 정밀도: 0.7111, 재현율: 0.5887,    F1: 0.6441, AUC:0.8974\n"
     ]
    }
   ],
   "source": [
    "thresholds = [0.3 , 0.33 ,0.36,0.39, 0.42 , 0.45 ,0.48, 0.50]\n",
    "get_eval_by_threshold(test_y, mm_pred_rf_proba.reshape(-1,1), thresholds )"
   ]
  },
  {
   "cell_type": "markdown",
   "id": "81168186",
   "metadata": {},
   "source": [
    "### 3.Logistic Regression"
   ]
  },
  {
   "cell_type": "code",
   "execution_count": 74,
   "id": "5124ac6c",
   "metadata": {},
   "outputs": [
    {
     "name": "stdout",
     "output_type": "stream",
     "text": [
      "no scaler\n",
      "오차 행렬\n",
      "[[11684   751]\n",
      " [ 2649  1197]]\n",
      "정확도: 0.7912, 정밀도: 0.6145, 재현율: 0.3112,    F1: 0.4132, AUC:0.7584\n",
      "standard scaler\n",
      "오차 행렬\n",
      "[[11700   735]\n",
      " [ 2109  1737]]\n",
      "정확도: 0.8253, 정밀도: 0.7027, 재현율: 0.4516,    F1: 0.5499, AUC:0.8527\n",
      "minmax scaler\n",
      "오차 행렬\n",
      "[[11710   725]\n",
      " [ 2146  1700]]\n",
      "정확도: 0.8237, 정밀도: 0.7010, 재현율: 0.4420,    F1: 0.5422, AUC:0.7584\n"
     ]
    }
   ],
   "source": [
    "print('no scaler')\n",
    "get_clf_eval(test_y, pred_lr, pred_lr_proba)\n",
    "print('standard scaler')\n",
    "get_clf_eval(test_y, std_pred_lr, std_pred_lr_proba)\n",
    "print('minmax scaler')\n",
    "get_clf_eval(test_y, mm_pred_lr, pred_lr_proba)"
   ]
  },
  {
   "cell_type": "code",
   "execution_count": 75,
   "id": "167d83ab",
   "metadata": {},
   "outputs": [],
   "source": [
    "from sklearn.preprocessing import Binarizer\n",
    "\n",
    "def get_eval_by_threshold(y_test , pred_proba_c1, thresholds):\n",
    "    # thresholds 리스트 객체내의 값을 차례로 iteration하면서 Evaluation 수행.\n",
    "    for custom_threshold in thresholds:\n",
    "        binarizer = Binarizer(threshold=custom_threshold).fit(pred_proba_c1) \n",
    "        custom_predict = binarizer.transform(pred_proba_c1)\n",
    "        print('임곗값:',custom_threshold)\n",
    "        get_clf_eval(y_test , custom_predict, pred_proba_c1)"
   ]
  },
  {
   "cell_type": "code",
   "execution_count": 77,
   "id": "919c1c6a",
   "metadata": {},
   "outputs": [
    {
     "name": "stdout",
     "output_type": "stream",
     "text": [
      "임곗값: 0.3\n",
      "오차 행렬\n",
      "[[10476  1959]\n",
      " [ 2186  1660]]\n",
      "정확도: 0.7454, 정밀도: 0.4587, 재현율: 0.4316,    F1: 0.4447, AUC:0.7584\n",
      "임곗값: 0.33\n",
      "오차 행렬\n",
      "[[10781  1654]\n",
      " [ 2337  1509]]\n",
      "정확도: 0.7549, 정밀도: 0.4771, 재현율: 0.3924,    F1: 0.4306, AUC:0.7584\n",
      "임곗값: 0.36\n",
      "오차 행렬\n",
      "[[11024  1411]\n",
      " [ 2429  1417]]\n",
      "정확도: 0.7641, 정밀도: 0.5011, 재현율: 0.3684,    F1: 0.4246, AUC:0.7584\n",
      "임곗값: 0.39\n",
      "오차 행렬\n",
      "[[11209  1226]\n",
      " [ 2498  1348]]\n",
      "정확도: 0.7713, 정밀도: 0.5237, 재현율: 0.3505,    F1: 0.4199, AUC:0.7584\n",
      "임곗값: 0.42\n",
      "오차 행렬\n",
      "[[11351  1084]\n",
      " [ 2543  1303]]\n",
      "정확도: 0.7772, 정밀도: 0.5459, 재현율: 0.3388,    F1: 0.4181, AUC:0.7584\n",
      "임곗값: 0.45\n",
      "오차 행렬\n",
      "[[11478   957]\n",
      " [ 2586  1260]]\n",
      "정확도: 0.7824, 정밀도: 0.5683, 재현율: 0.3276,    F1: 0.4156, AUC:0.7584\n",
      "임곗값: 0.48\n",
      "오차 행렬\n",
      "[[11615   820]\n",
      " [ 2624  1222]]\n",
      "정확도: 0.7885, 정밀도: 0.5984, 재현율: 0.3177,    F1: 0.4151, AUC:0.7584\n",
      "임곗값: 0.5\n",
      "오차 행렬\n",
      "[[11684   751]\n",
      " [ 2649  1197]]\n",
      "정확도: 0.7912, 정밀도: 0.6145, 재현율: 0.3112,    F1: 0.4132, AUC:0.7584\n"
     ]
    }
   ],
   "source": [
    "thresholds = [0.3 , 0.33 ,0.36,0.39, 0.42 , 0.45 ,0.48, 0.50]\n",
    "get_eval_by_threshold(test_y, pred_lr_proba.reshape(-1,1), thresholds )"
   ]
  },
  {
   "cell_type": "code",
   "execution_count": null,
   "id": "4c4724fe",
   "metadata": {},
   "outputs": [],
   "source": []
  }
 ],
 "metadata": {
  "kernelspec": {
   "display_name": "Python 3",
   "language": "python",
   "name": "python3"
  },
  "language_info": {
   "codemirror_mode": {
    "name": "ipython",
    "version": 3
   },
   "file_extension": ".py",
   "mimetype": "text/x-python",
   "name": "python",
   "nbconvert_exporter": "python",
   "pygments_lexer": "ipython3",
   "version": "3.8.9"
  }
 },
 "nbformat": 4,
 "nbformat_minor": 5
}
