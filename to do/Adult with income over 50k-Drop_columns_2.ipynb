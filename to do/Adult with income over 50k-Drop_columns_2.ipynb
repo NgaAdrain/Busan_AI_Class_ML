{
 "cells": [
  {
   "cell_type": "markdown",
   "id": "00b08f07",
   "metadata": {},
   "source": [
    "# 대략적 진행 개요"
   ]
  },
  {
   "cell_type": "markdown",
   "id": "0fe7811d",
   "metadata": {},
   "source": [
    "1. csv 파일 pandas를 이용해서 read_csv하기"
   ]
  },
  {
   "cell_type": "markdown",
   "id": "51842eaa",
   "metadata": {},
   "source": [
    "2. adult 데이터 feature 분석하기"
   ]
  },
  {
   "cell_type": "markdown",
   "id": "7e0fbf63",
   "metadata": {},
   "source": [
    "3. 분석한 feature에서 데이터 선별"
   ]
  },
  {
   "cell_type": "markdown",
   "id": "41b9e56e",
   "metadata": {},
   "source": [
    "4. 선별된 데이터에서 무의미 데이터, NaN 데이터 대체 (outlier, null)"
   ]
  },
  {
   "cell_type": "markdown",
   "id": "cbc6441c",
   "metadata": {},
   "source": [
    "5. 스케일러를 사용하여 데이터 전처리"
   ]
  },
  {
   "cell_type": "markdown",
   "id": "ee37a03a",
   "metadata": {},
   "source": [
    "6. 분류기 작성 및 학습"
   ]
  },
  {
   "cell_type": "markdown",
   "id": "a848fb61",
   "metadata": {},
   "source": [
    "7. 테스트 및 평가"
   ]
  },
  {
   "cell_type": "markdown",
   "id": "b7852983",
   "metadata": {},
   "source": [
    "## 필요 모듈 import"
   ]
  },
  {
   "cell_type": "code",
   "execution_count": 2,
   "id": "c70c32b3",
   "metadata": {},
   "outputs": [],
   "source": [
    "from sklearn.tree import DecisionTreeClassifier\n",
    "from sklearn.ensemble import RandomForestClassifier\n",
    "from sklearn.linear_model import LogisticRegression\n",
    "\n",
    "from sklearn.model_selection import train_test_split\n",
    "from sklearn.model_selection import cross_val_score , cross_validate\n",
    "\n",
    "from sklearn.metrics import classification_report, confusion_matrix\n",
    "from sklearn.metrics import accuracy_score, precision_score , recall_score , f1_score , roc_auc_score , confusion_matrix\n",
    "\n",
    "from sklearn.model_selection import KFold\n",
    "from sklearn.model_selection import StratifiedKFold\n",
    "from sklearn.model_selection import GridSearchCV\n",
    "\n",
    "from sklearn.preprocessing import StandardScaler\n",
    "from sklearn.preprocessing import MinMaxScaler\n",
    "from sklearn.preprocessing import Binarizer\n",
    "\n",
    "import graphviz\n",
    "from sklearn.tree import export_graphviz\n",
    "from IPython.display import display\n",
    "\n",
    "import numpy as np\n",
    "import pandas as pd\n",
    "import matplotlib.pyplot as plt\n",
    "import seaborn as sns"
   ]
  },
  {
   "cell_type": "markdown",
   "id": "bd0d2f0a",
   "metadata": {},
   "source": [
    "## read csv"
   ]
  },
  {
   "cell_type": "code",
   "execution_count": 3,
   "id": "bf2cddb4",
   "metadata": {},
   "outputs": [
    {
     "data": {
      "text/html": [
       "<div>\n",
       "<style scoped>\n",
       "    .dataframe tbody tr th:only-of-type {\n",
       "        vertical-align: middle;\n",
       "    }\n",
       "\n",
       "    .dataframe tbody tr th {\n",
       "        vertical-align: top;\n",
       "    }\n",
       "\n",
       "    .dataframe thead th {\n",
       "        text-align: right;\n",
       "    }\n",
       "</style>\n",
       "<table border=\"1\" class=\"dataframe\">\n",
       "  <thead>\n",
       "    <tr style=\"text-align: right;\">\n",
       "      <th></th>\n",
       "      <th>age</th>\n",
       "      <th>workclass</th>\n",
       "      <th>fnlwgt</th>\n",
       "      <th>education</th>\n",
       "      <th>education-num</th>\n",
       "      <th>marital-status</th>\n",
       "      <th>occupation</th>\n",
       "      <th>relationship</th>\n",
       "      <th>race</th>\n",
       "      <th>sex</th>\n",
       "      <th>capital-gain</th>\n",
       "      <th>capital-loss</th>\n",
       "      <th>hours-per-week</th>\n",
       "      <th>native-country</th>\n",
       "      <th>income</th>\n",
       "    </tr>\n",
       "  </thead>\n",
       "  <tbody>\n",
       "    <tr>\n",
       "      <th>0</th>\n",
       "      <td>25</td>\n",
       "      <td>Private</td>\n",
       "      <td>226802</td>\n",
       "      <td>11th</td>\n",
       "      <td>7</td>\n",
       "      <td>Never-married</td>\n",
       "      <td>Machine-op-inspct</td>\n",
       "      <td>Own-child</td>\n",
       "      <td>Black</td>\n",
       "      <td>Male</td>\n",
       "      <td>0</td>\n",
       "      <td>0</td>\n",
       "      <td>40</td>\n",
       "      <td>United-States</td>\n",
       "      <td>&lt;=50K.</td>\n",
       "    </tr>\n",
       "    <tr>\n",
       "      <th>1</th>\n",
       "      <td>38</td>\n",
       "      <td>Private</td>\n",
       "      <td>89814</td>\n",
       "      <td>HS-grad</td>\n",
       "      <td>9</td>\n",
       "      <td>Married-civ-spouse</td>\n",
       "      <td>Farming-fishing</td>\n",
       "      <td>Husband</td>\n",
       "      <td>White</td>\n",
       "      <td>Male</td>\n",
       "      <td>0</td>\n",
       "      <td>0</td>\n",
       "      <td>50</td>\n",
       "      <td>United-States</td>\n",
       "      <td>&lt;=50K.</td>\n",
       "    </tr>\n",
       "    <tr>\n",
       "      <th>2</th>\n",
       "      <td>28</td>\n",
       "      <td>Local-gov</td>\n",
       "      <td>336951</td>\n",
       "      <td>Assoc-acdm</td>\n",
       "      <td>12</td>\n",
       "      <td>Married-civ-spouse</td>\n",
       "      <td>Protective-serv</td>\n",
       "      <td>Husband</td>\n",
       "      <td>White</td>\n",
       "      <td>Male</td>\n",
       "      <td>0</td>\n",
       "      <td>0</td>\n",
       "      <td>40</td>\n",
       "      <td>United-States</td>\n",
       "      <td>&gt;50K.</td>\n",
       "    </tr>\n",
       "    <tr>\n",
       "      <th>3</th>\n",
       "      <td>44</td>\n",
       "      <td>Private</td>\n",
       "      <td>160323</td>\n",
       "      <td>Some-college</td>\n",
       "      <td>10</td>\n",
       "      <td>Married-civ-spouse</td>\n",
       "      <td>Machine-op-inspct</td>\n",
       "      <td>Husband</td>\n",
       "      <td>Black</td>\n",
       "      <td>Male</td>\n",
       "      <td>7688</td>\n",
       "      <td>0</td>\n",
       "      <td>40</td>\n",
       "      <td>United-States</td>\n",
       "      <td>&gt;50K.</td>\n",
       "    </tr>\n",
       "    <tr>\n",
       "      <th>4</th>\n",
       "      <td>18</td>\n",
       "      <td>?</td>\n",
       "      <td>103497</td>\n",
       "      <td>Some-college</td>\n",
       "      <td>10</td>\n",
       "      <td>Never-married</td>\n",
       "      <td>?</td>\n",
       "      <td>Own-child</td>\n",
       "      <td>White</td>\n",
       "      <td>Female</td>\n",
       "      <td>0</td>\n",
       "      <td>0</td>\n",
       "      <td>30</td>\n",
       "      <td>United-States</td>\n",
       "      <td>&lt;=50K.</td>\n",
       "    </tr>\n",
       "    <tr>\n",
       "      <th>5</th>\n",
       "      <td>34</td>\n",
       "      <td>Private</td>\n",
       "      <td>198693</td>\n",
       "      <td>10th</td>\n",
       "      <td>6</td>\n",
       "      <td>Never-married</td>\n",
       "      <td>Other-service</td>\n",
       "      <td>Not-in-family</td>\n",
       "      <td>White</td>\n",
       "      <td>Male</td>\n",
       "      <td>0</td>\n",
       "      <td>0</td>\n",
       "      <td>30</td>\n",
       "      <td>United-States</td>\n",
       "      <td>&lt;=50K.</td>\n",
       "    </tr>\n",
       "    <tr>\n",
       "      <th>6</th>\n",
       "      <td>29</td>\n",
       "      <td>?</td>\n",
       "      <td>227026</td>\n",
       "      <td>HS-grad</td>\n",
       "      <td>9</td>\n",
       "      <td>Never-married</td>\n",
       "      <td>?</td>\n",
       "      <td>Unmarried</td>\n",
       "      <td>Black</td>\n",
       "      <td>Male</td>\n",
       "      <td>0</td>\n",
       "      <td>0</td>\n",
       "      <td>40</td>\n",
       "      <td>United-States</td>\n",
       "      <td>&lt;=50K.</td>\n",
       "    </tr>\n",
       "    <tr>\n",
       "      <th>7</th>\n",
       "      <td>63</td>\n",
       "      <td>Self-emp-not-inc</td>\n",
       "      <td>104626</td>\n",
       "      <td>Prof-school</td>\n",
       "      <td>15</td>\n",
       "      <td>Married-civ-spouse</td>\n",
       "      <td>Prof-specialty</td>\n",
       "      <td>Husband</td>\n",
       "      <td>White</td>\n",
       "      <td>Male</td>\n",
       "      <td>3103</td>\n",
       "      <td>0</td>\n",
       "      <td>32</td>\n",
       "      <td>United-States</td>\n",
       "      <td>&gt;50K.</td>\n",
       "    </tr>\n",
       "    <tr>\n",
       "      <th>8</th>\n",
       "      <td>24</td>\n",
       "      <td>Private</td>\n",
       "      <td>369667</td>\n",
       "      <td>Some-college</td>\n",
       "      <td>10</td>\n",
       "      <td>Never-married</td>\n",
       "      <td>Other-service</td>\n",
       "      <td>Unmarried</td>\n",
       "      <td>White</td>\n",
       "      <td>Female</td>\n",
       "      <td>0</td>\n",
       "      <td>0</td>\n",
       "      <td>40</td>\n",
       "      <td>United-States</td>\n",
       "      <td>&lt;=50K.</td>\n",
       "    </tr>\n",
       "    <tr>\n",
       "      <th>9</th>\n",
       "      <td>55</td>\n",
       "      <td>Private</td>\n",
       "      <td>104996</td>\n",
       "      <td>7th-8th</td>\n",
       "      <td>4</td>\n",
       "      <td>Married-civ-spouse</td>\n",
       "      <td>Craft-repair</td>\n",
       "      <td>Husband</td>\n",
       "      <td>White</td>\n",
       "      <td>Male</td>\n",
       "      <td>0</td>\n",
       "      <td>0</td>\n",
       "      <td>10</td>\n",
       "      <td>United-States</td>\n",
       "      <td>&lt;=50K.</td>\n",
       "    </tr>\n",
       "  </tbody>\n",
       "</table>\n",
       "</div>"
      ],
      "text/plain": [
       "   age          workclass  fnlwgt      education  education-num  \\\n",
       "0   25            Private  226802           11th              7   \n",
       "1   38            Private   89814        HS-grad              9   \n",
       "2   28          Local-gov  336951     Assoc-acdm             12   \n",
       "3   44            Private  160323   Some-college             10   \n",
       "4   18                  ?  103497   Some-college             10   \n",
       "5   34            Private  198693           10th              6   \n",
       "6   29                  ?  227026        HS-grad              9   \n",
       "7   63   Self-emp-not-inc  104626    Prof-school             15   \n",
       "8   24            Private  369667   Some-college             10   \n",
       "9   55            Private  104996        7th-8th              4   \n",
       "\n",
       "        marital-status          occupation    relationship    race      sex  \\\n",
       "0        Never-married   Machine-op-inspct       Own-child   Black     Male   \n",
       "1   Married-civ-spouse     Farming-fishing         Husband   White     Male   \n",
       "2   Married-civ-spouse     Protective-serv         Husband   White     Male   \n",
       "3   Married-civ-spouse   Machine-op-inspct         Husband   Black     Male   \n",
       "4        Never-married                   ?       Own-child   White   Female   \n",
       "5        Never-married       Other-service   Not-in-family   White     Male   \n",
       "6        Never-married                   ?       Unmarried   Black     Male   \n",
       "7   Married-civ-spouse      Prof-specialty         Husband   White     Male   \n",
       "8        Never-married       Other-service       Unmarried   White   Female   \n",
       "9   Married-civ-spouse        Craft-repair         Husband   White     Male   \n",
       "\n",
       "   capital-gain  capital-loss  hours-per-week  native-country   income  \n",
       "0             0             0              40   United-States   <=50K.  \n",
       "1             0             0              50   United-States   <=50K.  \n",
       "2             0             0              40   United-States    >50K.  \n",
       "3          7688             0              40   United-States    >50K.  \n",
       "4             0             0              30   United-States   <=50K.  \n",
       "5             0             0              30   United-States   <=50K.  \n",
       "6             0             0              40   United-States   <=50K.  \n",
       "7          3103             0              32   United-States    >50K.  \n",
       "8             0             0              40   United-States   <=50K.  \n",
       "9             0             0              10   United-States   <=50K.  "
      ]
     },
     "execution_count": 3,
     "metadata": {},
     "output_type": "execute_result"
    }
   ],
   "source": [
    "%matplotlib inline\n",
    "\n",
    "adult_train = pd.read_csv('./adult_data/adult_data.csv')\n",
    "adult_test = pd.read_csv('./adult_data/adult_test.csv')\n",
    "adult_train.head(3)\n",
    "adult_test.head(10)"
   ]
  },
  {
   "cell_type": "markdown",
   "id": "97987126",
   "metadata": {},
   "source": [
    "## Feature Analysis"
   ]
  },
  {
   "cell_type": "code",
   "execution_count": 3,
   "id": "387edb44",
   "metadata": {},
   "outputs": [],
   "source": [
    "workclass = [' Private',' Self-emp-not-inc',' Self-emp-inc',' Federal-gov',' Local-gov',' State-gov',' Without-pay',' Never-worked.']\n",
    "\n",
    "education = [' Bachelors',' Some-college',' 11th',' HS-grad',' Prof-school',' Assoc-acdm',' Assoc-voc',' 9th',' 7th-8th',' 12th',' Masters',' 1st-4th',' 10th',' Doctorate',' 5th-6th',' Preschool']\n",
    "\n",
    "marital_status = [' Married-civ-spouse',' Divorced',' Never-married',' Separated',' Widowed',' Married-spouse-absent',' Married-AF-spouse']\n",
    "\n",
    "occupation = [' Tech-support',' Craft-repair',' Other-service',' Sales',' Exec-managerial',' Prof-specialty',' Handlers-cleaners',' Machine-op-inspct',' Adm-clerical',' Farming-fishing',' Transport-moving',' Priv-house-serv',' Protective-serv',' Armed-Forces']\n",
    "    \n",
    "relationship= [' Wife',' Own-child',' Husband',' Not-in-family',' Other-relative',' Unmarried']\n",
    "    \n",
    "race = [' White',' Asian-Pac-Islander',' Amer-Indian-Eskimo',' Other',' Black']\n",
    "\n",
    "sex = [' Female',' Male']\n",
    "    \n",
    "native_country = [' United-States',' Cambodia',' England',' Puerto-Rico',' Canada',' Germany',' Outlying-US(Guam-USVI-etc)',' India',' Japan',' Greece',' South',' China',' Cuba',' Iran',' Honduras',' Philippines',' Italy',' Poland',' Jamaica',' Vietnam',' Mexico',' Portugal',' Ireland',' France',' Dominican-Republic',' Laos',' Ecuador',' Taiwan',' Haiti',' Columbia',' Hungary',' Guatemala',' Nicaragua',' Scotland',' Thailand',' Yugoslavia',' El-Salvador',' Trinadad&Tobago',' Peru',' Hong', 'Holand-Netherlands']"
   ]
  },
  {
   "cell_type": "markdown",
   "id": "ef3eb049",
   "metadata": {},
   "source": [
    "========================Features========================<br>\n",
    "- income >50K, <=50K.<br>\n",
    "1. <b>age</b>: continuous.<br>\n",
    "2. <b>workclass</b>: Private, Self-emp-not-inc, Self-emp-inc, Federal-gov, Local-gov, State-gov, Without-pay, Never-worked.<br>\n",
    "3. <b>fnlwgt</b>: continuous. #final weight<br>\n",
    "4. <b>education</b>: Bachelors, Some-college, 11th, HS-grad, Prof-school, Assoc-acdm, Assoc-voc, 9th, 7th-8th, 12th, Masters, 1st-4th, 10th, Doctorate, 5th-6th, Preschool.<br>\n",
    "5. <b>education-num</b>: continuous.<br>\n",
    "6. <b>marital-status</b>: Married-civ-spouse, Divorced, Never-married, Separated, Widowed, Married-spouse-absent, Married-AF-spouse.<br>\n",
    "7. <b>occupation</b>: Tech-support, Craft-repair, Other-service, Sales, Exec-managerial, Prof-specialty, Handlers-cleaners, Machine-op-inspct, Adm-clerical, Farming-fishing, Transport-moving, Priv-house-serv, Protective-serv, Armed-Forces.<br>\n",
    "8. <b>relationship</b>: Wife, Own-child, Husband, Not-in-family, Other-relative, Unmarried.<br>\n",
    "9. <b>race</b>: White, Asian-Pac-Islander, Amer-Indian-Eskimo, Other, Black.<br>\n",
    "10. <b>sex</b>: Female, Male.<br>\n",
    "11. <b>capital-gain</b>: continuous. #자본 이득<br>\n",
    "12. <b>capital-loss</b>: continuous.  #자본 손실<br>\n",
    "13. <b>hours-per-week</b>: continuous.<br>\n",
    "14. <b>native-country</b>: United-States, Cambodia, England, Puerto-Rico, Canada, Germany, Outlying-US(Guam-USVI-etc), India, Japan, Greece, South, China, Cuba, Iran, Honduras, Philippines, Italy, Poland, Jamaica, Vietnam, Mexico, Portugal, Ireland, France, Dominican-Republic, Laos, Ecuador, Taiwan, Haiti, Columbia, Hungary, Guatemala, Nicaragua, Scotland, Thailand, Yugoslavia, El-Salvador, Trinadad&Tobago, Peru, Hong, Holand-Netherlands.<br>\n",
    "\n",
    "=========================================<br>\n",
    "Class Distribution:<br>\n",
    "Probability for the label '>50K' : 23.93% / 24.78% (without unknowns)<br>\n",
    "Probability for the label '<=50K' : 76.07% / 75.22% (without unknowns)<br>\n",
    "=========================================<br>\n",
    "Missing Attribute Values:<br>\n",
    "7% have missing values.<br>"
   ]
  },
  {
   "cell_type": "code",
   "execution_count": 4,
   "id": "b747019e",
   "metadata": {},
   "outputs": [
    {
     "name": "stdout",
     "output_type": "stream",
     "text": [
      "\n",
      " ### train 데이터 정보 ###  \n",
      "\n",
      "<class 'pandas.core.frame.DataFrame'>\n",
      "RangeIndex: 32561 entries, 0 to 32560\n",
      "Data columns (total 15 columns):\n",
      " #   Column          Non-Null Count  Dtype \n",
      "---  ------          --------------  ----- \n",
      " 0   age             32561 non-null  int64 \n",
      " 1   workclass       32561 non-null  object\n",
      " 2   fnlwgt          32561 non-null  int64 \n",
      " 3   education       32561 non-null  object\n",
      " 4   education-num   32561 non-null  int64 \n",
      " 5   marital-status  32561 non-null  object\n",
      " 6   occupation      32561 non-null  object\n",
      " 7   relationship    32561 non-null  object\n",
      " 8   race            32561 non-null  object\n",
      " 9   sex             32561 non-null  object\n",
      " 10  capital-gain    32561 non-null  int64 \n",
      " 11  capital-loss    32561 non-null  int64 \n",
      " 12  hours-per-week  32561 non-null  int64 \n",
      " 13  native-country  32561 non-null  object\n",
      " 14  income          32561 non-null  object\n",
      "dtypes: int64(6), object(9)\n",
      "memory usage: 3.7+ MB\n",
      "None\n"
     ]
    }
   ],
   "source": [
    "print('\\n ### train 데이터 정보 ###  \\n')\n",
    "print(adult_train.info())"
   ]
  },
  {
   "cell_type": "markdown",
   "id": "4773cf87",
   "metadata": {},
   "source": [
    "수정 필요한 feature:\n",
    "1. <b>workclass</b>\n",
    "2. <b>education</b>\n",
    "3. <b>marital-status</b>\n",
    "4. <b>occupation</b>\n",
    "5. <b>relationship</b>\n",
    "6. <b>race</b>\n",
    "7. <b>sex</b>\n",
    "8. <b>native-country</b>\n",
    "9. <b>income</b>\n",
    "\n",
    "\n",
    "모든 데이터에서 NaN은 ?로 되어있다\n",
    "=> 이를 NaN으로 바꿀 필요성 존재"
   ]
  },
  {
   "cell_type": "markdown",
   "id": "f85a7713",
   "metadata": {},
   "source": [
    "?를 NaN으로 치환하여 feature별 NaN 개수를 구해야 한다."
   ]
  },
  {
   "cell_type": "markdown",
   "id": "3c9f57e9",
   "metadata": {},
   "source": [
    "<b>integer type</b>"
   ]
  },
  {
   "cell_type": "code",
   "execution_count": 5,
   "id": "9e47e3fa",
   "metadata": {},
   "outputs": [
    {
     "name": "stdout",
     "output_type": "stream",
     "text": [
      "35    461\n",
      "33    460\n",
      "23    452\n",
      "36    450\n",
      "38    437\n",
      "     ... \n",
      "82      3\n",
      "88      3\n",
      "85      2\n",
      "89      2\n",
      "87      2\n",
      "Name: age, Length: 73, dtype: int64\n"
     ]
    }
   ],
   "source": [
    "print(adult_test['age'].value_counts())"
   ]
  },
  {
   "cell_type": "code",
   "execution_count": 6,
   "id": "31f4d074",
   "metadata": {},
   "outputs": [
    {
     "name": "stdout",
     "output_type": "stream",
     "text": [
      "136986    9\n",
      "190290    8\n",
      "125892    8\n",
      "203488    8\n",
      "127651    8\n",
      "         ..\n",
      "284701    1\n",
      "344094    1\n",
      "75140     1\n",
      "342049    1\n",
      "145522    1\n",
      "Name: fnlwgt, Length: 12787, dtype: int64\n"
     ]
    }
   ],
   "source": [
    "print(adult_test['fnlwgt'].value_counts())"
   ]
  },
  {
   "cell_type": "code",
   "execution_count": 7,
   "id": "d8d749ef",
   "metadata": {},
   "outputs": [
    {
     "name": "stdout",
     "output_type": "stream",
     "text": [
      "9     5283\n",
      "10    3587\n",
      "13    2670\n",
      "14     934\n",
      "11     679\n",
      "7      637\n",
      "12     534\n",
      "6      456\n",
      "4      309\n",
      "15     258\n",
      "5      242\n",
      "8      224\n",
      "16     181\n",
      "3      176\n",
      "2       79\n",
      "1       32\n",
      "Name: education-num, dtype: int64\n"
     ]
    }
   ],
   "source": [
    "print(adult_test['education-num'].value_counts())"
   ]
  },
  {
   "cell_type": "code",
   "execution_count": 8,
   "id": "9d28311f",
   "metadata": {},
   "outputs": [
    {
     "name": "stdout",
     "output_type": "stream",
     "text": [
      "0        14958\n",
      "15024      166\n",
      "7688       126\n",
      "7298       118\n",
      "99999       85\n",
      "         ...  \n",
      "7896         1\n",
      "4687         1\n",
      "6097         1\n",
      "2036         1\n",
      "1424         1\n",
      "Name: capital-gain, Length: 113, dtype: int64\n"
     ]
    }
   ],
   "source": [
    "print(adult_test['capital-gain'].value_counts())"
   ]
  },
  {
   "cell_type": "code",
   "execution_count": 9,
   "id": "e611db3f",
   "metadata": {
    "scrolled": true
   },
   "outputs": [
    {
     "data": {
      "text/plain": [
       "<AxesSubplot:ylabel='Frequency'>"
      ]
     },
     "execution_count": 9,
     "metadata": {},
     "output_type": "execute_result"
    },
    {
     "data": {
      "image/png": "[encoded data removed]",
      "text/plain": [
       "<Figure size 432x288 with 1 Axes>"
      ]
     },
     "metadata": {
      "needs_background": "light"
     },
     "output_type": "display_data"
    }
   ],
   "source": [
    "adult_test['capital-gain'].plot(kind='hist')"
   ]
  },
  {
   "cell_type": "code",
   "execution_count": 10,
   "id": "7a5aa1c8",
   "metadata": {
    "scrolled": true
   },
   "outputs": [
    {
     "data": {
      "text/plain": [
       "<AxesSubplot:ylabel='Frequency'>"
      ]
     },
     "execution_count": 10,
     "metadata": {},
     "output_type": "execute_result"
    },
    {
     "data": {
      "image/png": "[encoded data removed]",
      "text/plain": [
       "<Figure size 432x288 with 1 Axes>"
      ]
     },
     "metadata": {
      "needs_background": "light"
     },
     "output_type": "display_data"
    }
   ],
   "source": [
    "adult_test['capital-loss'].plot(kind='hist')"
   ]
  },
  {
   "cell_type": "code",
   "execution_count": 11,
   "id": "d3758197",
   "metadata": {},
   "outputs": [
    {
     "name": "stdout",
     "output_type": "stream",
     "text": [
      "0       15518\n",
      "1902      102\n",
      "1977       85\n",
      "1887       74\n",
      "2415       23\n",
      "        ...  \n",
      "2547        1\n",
      "1594        1\n",
      "2282        1\n",
      "1421        1\n",
      "1911        1\n",
      "Name: capital-loss, Length: 82, dtype: int64\n"
     ]
    }
   ],
   "source": [
    "print(adult_test['capital-loss'].value_counts())"
   ]
  },
  {
   "cell_type": "code",
   "execution_count": 12,
   "id": "da91262e",
   "metadata": {},
   "outputs": [
    {
     "name": "stdout",
     "output_type": "stream",
     "text": [
      "40    7586\n",
      "50    1427\n",
      "45     893\n",
      "60     702\n",
      "35     640\n",
      "      ... \n",
      "92       2\n",
      "89       1\n",
      "76       1\n",
      "69       1\n",
      "79       1\n",
      "Name: hours-per-week, Length: 89, dtype: int64\n"
     ]
    }
   ],
   "source": [
    "print(adult_test['hours-per-week'].value_counts())"
   ]
  },
  {
   "cell_type": "markdown",
   "id": "bb610e93",
   "metadata": {},
   "source": [
    "<b>object type</b>"
   ]
  },
  {
   "cell_type": "code",
   "execution_count": 13,
   "id": "546b666d",
   "metadata": {},
   "outputs": [
    {
     "name": "stdout",
     "output_type": "stream",
     "text": [
      " Private             11210\n",
      " Self-emp-not-inc     1321\n",
      " Local-gov            1043\n",
      " ?                     963\n",
      " State-gov             683\n",
      " Self-emp-inc          579\n",
      " Federal-gov           472\n",
      " Without-pay             7\n",
      " Never-worked            3\n",
      "Name: workclass, dtype: int64\n"
     ]
    }
   ],
   "source": [
    "print(adult_test['workclass'].value_counts())"
   ]
  },
  {
   "cell_type": "code",
   "execution_count": 14,
   "id": "985e7bd1",
   "metadata": {},
   "outputs": [
    {
     "name": "stdout",
     "output_type": "stream",
     "text": [
      " HS-grad         5283\n",
      " Some-college    3587\n",
      " Bachelors       2670\n",
      " Masters          934\n",
      " Assoc-voc        679\n",
      " 11th             637\n",
      " Assoc-acdm       534\n",
      " 10th             456\n",
      " 7th-8th          309\n",
      " Prof-school      258\n",
      " 9th              242\n",
      " 12th             224\n",
      " Doctorate        181\n",
      " 5th-6th          176\n",
      " 1st-4th           79\n",
      " Preschool         32\n",
      "Name: education, dtype: int64\n"
     ]
    }
   ],
   "source": [
    "print(adult_test['education'].value_counts())"
   ]
  },
  {
   "cell_type": "code",
   "execution_count": 15,
   "id": "0caf6cc8",
   "metadata": {},
   "outputs": [
    {
     "name": "stdout",
     "output_type": "stream",
     "text": [
      " Married-civ-spouse       7403\n",
      " Never-married            5434\n",
      " Divorced                 2190\n",
      " Widowed                   525\n",
      " Separated                 505\n",
      " Married-spouse-absent     210\n",
      " Married-AF-spouse          14\n",
      "Name: marital-status, dtype: int64\n"
     ]
    }
   ],
   "source": [
    "print(adult_test['marital-status'].value_counts())"
   ]
  },
  {
   "cell_type": "code",
   "execution_count": 16,
   "id": "5e850289",
   "metadata": {},
   "outputs": [
    {
     "name": "stdout",
     "output_type": "stream",
     "text": [
      " Prof-specialty       2032\n",
      " Exec-managerial      2020\n",
      " Craft-repair         2013\n",
      " Sales                1854\n",
      " Adm-clerical         1841\n",
      " Other-service        1628\n",
      " Machine-op-inspct    1020\n",
      " ?                     966\n",
      " Transport-moving      758\n",
      " Handlers-cleaners     702\n",
      " Tech-support          518\n",
      " Farming-fishing       496\n",
      " Protective-serv       334\n",
      " Priv-house-serv        93\n",
      " Armed-Forces            6\n",
      "Name: occupation, dtype: int64\n"
     ]
    }
   ],
   "source": [
    "print(adult_test['occupation'].value_counts())"
   ]
  },
  {
   "cell_type": "code",
   "execution_count": 17,
   "id": "68173d1e",
   "metadata": {},
   "outputs": [
    {
     "name": "stdout",
     "output_type": "stream",
     "text": [
      " Husband           6523\n",
      " Not-in-family     4278\n",
      " Own-child         2513\n",
      " Unmarried         1679\n",
      " Wife               763\n",
      " Other-relative     525\n",
      "Name: relationship, dtype: int64\n"
     ]
    }
   ],
   "source": [
    "print(adult_test['relationship'].value_counts())"
   ]
  },
  {
   "cell_type": "code",
   "execution_count": 18,
   "id": "1e5e5219",
   "metadata": {},
   "outputs": [
    {
     "name": "stdout",
     "output_type": "stream",
     "text": [
      " White                 13946\n",
      " Black                  1561\n",
      " Asian-Pac-Islander      480\n",
      " Amer-Indian-Eskimo      159\n",
      " Other                   135\n",
      "Name: race, dtype: int64\n"
     ]
    }
   ],
   "source": [
    "print(adult_test['race'].value_counts())"
   ]
  },
  {
   "cell_type": "code",
   "execution_count": 19,
   "id": "54d5a3c3",
   "metadata": {},
   "outputs": [
    {
     "name": "stdout",
     "output_type": "stream",
     "text": [
      " Male      10860\n",
      " Female     5421\n",
      "Name: sex, dtype: int64\n"
     ]
    }
   ],
   "source": [
    "print(adult_test['sex'].value_counts())"
   ]
  },
  {
   "cell_type": "code",
   "execution_count": 20,
   "id": "51e0accd",
   "metadata": {},
   "outputs": [
    {
     "name": "stdout",
     "output_type": "stream",
     "text": [
      " United-States                 14662\n",
      " Mexico                          308\n",
      " ?                               274\n",
      " Philippines                      97\n",
      " Puerto-Rico                      70\n",
      " Germany                          69\n",
      " Canada                           61\n",
      " India                            51\n",
      " El-Salvador                      49\n",
      " China                            47\n",
      " Cuba                             43\n",
      " England                          37\n",
      " South                            35\n",
      " Dominican-Republic               33\n",
      " Italy                            32\n",
      " Haiti                            31\n",
      " Portugal                         30\n",
      " Japan                            30\n",
      " Poland                           27\n",
      " Columbia                         26\n",
      " Jamaica                          25\n",
      " Guatemala                        24\n",
      " Greece                           20\n",
      " Vietnam                          19\n",
      " Ecuador                          17\n",
      " Iran                             16\n",
      " Nicaragua                        15\n",
      " Peru                             15\n",
      " Taiwan                           14\n",
      " Ireland                          13\n",
      " Thailand                         12\n",
      " Hong                             10\n",
      " France                            9\n",
      " Outlying-US(Guam-USVI-etc)        9\n",
      " Scotland                          9\n",
      " Cambodia                          9\n",
      " Trinadad&Tobago                   8\n",
      " Yugoslavia                        7\n",
      " Honduras                          7\n",
      " Hungary                           6\n",
      " Laos                              5\n",
      "Name: native-country, dtype: int64\n"
     ]
    }
   ],
   "source": [
    "print(adult_test['native-country'].value_counts())"
   ]
  },
  {
   "cell_type": "markdown",
   "id": "80d1e88d",
   "metadata": {},
   "source": [
    "### drop_columns"
   ]
  },
  {
   "cell_type": "code",
   "execution_count": 4,
   "id": "fd04a4ea",
   "metadata": {
    "scrolled": true
   },
   "outputs": [
    {
     "data": {
      "text/html": [
       "<div>\n",
       "<style scoped>\n",
       "    .dataframe tbody tr th:only-of-type {\n",
       "        vertical-align: middle;\n",
       "    }\n",
       "\n",
       "    .dataframe tbody tr th {\n",
       "        vertical-align: top;\n",
       "    }\n",
       "\n",
       "    .dataframe thead th {\n",
       "        text-align: right;\n",
       "    }\n",
       "</style>\n",
       "<table border=\"1\" class=\"dataframe\">\n",
       "  <thead>\n",
       "    <tr style=\"text-align: right;\">\n",
       "      <th></th>\n",
       "      <th>age</th>\n",
       "      <th>workclass</th>\n",
       "      <th>fnlwgt</th>\n",
       "      <th>education-num</th>\n",
       "      <th>marital-status</th>\n",
       "      <th>occupation</th>\n",
       "      <th>relationship</th>\n",
       "      <th>capital-gain</th>\n",
       "      <th>capital-loss</th>\n",
       "      <th>hours-per-week</th>\n",
       "      <th>income</th>\n",
       "    </tr>\n",
       "  </thead>\n",
       "  <tbody>\n",
       "    <tr>\n",
       "      <th>0</th>\n",
       "      <td>39</td>\n",
       "      <td>State-gov</td>\n",
       "      <td>77516</td>\n",
       "      <td>13</td>\n",
       "      <td>Never-married</td>\n",
       "      <td>Adm-clerical</td>\n",
       "      <td>Not-in-family</td>\n",
       "      <td>2174</td>\n",
       "      <td>0</td>\n",
       "      <td>40</td>\n",
       "      <td>&lt;=50K</td>\n",
       "    </tr>\n",
       "    <tr>\n",
       "      <th>1</th>\n",
       "      <td>50</td>\n",
       "      <td>Self-emp-not-inc</td>\n",
       "      <td>83311</td>\n",
       "      <td>13</td>\n",
       "      <td>Married-civ-spouse</td>\n",
       "      <td>Exec-managerial</td>\n",
       "      <td>Husband</td>\n",
       "      <td>0</td>\n",
       "      <td>0</td>\n",
       "      <td>13</td>\n",
       "      <td>&lt;=50K</td>\n",
       "    </tr>\n",
       "    <tr>\n",
       "      <th>2</th>\n",
       "      <td>38</td>\n",
       "      <td>Private</td>\n",
       "      <td>215646</td>\n",
       "      <td>9</td>\n",
       "      <td>Divorced</td>\n",
       "      <td>Handlers-cleaners</td>\n",
       "      <td>Not-in-family</td>\n",
       "      <td>0</td>\n",
       "      <td>0</td>\n",
       "      <td>40</td>\n",
       "      <td>&lt;=50K</td>\n",
       "    </tr>\n",
       "    <tr>\n",
       "      <th>3</th>\n",
       "      <td>53</td>\n",
       "      <td>Private</td>\n",
       "      <td>234721</td>\n",
       "      <td>7</td>\n",
       "      <td>Married-civ-spouse</td>\n",
       "      <td>Handlers-cleaners</td>\n",
       "      <td>Husband</td>\n",
       "      <td>0</td>\n",
       "      <td>0</td>\n",
       "      <td>40</td>\n",
       "      <td>&lt;=50K</td>\n",
       "    </tr>\n",
       "    <tr>\n",
       "      <th>4</th>\n",
       "      <td>28</td>\n",
       "      <td>Private</td>\n",
       "      <td>338409</td>\n",
       "      <td>13</td>\n",
       "      <td>Married-civ-spouse</td>\n",
       "      <td>Prof-specialty</td>\n",
       "      <td>Wife</td>\n",
       "      <td>0</td>\n",
       "      <td>0</td>\n",
       "      <td>40</td>\n",
       "      <td>&lt;=50K</td>\n",
       "    </tr>\n",
       "    <tr>\n",
       "      <th>...</th>\n",
       "      <td>...</td>\n",
       "      <td>...</td>\n",
       "      <td>...</td>\n",
       "      <td>...</td>\n",
       "      <td>...</td>\n",
       "      <td>...</td>\n",
       "      <td>...</td>\n",
       "      <td>...</td>\n",
       "      <td>...</td>\n",
       "      <td>...</td>\n",
       "      <td>...</td>\n",
       "    </tr>\n",
       "    <tr>\n",
       "      <th>32556</th>\n",
       "      <td>27</td>\n",
       "      <td>Private</td>\n",
       "      <td>257302</td>\n",
       "      <td>12</td>\n",
       "      <td>Married-civ-spouse</td>\n",
       "      <td>Tech-support</td>\n",
       "      <td>Wife</td>\n",
       "      <td>0</td>\n",
       "      <td>0</td>\n",
       "      <td>38</td>\n",
       "      <td>&lt;=50K</td>\n",
       "    </tr>\n",
       "    <tr>\n",
       "      <th>32557</th>\n",
       "      <td>40</td>\n",
       "      <td>Private</td>\n",
       "      <td>154374</td>\n",
       "      <td>9</td>\n",
       "      <td>Married-civ-spouse</td>\n",
       "      <td>Machine-op-inspct</td>\n",
       "      <td>Husband</td>\n",
       "      <td>0</td>\n",
       "      <td>0</td>\n",
       "      <td>40</td>\n",
       "      <td>&gt;50K</td>\n",
       "    </tr>\n",
       "    <tr>\n",
       "      <th>32558</th>\n",
       "      <td>58</td>\n",
       "      <td>Private</td>\n",
       "      <td>151910</td>\n",
       "      <td>9</td>\n",
       "      <td>Widowed</td>\n",
       "      <td>Adm-clerical</td>\n",
       "      <td>Unmarried</td>\n",
       "      <td>0</td>\n",
       "      <td>0</td>\n",
       "      <td>40</td>\n",
       "      <td>&lt;=50K</td>\n",
       "    </tr>\n",
       "    <tr>\n",
       "      <th>32559</th>\n",
       "      <td>22</td>\n",
       "      <td>Private</td>\n",
       "      <td>201490</td>\n",
       "      <td>9</td>\n",
       "      <td>Never-married</td>\n",
       "      <td>Adm-clerical</td>\n",
       "      <td>Own-child</td>\n",
       "      <td>0</td>\n",
       "      <td>0</td>\n",
       "      <td>20</td>\n",
       "      <td>&lt;=50K</td>\n",
       "    </tr>\n",
       "    <tr>\n",
       "      <th>32560</th>\n",
       "      <td>52</td>\n",
       "      <td>Self-emp-inc</td>\n",
       "      <td>287927</td>\n",
       "      <td>9</td>\n",
       "      <td>Married-civ-spouse</td>\n",
       "      <td>Exec-managerial</td>\n",
       "      <td>Wife</td>\n",
       "      <td>15024</td>\n",
       "      <td>0</td>\n",
       "      <td>40</td>\n",
       "      <td>&gt;50K</td>\n",
       "    </tr>\n",
       "  </tbody>\n",
       "</table>\n",
       "<p>32561 rows × 11 columns</p>\n",
       "</div>"
      ],
      "text/plain": [
       "       age          workclass  fnlwgt  education-num       marital-status  \\\n",
       "0       39          State-gov   77516             13        Never-married   \n",
       "1       50   Self-emp-not-inc   83311             13   Married-civ-spouse   \n",
       "2       38            Private  215646              9             Divorced   \n",
       "3       53            Private  234721              7   Married-civ-spouse   \n",
       "4       28            Private  338409             13   Married-civ-spouse   \n",
       "...    ...                ...     ...            ...                  ...   \n",
       "32556   27            Private  257302             12   Married-civ-spouse   \n",
       "32557   40            Private  154374              9   Married-civ-spouse   \n",
       "32558   58            Private  151910              9              Widowed   \n",
       "32559   22            Private  201490              9        Never-married   \n",
       "32560   52       Self-emp-inc  287927              9   Married-civ-spouse   \n",
       "\n",
       "               occupation    relationship  capital-gain  capital-loss  \\\n",
       "0            Adm-clerical   Not-in-family          2174             0   \n",
       "1         Exec-managerial         Husband             0             0   \n",
       "2       Handlers-cleaners   Not-in-family             0             0   \n",
       "3       Handlers-cleaners         Husband             0             0   \n",
       "4          Prof-specialty            Wife             0             0   \n",
       "...                   ...             ...           ...           ...   \n",
       "32556        Tech-support            Wife             0             0   \n",
       "32557   Machine-op-inspct         Husband             0             0   \n",
       "32558        Adm-clerical       Unmarried             0             0   \n",
       "32559        Adm-clerical       Own-child             0             0   \n",
       "32560     Exec-managerial            Wife         15024             0   \n",
       "\n",
       "       hours-per-week  income  \n",
       "0                  40   <=50K  \n",
       "1                  13   <=50K  \n",
       "2                  40   <=50K  \n",
       "3                  40   <=50K  \n",
       "4                  40   <=50K  \n",
       "...               ...     ...  \n",
       "32556              38   <=50K  \n",
       "32557              40    >50K  \n",
       "32558              40   <=50K  \n",
       "32559              20   <=50K  \n",
       "32560              40    >50K  \n",
       "\n",
       "[32561 rows x 11 columns]"
      ]
     },
     "execution_count": 4,
     "metadata": {},
     "output_type": "execute_result"
    }
   ],
   "source": [
    "adult_train = adult_train.drop(columns = ['education','sex','race','native-country'],axis = 1)\n",
    "adult_train"
   ]
  },
  {
   "cell_type": "code",
   "execution_count": 5,
   "id": "6cbe108b",
   "metadata": {},
   "outputs": [
    {
     "data": {
      "text/plain": [
       "False"
      ]
     },
     "execution_count": 5,
     "metadata": {},
     "output_type": "execute_result"
    }
   ],
   "source": [
    "'race' in adult_train.columns"
   ]
  },
  {
   "cell_type": "code",
   "execution_count": 6,
   "id": "86b0df2e",
   "metadata": {
    "scrolled": true
   },
   "outputs": [
    {
     "data": {
      "text/html": [
       "<div>\n",
       "<style scoped>\n",
       "    .dataframe tbody tr th:only-of-type {\n",
       "        vertical-align: middle;\n",
       "    }\n",
       "\n",
       "    .dataframe tbody tr th {\n",
       "        vertical-align: top;\n",
       "    }\n",
       "\n",
       "    .dataframe thead th {\n",
       "        text-align: right;\n",
       "    }\n",
       "</style>\n",
       "<table border=\"1\" class=\"dataframe\">\n",
       "  <thead>\n",
       "    <tr style=\"text-align: right;\">\n",
       "      <th></th>\n",
       "      <th>age</th>\n",
       "      <th>workclass</th>\n",
       "      <th>fnlwgt</th>\n",
       "      <th>education-num</th>\n",
       "      <th>marital-status</th>\n",
       "      <th>occupation</th>\n",
       "      <th>relationship</th>\n",
       "      <th>capital-gain</th>\n",
       "      <th>capital-loss</th>\n",
       "      <th>hours-per-week</th>\n",
       "      <th>income</th>\n",
       "    </tr>\n",
       "  </thead>\n",
       "  <tbody>\n",
       "    <tr>\n",
       "      <th>0</th>\n",
       "      <td>25</td>\n",
       "      <td>Private</td>\n",
       "      <td>226802</td>\n",
       "      <td>7</td>\n",
       "      <td>Never-married</td>\n",
       "      <td>Machine-op-inspct</td>\n",
       "      <td>Own-child</td>\n",
       "      <td>0</td>\n",
       "      <td>0</td>\n",
       "      <td>40</td>\n",
       "      <td>&lt;=50K.</td>\n",
       "    </tr>\n",
       "    <tr>\n",
       "      <th>1</th>\n",
       "      <td>38</td>\n",
       "      <td>Private</td>\n",
       "      <td>89814</td>\n",
       "      <td>9</td>\n",
       "      <td>Married-civ-spouse</td>\n",
       "      <td>Farming-fishing</td>\n",
       "      <td>Husband</td>\n",
       "      <td>0</td>\n",
       "      <td>0</td>\n",
       "      <td>50</td>\n",
       "      <td>&lt;=50K.</td>\n",
       "    </tr>\n",
       "    <tr>\n",
       "      <th>2</th>\n",
       "      <td>28</td>\n",
       "      <td>Local-gov</td>\n",
       "      <td>336951</td>\n",
       "      <td>12</td>\n",
       "      <td>Married-civ-spouse</td>\n",
       "      <td>Protective-serv</td>\n",
       "      <td>Husband</td>\n",
       "      <td>0</td>\n",
       "      <td>0</td>\n",
       "      <td>40</td>\n",
       "      <td>&gt;50K.</td>\n",
       "    </tr>\n",
       "    <tr>\n",
       "      <th>3</th>\n",
       "      <td>44</td>\n",
       "      <td>Private</td>\n",
       "      <td>160323</td>\n",
       "      <td>10</td>\n",
       "      <td>Married-civ-spouse</td>\n",
       "      <td>Machine-op-inspct</td>\n",
       "      <td>Husband</td>\n",
       "      <td>7688</td>\n",
       "      <td>0</td>\n",
       "      <td>40</td>\n",
       "      <td>&gt;50K.</td>\n",
       "    </tr>\n",
       "    <tr>\n",
       "      <th>4</th>\n",
       "      <td>18</td>\n",
       "      <td>?</td>\n",
       "      <td>103497</td>\n",
       "      <td>10</td>\n",
       "      <td>Never-married</td>\n",
       "      <td>?</td>\n",
       "      <td>Own-child</td>\n",
       "      <td>0</td>\n",
       "      <td>0</td>\n",
       "      <td>30</td>\n",
       "      <td>&lt;=50K.</td>\n",
       "    </tr>\n",
       "    <tr>\n",
       "      <th>...</th>\n",
       "      <td>...</td>\n",
       "      <td>...</td>\n",
       "      <td>...</td>\n",
       "      <td>...</td>\n",
       "      <td>...</td>\n",
       "      <td>...</td>\n",
       "      <td>...</td>\n",
       "      <td>...</td>\n",
       "      <td>...</td>\n",
       "      <td>...</td>\n",
       "      <td>...</td>\n",
       "    </tr>\n",
       "    <tr>\n",
       "      <th>16276</th>\n",
       "      <td>39</td>\n",
       "      <td>Private</td>\n",
       "      <td>215419</td>\n",
       "      <td>13</td>\n",
       "      <td>Divorced</td>\n",
       "      <td>Prof-specialty</td>\n",
       "      <td>Not-in-family</td>\n",
       "      <td>0</td>\n",
       "      <td>0</td>\n",
       "      <td>36</td>\n",
       "      <td>&lt;=50K.</td>\n",
       "    </tr>\n",
       "    <tr>\n",
       "      <th>16277</th>\n",
       "      <td>64</td>\n",
       "      <td>?</td>\n",
       "      <td>321403</td>\n",
       "      <td>9</td>\n",
       "      <td>Widowed</td>\n",
       "      <td>?</td>\n",
       "      <td>Other-relative</td>\n",
       "      <td>0</td>\n",
       "      <td>0</td>\n",
       "      <td>40</td>\n",
       "      <td>&lt;=50K.</td>\n",
       "    </tr>\n",
       "    <tr>\n",
       "      <th>16278</th>\n",
       "      <td>38</td>\n",
       "      <td>Private</td>\n",
       "      <td>374983</td>\n",
       "      <td>13</td>\n",
       "      <td>Married-civ-spouse</td>\n",
       "      <td>Prof-specialty</td>\n",
       "      <td>Husband</td>\n",
       "      <td>0</td>\n",
       "      <td>0</td>\n",
       "      <td>50</td>\n",
       "      <td>&lt;=50K.</td>\n",
       "    </tr>\n",
       "    <tr>\n",
       "      <th>16279</th>\n",
       "      <td>44</td>\n",
       "      <td>Private</td>\n",
       "      <td>83891</td>\n",
       "      <td>13</td>\n",
       "      <td>Divorced</td>\n",
       "      <td>Adm-clerical</td>\n",
       "      <td>Own-child</td>\n",
       "      <td>5455</td>\n",
       "      <td>0</td>\n",
       "      <td>40</td>\n",
       "      <td>&lt;=50K.</td>\n",
       "    </tr>\n",
       "    <tr>\n",
       "      <th>16280</th>\n",
       "      <td>35</td>\n",
       "      <td>Self-emp-inc</td>\n",
       "      <td>182148</td>\n",
       "      <td>13</td>\n",
       "      <td>Married-civ-spouse</td>\n",
       "      <td>Exec-managerial</td>\n",
       "      <td>Husband</td>\n",
       "      <td>0</td>\n",
       "      <td>0</td>\n",
       "      <td>60</td>\n",
       "      <td>&gt;50K.</td>\n",
       "    </tr>\n",
       "  </tbody>\n",
       "</table>\n",
       "<p>16281 rows × 11 columns</p>\n",
       "</div>"
      ],
      "text/plain": [
       "       age      workclass  fnlwgt  education-num       marital-status  \\\n",
       "0       25        Private  226802              7        Never-married   \n",
       "1       38        Private   89814              9   Married-civ-spouse   \n",
       "2       28      Local-gov  336951             12   Married-civ-spouse   \n",
       "3       44        Private  160323             10   Married-civ-spouse   \n",
       "4       18              ?  103497             10        Never-married   \n",
       "...    ...            ...     ...            ...                  ...   \n",
       "16276   39        Private  215419             13             Divorced   \n",
       "16277   64              ?  321403              9              Widowed   \n",
       "16278   38        Private  374983             13   Married-civ-spouse   \n",
       "16279   44        Private   83891             13             Divorced   \n",
       "16280   35   Self-emp-inc  182148             13   Married-civ-spouse   \n",
       "\n",
       "               occupation     relationship  capital-gain  capital-loss  \\\n",
       "0       Machine-op-inspct        Own-child             0             0   \n",
       "1         Farming-fishing          Husband             0             0   \n",
       "2         Protective-serv          Husband             0             0   \n",
       "3       Machine-op-inspct          Husband          7688             0   \n",
       "4                       ?        Own-child             0             0   \n",
       "...                   ...              ...           ...           ...   \n",
       "16276      Prof-specialty    Not-in-family             0             0   \n",
       "16277                   ?   Other-relative             0             0   \n",
       "16278      Prof-specialty          Husband             0             0   \n",
       "16279        Adm-clerical        Own-child          5455             0   \n",
       "16280     Exec-managerial          Husband             0             0   \n",
       "\n",
       "       hours-per-week   income  \n",
       "0                  40   <=50K.  \n",
       "1                  50   <=50K.  \n",
       "2                  40    >50K.  \n",
       "3                  40    >50K.  \n",
       "4                  30   <=50K.  \n",
       "...               ...      ...  \n",
       "16276              36   <=50K.  \n",
       "16277              40   <=50K.  \n",
       "16278              50   <=50K.  \n",
       "16279              40   <=50K.  \n",
       "16280              60    >50K.  \n",
       "\n",
       "[16281 rows x 11 columns]"
      ]
     },
     "execution_count": 6,
     "metadata": {},
     "output_type": "execute_result"
    }
   ],
   "source": [
    "adult_test = adult_test.drop(columns = ['education','sex','race','native-country'],axis = 1)\n",
    "adult_test"
   ]
  },
  {
   "cell_type": "code",
   "execution_count": 24,
   "id": "bffd8973",
   "metadata": {},
   "outputs": [
    {
     "data": {
      "text/plain": [
       "False"
      ]
     },
     "execution_count": 24,
     "metadata": {},
     "output_type": "execute_result"
    }
   ],
   "source": [
    "'race' in adult_test.columns"
   ]
  },
  {
   "cell_type": "markdown",
   "id": "e6828bef",
   "metadata": {},
   "source": [
    "?가 존재하는 것은 workclass ,occupation ,native-country"
   ]
  },
  {
   "cell_type": "code",
   "execution_count": 7,
   "id": "16fb9665",
   "metadata": {},
   "outputs": [],
   "source": [
    "adult_train = adult_train.replace({' ?'},np.nan)\n",
    "adult_test = adult_test.replace({' ?'},np.nan)\n",
    "#print(adult_test)"
   ]
  },
  {
   "cell_type": "markdown",
   "id": "64d06f42",
   "metadata": {},
   "source": [
    "-> null의 개수 : DataFrame.isnull().sum()"
   ]
  },
  {
   "cell_type": "code",
   "execution_count": 8,
   "id": "ba0fcd03",
   "metadata": {},
   "outputs": [
    {
     "name": "stdout",
     "output_type": "stream",
     "text": [
      "age                  0\n",
      "workclass         1836\n",
      "fnlwgt               0\n",
      "education-num        0\n",
      "marital-status       0\n",
      "occupation        1843\n",
      "relationship         0\n",
      "capital-gain         0\n",
      "capital-loss         0\n",
      "hours-per-week       0\n",
      "income               0\n",
      "dtype: int64\n"
     ]
    }
   ],
   "source": [
    "print(adult_train.isnull().sum())"
   ]
  },
  {
   "cell_type": "code",
   "execution_count": 9,
   "id": "0c53a5f1",
   "metadata": {},
   "outputs": [
    {
     "name": "stdout",
     "output_type": "stream",
     "text": [
      "age                 0\n",
      "workclass         963\n",
      "fnlwgt              0\n",
      "education-num       0\n",
      "marital-status      0\n",
      "occupation        966\n",
      "relationship        0\n",
      "capital-gain        0\n",
      "capital-loss        0\n",
      "hours-per-week      0\n",
      "income              0\n",
      "dtype: int64\n"
     ]
    }
   ],
   "source": [
    "print(adult_test.isnull().sum())"
   ]
  },
  {
   "cell_type": "markdown",
   "id": "debae643",
   "metadata": {},
   "source": [
    "? -> NaN 수정 필요한 feature:\n",
    "1. <b>workclass</b>\n",
    "2. <b>occupation</b>\n",
    "3. <b>native-country</b>"
   ]
  },
  {
   "cell_type": "code",
   "execution_count": 10,
   "id": "536cd19f",
   "metadata": {},
   "outputs": [
    {
     "name": "stdout",
     "output_type": "stream",
     "text": [
      "<class 'pandas.core.frame.DataFrame'>\n",
      "RangeIndex: 32561 entries, 0 to 32560\n",
      "Data columns (total 11 columns):\n",
      " #   Column          Non-Null Count  Dtype \n",
      "---  ------          --------------  ----- \n",
      " 0   age             32561 non-null  int64 \n",
      " 1   workclass       30725 non-null  object\n",
      " 2   fnlwgt          32561 non-null  int64 \n",
      " 3   education-num   32561 non-null  int64 \n",
      " 4   marital-status  32561 non-null  object\n",
      " 5   occupation      30718 non-null  object\n",
      " 6   relationship    32561 non-null  object\n",
      " 7   capital-gain    32561 non-null  int64 \n",
      " 8   capital-loss    32561 non-null  int64 \n",
      " 9   hours-per-week  32561 non-null  int64 \n",
      " 10  income          32561 non-null  object\n",
      "dtypes: int64(6), object(5)\n",
      "memory usage: 2.7+ MB\n"
     ]
    }
   ],
   "source": [
    "adult_test.head(10)\n",
    "adult_train.info()"
   ]
  },
  {
   "cell_type": "markdown",
   "id": "9fdbcbc4",
   "metadata": {},
   "source": [
    "## 각 속성별 income과의 관계"
   ]
  },
  {
   "cell_type": "markdown",
   "id": "df6b868c",
   "metadata": {},
   "source": [
    "이 부분은 진행해도 되고 나중에 진행해도 됩니다."
   ]
  },
  {
   "cell_type": "code",
   "execution_count": 119,
   "id": "c5d5bf90",
   "metadata": {},
   "outputs": [],
   "source": [
    "from sklearn import preprocessing\n",
    "le = preprocessing.LabelEncoder()\n",
    "le = le.fit(adult_train['income'])\n",
    "adult_train['income'] = le.transform(adult_train['income'])"
   ]
  },
  {
   "cell_type": "markdown",
   "id": "332ea553",
   "metadata": {},
   "source": [
    "y축 값이 숫자가 되어야 해서 위의 LabelEncoder 한줄 가져와서 income가 >50K, <=50K 인거를 0,1로 바꾼것."
   ]
  },
  {
   "cell_type": "code",
   "execution_count": 120,
   "id": "f5bea657",
   "metadata": {},
   "outputs": [],
   "source": [
    "from sklearn import preprocessing"
   ]
  },
  {
   "cell_type": "code",
   "execution_count": 121,
   "id": "81714ea1",
   "metadata": {},
   "outputs": [],
   "source": [
    "le = preprocessing.LabelEncoder()"
   ]
  },
  {
   "cell_type": "code",
   "execution_count": 122,
   "id": "8deb76ee",
   "metadata": {},
   "outputs": [],
   "source": [
    "le = le.fit(adult_train['income'])"
   ]
  },
  {
   "cell_type": "code",
   "execution_count": 123,
   "id": "80bc05a6",
   "metadata": {},
   "outputs": [],
   "source": [
    "adult_train['income'] = le.transform(adult_train['income'])"
   ]
  },
  {
   "cell_type": "code",
   "execution_count": 124,
   "id": "27dd576a",
   "metadata": {},
   "outputs": [
    {
     "data": {
      "text/plain": [
       "0        0\n",
       "1        0\n",
       "2        0\n",
       "3        0\n",
       "4        0\n",
       "        ..\n",
       "32556    0\n",
       "32557    1\n",
       "32558    0\n",
       "32559    0\n",
       "32560    1\n",
       "Name: income, Length: 32561, dtype: int64"
      ]
     },
     "execution_count": 124,
     "metadata": {},
     "output_type": "execute_result"
    }
   ],
   "source": [
    "adult_train['income']"
   ]
  },
  {
   "cell_type": "code",
   "execution_count": 55,
   "id": "b4969140",
   "metadata": {},
   "outputs": [
    {
     "ename": "ValueError",
     "evalue": "Could not interpret input 'sex'",
     "output_type": "error",
     "traceback": [
      "\u001b[1;31m---------------------------------------------------------------------------\u001b[0m",
      "\u001b[1;31mValueError\u001b[0m                                Traceback (most recent call last)",
      "\u001b[1;32m<ipython-input-55-a37c583ca0a8>\u001b[0m in \u001b[0;36m<module>\u001b[1;34m\u001b[0m\n\u001b[1;32m----> 1\u001b[1;33m \u001b[0msns\u001b[0m\u001b[1;33m.\u001b[0m\u001b[0mbarplot\u001b[0m\u001b[1;33m(\u001b[0m\u001b[0mx\u001b[0m\u001b[1;33m=\u001b[0m\u001b[1;34m'sex'\u001b[0m\u001b[1;33m,\u001b[0m \u001b[0my\u001b[0m \u001b[1;33m=\u001b[0m \u001b[1;34m'income'\u001b[0m\u001b[1;33m,\u001b[0m \u001b[0mdata\u001b[0m\u001b[1;33m=\u001b[0m\u001b[0madult_train\u001b[0m\u001b[1;33m)\u001b[0m\u001b[1;33m\u001b[0m\u001b[1;33m\u001b[0m\u001b[0m\n\u001b[0m",
      "\u001b[1;32mc:\\users\\ad\\appdata\\local\\programs\\python\\python38\\lib\\site-packages\\seaborn\\_decorators.py\u001b[0m in \u001b[0;36minner_f\u001b[1;34m(*args, **kwargs)\u001b[0m\n\u001b[0;32m     44\u001b[0m             )\n\u001b[0;32m     45\u001b[0m         \u001b[0mkwargs\u001b[0m\u001b[1;33m.\u001b[0m\u001b[0mupdate\u001b[0m\u001b[1;33m(\u001b[0m\u001b[1;33m{\u001b[0m\u001b[0mk\u001b[0m\u001b[1;33m:\u001b[0m \u001b[0marg\u001b[0m \u001b[1;32mfor\u001b[0m \u001b[0mk\u001b[0m\u001b[1;33m,\u001b[0m \u001b[0marg\u001b[0m \u001b[1;32min\u001b[0m \u001b[0mzip\u001b[0m\u001b[1;33m(\u001b[0m\u001b[0msig\u001b[0m\u001b[1;33m.\u001b[0m\u001b[0mparameters\u001b[0m\u001b[1;33m,\u001b[0m \u001b[0margs\u001b[0m\u001b[1;33m)\u001b[0m\u001b[1;33m}\u001b[0m\u001b[1;33m)\u001b[0m\u001b[1;33m\u001b[0m\u001b[1;33m\u001b[0m\u001b[0m\n\u001b[1;32m---> 46\u001b[1;33m         \u001b[1;32mreturn\u001b[0m \u001b[0mf\u001b[0m\u001b[1;33m(\u001b[0m\u001b[1;33m**\u001b[0m\u001b[0mkwargs\u001b[0m\u001b[1;33m)\u001b[0m\u001b[1;33m\u001b[0m\u001b[1;33m\u001b[0m\u001b[0m\n\u001b[0m\u001b[0;32m     47\u001b[0m     \u001b[1;32mreturn\u001b[0m \u001b[0minner_f\u001b[0m\u001b[1;33m\u001b[0m\u001b[1;33m\u001b[0m\u001b[0m\n\u001b[0;32m     48\u001b[0m \u001b[1;33m\u001b[0m\u001b[0m\n",
      "\u001b[1;32mc:\\users\\ad\\appdata\\local\\programs\\python\\python38\\lib\\site-packages\\seaborn\\categorical.py\u001b[0m in \u001b[0;36mbarplot\u001b[1;34m(x, y, hue, data, order, hue_order, estimator, ci, n_boot, units, seed, orient, color, palette, saturation, errcolor, errwidth, capsize, dodge, ax, **kwargs)\u001b[0m\n\u001b[0;32m   3177\u001b[0m ):\n\u001b[0;32m   3178\u001b[0m \u001b[1;33m\u001b[0m\u001b[0m\n\u001b[1;32m-> 3179\u001b[1;33m     plotter = _BarPlotter(x, y, hue, data, order, hue_order,\n\u001b[0m\u001b[0;32m   3180\u001b[0m                           \u001b[0mestimator\u001b[0m\u001b[1;33m,\u001b[0m \u001b[0mci\u001b[0m\u001b[1;33m,\u001b[0m \u001b[0mn_boot\u001b[0m\u001b[1;33m,\u001b[0m \u001b[0munits\u001b[0m\u001b[1;33m,\u001b[0m \u001b[0mseed\u001b[0m\u001b[1;33m,\u001b[0m\u001b[1;33m\u001b[0m\u001b[1;33m\u001b[0m\u001b[0m\n\u001b[0;32m   3181\u001b[0m                           \u001b[0morient\u001b[0m\u001b[1;33m,\u001b[0m \u001b[0mcolor\u001b[0m\u001b[1;33m,\u001b[0m \u001b[0mpalette\u001b[0m\u001b[1;33m,\u001b[0m \u001b[0msaturation\u001b[0m\u001b[1;33m,\u001b[0m\u001b[1;33m\u001b[0m\u001b[1;33m\u001b[0m\u001b[0m\n",
      "\u001b[1;32mc:\\users\\ad\\appdata\\local\\programs\\python\\python38\\lib\\site-packages\\seaborn\\categorical.py\u001b[0m in \u001b[0;36m__init__\u001b[1;34m(self, x, y, hue, data, order, hue_order, estimator, ci, n_boot, units, seed, orient, color, palette, saturation, errcolor, errwidth, capsize, dodge)\u001b[0m\n\u001b[0;32m   1582\u001b[0m                  errwidth, capsize, dodge):\n\u001b[0;32m   1583\u001b[0m         \u001b[1;34m\"\"\"Initialize the plotter.\"\"\"\u001b[0m\u001b[1;33m\u001b[0m\u001b[1;33m\u001b[0m\u001b[0m\n\u001b[1;32m-> 1584\u001b[1;33m         self.establish_variables(x, y, hue, data, orient,\n\u001b[0m\u001b[0;32m   1585\u001b[0m                                  order, hue_order, units)\n\u001b[0;32m   1586\u001b[0m         \u001b[0mself\u001b[0m\u001b[1;33m.\u001b[0m\u001b[0mestablish_colors\u001b[0m\u001b[1;33m(\u001b[0m\u001b[0mcolor\u001b[0m\u001b[1;33m,\u001b[0m \u001b[0mpalette\u001b[0m\u001b[1;33m,\u001b[0m \u001b[0msaturation\u001b[0m\u001b[1;33m)\u001b[0m\u001b[1;33m\u001b[0m\u001b[1;33m\u001b[0m\u001b[0m\n",
      "\u001b[1;32mc:\\users\\ad\\appdata\\local\\programs\\python\\python38\\lib\\site-packages\\seaborn\\categorical.py\u001b[0m in \u001b[0;36mestablish_variables\u001b[1;34m(self, x, y, hue, data, orient, order, hue_order, units)\u001b[0m\n\u001b[0;32m    151\u001b[0m                 \u001b[1;32mif\u001b[0m \u001b[0misinstance\u001b[0m\u001b[1;33m(\u001b[0m\u001b[0mvar\u001b[0m\u001b[1;33m,\u001b[0m \u001b[0mstr\u001b[0m\u001b[1;33m)\u001b[0m\u001b[1;33m:\u001b[0m\u001b[1;33m\u001b[0m\u001b[1;33m\u001b[0m\u001b[0m\n\u001b[0;32m    152\u001b[0m                     \u001b[0merr\u001b[0m \u001b[1;33m=\u001b[0m \u001b[1;34m\"Could not interpret input '{}'\"\u001b[0m\u001b[1;33m.\u001b[0m\u001b[0mformat\u001b[0m\u001b[1;33m(\u001b[0m\u001b[0mvar\u001b[0m\u001b[1;33m)\u001b[0m\u001b[1;33m\u001b[0m\u001b[1;33m\u001b[0m\u001b[0m\n\u001b[1;32m--> 153\u001b[1;33m                     \u001b[1;32mraise\u001b[0m \u001b[0mValueError\u001b[0m\u001b[1;33m(\u001b[0m\u001b[0merr\u001b[0m\u001b[1;33m)\u001b[0m\u001b[1;33m\u001b[0m\u001b[1;33m\u001b[0m\u001b[0m\n\u001b[0m\u001b[0;32m    154\u001b[0m \u001b[1;33m\u001b[0m\u001b[0m\n\u001b[0;32m    155\u001b[0m             \u001b[1;31m# Figure out the plotting orientation\u001b[0m\u001b[1;33m\u001b[0m\u001b[1;33m\u001b[0m\u001b[1;33m\u001b[0m\u001b[0m\n",
      "\u001b[1;31mValueError\u001b[0m: Could not interpret input 'sex'"
     ]
    }
   ],
   "source": [
    "sns.barplot(x='sex', y = 'income', data=adult_train)"
   ]
  },
  {
   "cell_type": "code",
   "execution_count": null,
   "id": "71bcfd1a",
   "metadata": {},
   "outputs": [],
   "source": [
    "sns.barplot(x='age', y = 'income', data=adult_train)"
   ]
  },
  {
   "cell_type": "code",
   "execution_count": null,
   "id": "df4003ab",
   "metadata": {},
   "outputs": [],
   "source": [
    "sns.barplot(x='education', y = 'income', data=adult_train)"
   ]
  },
  {
   "cell_type": "code",
   "execution_count": null,
   "id": "2d8fb162",
   "metadata": {},
   "outputs": [],
   "source": [
    "sns.barplot(x='marital-status', y = 'income', data=adult_train)"
   ]
  },
  {
   "cell_type": "code",
   "execution_count": null,
   "id": "60a6d9f1",
   "metadata": {},
   "outputs": [],
   "source": [
    "sns.barplot(x='occupation', y = 'income', data=adult_train)"
   ]
  },
  {
   "cell_type": "code",
   "execution_count": null,
   "id": "12740d41",
   "metadata": {},
   "outputs": [],
   "source": [
    "sns.barplot(x='relationship', y = 'income', data=adult_train)"
   ]
  },
  {
   "cell_type": "code",
   "execution_count": null,
   "id": "c6be8ca0",
   "metadata": {},
   "outputs": [],
   "source": [
    "sns.barplot(x='race', y = 'income', data=adult_train)"
   ]
  },
  {
   "cell_type": "markdown",
   "id": "5e986056",
   "metadata": {},
   "source": [
    "## Data(Feature) Selection"
   ]
  },
  {
   "cell_type": "markdown",
   "id": "e48cc8c7",
   "metadata": {},
   "source": [
    "여기부터 다시 진행"
   ]
  },
  {
   "cell_type": "code",
   "execution_count": 27,
   "id": "6bde4349",
   "metadata": {},
   "outputs": [
    {
     "name": "stdout",
     "output_type": "stream",
     "text": [
      "데이터 세트 Null 값 갯수  3679\n"
     ]
    }
   ],
   "source": [
    "print('데이터 세트 Null 값 갯수 ',adult_train.isnull().sum().sum())"
   ]
  },
  {
   "cell_type": "markdown",
   "id": "bfab69ec",
   "metadata": {},
   "source": [
    "## Data Replacement"
   ]
  },
  {
   "cell_type": "markdown",
   "id": "bdb6583d",
   "metadata": {},
   "source": [
    "NaN을 대체해야 한다!\n",
    "1. <b>workclass</b>\n",
    "2. <b>occupation</b>\n",
    "3. <b>native-country</b>"
   ]
  },
  {
   "cell_type": "code",
   "execution_count": 11,
   "id": "24da8564",
   "metadata": {},
   "outputs": [],
   "source": [
    "adult_train['workclass'].fillna('Unknown',inplace=True)\n",
    "adult_train['occupation'].fillna('Unknown',inplace=True)\n",
    "#adult_train['native-country'].fillna('Unknown',inplace=True)"
   ]
  },
  {
   "cell_type": "code",
   "execution_count": 12,
   "id": "b3e20016",
   "metadata": {},
   "outputs": [],
   "source": [
    "adult_test['workclass'].fillna('Unknown',inplace=True)\n",
    "adult_test['occupation'].fillna('Unknown',inplace=True)\n",
    "#adult_test['native-country'].fillna('Unknown',inplace=True)"
   ]
  },
  {
   "cell_type": "code",
   "execution_count": 13,
   "id": "0016a462",
   "metadata": {},
   "outputs": [
    {
     "name": "stdout",
     "output_type": "stream",
     "text": [
      "데이터 세트 Null 값 갯수  0\n"
     ]
    }
   ],
   "source": [
    "print('데이터 세트 Null 값 갯수 ',adult_train.isnull().sum().sum())"
   ]
  },
  {
   "cell_type": "code",
   "execution_count": 14,
   "id": "8e99f241",
   "metadata": {},
   "outputs": [
    {
     "name": "stdout",
     "output_type": "stream",
     "text": [
      "데이터 세트 Null 값 갯수  0\n"
     ]
    }
   ],
   "source": [
    "print('데이터 세트 Null 값 갯수 ',adult_test.isnull().sum().sum())"
   ]
  },
  {
   "cell_type": "markdown",
   "id": "3085b1cc",
   "metadata": {},
   "source": [
    "object 데이터 -> integer label 데이터"
   ]
  },
  {
   "cell_type": "markdown",
   "id": "afcb9778",
   "metadata": {},
   "source": [
    "'education','native-country',"
   ]
  },
  {
   "cell_type": "code",
   "execution_count": 15,
   "id": "eb9fe2f8",
   "metadata": {},
   "outputs": [
    {
     "data": {
      "text/html": [
       "<div>\n",
       "<style scoped>\n",
       "    .dataframe tbody tr th:only-of-type {\n",
       "        vertical-align: middle;\n",
       "    }\n",
       "\n",
       "    .dataframe tbody tr th {\n",
       "        vertical-align: top;\n",
       "    }\n",
       "\n",
       "    .dataframe thead th {\n",
       "        text-align: right;\n",
       "    }\n",
       "</style>\n",
       "<table border=\"1\" class=\"dataframe\">\n",
       "  <thead>\n",
       "    <tr style=\"text-align: right;\">\n",
       "      <th></th>\n",
       "      <th>age</th>\n",
       "      <th>workclass</th>\n",
       "      <th>fnlwgt</th>\n",
       "      <th>education-num</th>\n",
       "      <th>marital-status</th>\n",
       "      <th>occupation</th>\n",
       "      <th>relationship</th>\n",
       "      <th>capital-gain</th>\n",
       "      <th>capital-loss</th>\n",
       "      <th>hours-per-week</th>\n",
       "      <th>income</th>\n",
       "    </tr>\n",
       "  </thead>\n",
       "  <tbody>\n",
       "    <tr>\n",
       "      <th>0</th>\n",
       "      <td>25</td>\n",
       "      <td>3</td>\n",
       "      <td>226802</td>\n",
       "      <td>7</td>\n",
       "      <td>4</td>\n",
       "      <td>6</td>\n",
       "      <td>3</td>\n",
       "      <td>0</td>\n",
       "      <td>0</td>\n",
       "      <td>40</td>\n",
       "      <td>0</td>\n",
       "    </tr>\n",
       "    <tr>\n",
       "      <th>1</th>\n",
       "      <td>38</td>\n",
       "      <td>3</td>\n",
       "      <td>89814</td>\n",
       "      <td>9</td>\n",
       "      <td>2</td>\n",
       "      <td>4</td>\n",
       "      <td>0</td>\n",
       "      <td>0</td>\n",
       "      <td>0</td>\n",
       "      <td>50</td>\n",
       "      <td>0</td>\n",
       "    </tr>\n",
       "    <tr>\n",
       "      <th>2</th>\n",
       "      <td>28</td>\n",
       "      <td>1</td>\n",
       "      <td>336951</td>\n",
       "      <td>12</td>\n",
       "      <td>2</td>\n",
       "      <td>10</td>\n",
       "      <td>0</td>\n",
       "      <td>0</td>\n",
       "      <td>0</td>\n",
       "      <td>40</td>\n",
       "      <td>1</td>\n",
       "    </tr>\n",
       "    <tr>\n",
       "      <th>3</th>\n",
       "      <td>44</td>\n",
       "      <td>3</td>\n",
       "      <td>160323</td>\n",
       "      <td>10</td>\n",
       "      <td>2</td>\n",
       "      <td>6</td>\n",
       "      <td>0</td>\n",
       "      <td>7688</td>\n",
       "      <td>0</td>\n",
       "      <td>40</td>\n",
       "      <td>1</td>\n",
       "    </tr>\n",
       "    <tr>\n",
       "      <th>4</th>\n",
       "      <td>18</td>\n",
       "      <td>8</td>\n",
       "      <td>103497</td>\n",
       "      <td>10</td>\n",
       "      <td>4</td>\n",
       "      <td>14</td>\n",
       "      <td>3</td>\n",
       "      <td>0</td>\n",
       "      <td>0</td>\n",
       "      <td>30</td>\n",
       "      <td>0</td>\n",
       "    </tr>\n",
       "    <tr>\n",
       "      <th>5</th>\n",
       "      <td>34</td>\n",
       "      <td>3</td>\n",
       "      <td>198693</td>\n",
       "      <td>6</td>\n",
       "      <td>4</td>\n",
       "      <td>7</td>\n",
       "      <td>1</td>\n",
       "      <td>0</td>\n",
       "      <td>0</td>\n",
       "      <td>30</td>\n",
       "      <td>0</td>\n",
       "    </tr>\n",
       "    <tr>\n",
       "      <th>6</th>\n",
       "      <td>29</td>\n",
       "      <td>8</td>\n",
       "      <td>227026</td>\n",
       "      <td>9</td>\n",
       "      <td>4</td>\n",
       "      <td>14</td>\n",
       "      <td>4</td>\n",
       "      <td>0</td>\n",
       "      <td>0</td>\n",
       "      <td>40</td>\n",
       "      <td>0</td>\n",
       "    </tr>\n",
       "    <tr>\n",
       "      <th>7</th>\n",
       "      <td>63</td>\n",
       "      <td>5</td>\n",
       "      <td>104626</td>\n",
       "      <td>15</td>\n",
       "      <td>2</td>\n",
       "      <td>9</td>\n",
       "      <td>0</td>\n",
       "      <td>3103</td>\n",
       "      <td>0</td>\n",
       "      <td>32</td>\n",
       "      <td>1</td>\n",
       "    </tr>\n",
       "    <tr>\n",
       "      <th>8</th>\n",
       "      <td>24</td>\n",
       "      <td>3</td>\n",
       "      <td>369667</td>\n",
       "      <td>10</td>\n",
       "      <td>4</td>\n",
       "      <td>7</td>\n",
       "      <td>4</td>\n",
       "      <td>0</td>\n",
       "      <td>0</td>\n",
       "      <td>40</td>\n",
       "      <td>0</td>\n",
       "    </tr>\n",
       "    <tr>\n",
       "      <th>9</th>\n",
       "      <td>55</td>\n",
       "      <td>3</td>\n",
       "      <td>104996</td>\n",
       "      <td>4</td>\n",
       "      <td>2</td>\n",
       "      <td>2</td>\n",
       "      <td>0</td>\n",
       "      <td>0</td>\n",
       "      <td>0</td>\n",
       "      <td>10</td>\n",
       "      <td>0</td>\n",
       "    </tr>\n",
       "    <tr>\n",
       "      <th>10</th>\n",
       "      <td>65</td>\n",
       "      <td>3</td>\n",
       "      <td>184454</td>\n",
       "      <td>9</td>\n",
       "      <td>2</td>\n",
       "      <td>6</td>\n",
       "      <td>0</td>\n",
       "      <td>6418</td>\n",
       "      <td>0</td>\n",
       "      <td>40</td>\n",
       "      <td>1</td>\n",
       "    </tr>\n",
       "    <tr>\n",
       "      <th>11</th>\n",
       "      <td>36</td>\n",
       "      <td>0</td>\n",
       "      <td>212465</td>\n",
       "      <td>13</td>\n",
       "      <td>2</td>\n",
       "      <td>0</td>\n",
       "      <td>0</td>\n",
       "      <td>0</td>\n",
       "      <td>0</td>\n",
       "      <td>40</td>\n",
       "      <td>0</td>\n",
       "    </tr>\n",
       "    <tr>\n",
       "      <th>12</th>\n",
       "      <td>26</td>\n",
       "      <td>3</td>\n",
       "      <td>82091</td>\n",
       "      <td>9</td>\n",
       "      <td>4</td>\n",
       "      <td>0</td>\n",
       "      <td>1</td>\n",
       "      <td>0</td>\n",
       "      <td>0</td>\n",
       "      <td>39</td>\n",
       "      <td>0</td>\n",
       "    </tr>\n",
       "    <tr>\n",
       "      <th>13</th>\n",
       "      <td>58</td>\n",
       "      <td>8</td>\n",
       "      <td>299831</td>\n",
       "      <td>9</td>\n",
       "      <td>2</td>\n",
       "      <td>14</td>\n",
       "      <td>0</td>\n",
       "      <td>0</td>\n",
       "      <td>0</td>\n",
       "      <td>35</td>\n",
       "      <td>0</td>\n",
       "    </tr>\n",
       "    <tr>\n",
       "      <th>14</th>\n",
       "      <td>48</td>\n",
       "      <td>3</td>\n",
       "      <td>279724</td>\n",
       "      <td>9</td>\n",
       "      <td>2</td>\n",
       "      <td>6</td>\n",
       "      <td>0</td>\n",
       "      <td>3103</td>\n",
       "      <td>0</td>\n",
       "      <td>48</td>\n",
       "      <td>1</td>\n",
       "    </tr>\n",
       "  </tbody>\n",
       "</table>\n",
       "</div>"
      ],
      "text/plain": [
       "    age  workclass  fnlwgt  education-num  marital-status  occupation  \\\n",
       "0    25          3  226802              7               4           6   \n",
       "1    38          3   89814              9               2           4   \n",
       "2    28          1  336951             12               2          10   \n",
       "3    44          3  160323             10               2           6   \n",
       "4    18          8  103497             10               4          14   \n",
       "5    34          3  198693              6               4           7   \n",
       "6    29          8  227026              9               4          14   \n",
       "7    63          5  104626             15               2           9   \n",
       "8    24          3  369667             10               4           7   \n",
       "9    55          3  104996              4               2           2   \n",
       "10   65          3  184454              9               2           6   \n",
       "11   36          0  212465             13               2           0   \n",
       "12   26          3   82091              9               4           0   \n",
       "13   58          8  299831              9               2          14   \n",
       "14   48          3  279724              9               2           6   \n",
       "\n",
       "    relationship  capital-gain  capital-loss  hours-per-week  income  \n",
       "0              3             0             0              40       0  \n",
       "1              0             0             0              50       0  \n",
       "2              0             0             0              40       1  \n",
       "3              0          7688             0              40       1  \n",
       "4              3             0             0              30       0  \n",
       "5              1             0             0              30       0  \n",
       "6              4             0             0              40       0  \n",
       "7              0          3103             0              32       1  \n",
       "8              4             0             0              40       0  \n",
       "9              0             0             0              10       0  \n",
       "10             0          6418             0              40       1  \n",
       "11             0             0             0              40       0  \n",
       "12             1             0             0              39       0  \n",
       "13             0             0             0              35       0  \n",
       "14             0          3103             0              48       1  "
      ]
     },
     "execution_count": 15,
     "metadata": {},
     "output_type": "execute_result"
    }
   ],
   "source": [
    "from sklearn import preprocessing\n",
    "\n",
    "def encode_features(dataDF):\n",
    "    features = ['workclass', 'marital-status','occupation','relationship','income']\n",
    "    for feature in features:\n",
    "        le = preprocessing.LabelEncoder()\n",
    "        le = le.fit(dataDF[feature])\n",
    "        dataDF[feature] = le.transform(dataDF[feature])\n",
    "        \n",
    "    return dataDF\n",
    "\n",
    "adult_train = encode_features(adult_train)\n",
    "adult_train.head(15)\n",
    "\n",
    "adult_test = encode_features(adult_test)\n",
    "adult_test.head(15) "
   ]
  },
  {
   "cell_type": "markdown",
   "id": "f53cbddb",
   "metadata": {},
   "source": [
    "## Feature importance"
   ]
  },
  {
   "cell_type": "markdown",
   "id": "1a0b5cce",
   "metadata": {},
   "source": [
    "dt_clf, rf_clf, lr_clf를 fit 한 이후에<br>\n",
    "해당 tree가 어떤 feature를 중심으로 학습을 진행했는지를 확인하는 코드<br>\n",
    "이 부분은 classifier를 선언, fit을 진행하고 나서 실행하면 정상 작동합니다."
   ]
  },
  {
   "cell_type": "code",
   "execution_count": null,
   "id": "39817518",
   "metadata": {},
   "outputs": [],
   "source": [
    "ftr_importances_values = dt_clf.feature_importances_\n",
    "# Top 중요도로 정렬을 쉽게 하고, 시본(Seaborn)의 막대그래프로 쉽게 표현하기 위해 Series변환\n",
    "ftr_importances = pd.Series(ftr_importances_values, index=train_x.columns  )\n",
    "# 중요도값 순으로 Series를 정렬\n",
    "ftr_top = ftr_importances.sort_values(ascending=False)\n",
    "plt.figure(figsize=(10,6))\n",
    "plt.title('Feature importances')\n",
    "sns.barplot(x=ftr_top , y = ftr_top.index)\n",
    "plt.show()"
   ]
  },
  {
   "cell_type": "code",
   "execution_count": null,
   "id": "970e1131",
   "metadata": {},
   "outputs": [],
   "source": [
    "ftr_importances_values = rf_clf.feature_importances_\n",
    "# Top 중요도로 정렬을 쉽게 하고, 시본(Seaborn)의 막대그래프로 쉽게 표현하기 위해 Series변환\n",
    "ftr_importances = pd.Series(ftr_importances_values, index=train_x.columns  )\n",
    "# 중요도값 순으로 Series를 정렬\n",
    "ftr_top = ftr_importances.sort_values(ascending=False)\n",
    "plt.figure(figsize=(10,6))\n",
    "plt.title('Feature importances')\n",
    "sns.barplot(x=ftr_top , y = ftr_top.index)\n",
    "plt.show()"
   ]
  },
  {
   "cell_type": "code",
   "execution_count": null,
   "id": "1c867c0c",
   "metadata": {},
   "outputs": [],
   "source": [
    "from matplotlib import pyplot\n",
    "importance = lr_clf.coef_[0]\n",
    "# summarize feature importance\n",
    "for i,v in enumerate(importance):\n",
    "\tprint('Feature: %0d, Score: %.5f' % (i,v))\n",
    "# plot feature importance\n",
    "pyplot.bar([x for x in range(len(importance))], importance)\n",
    "pyplot.show()"
   ]
  },
  {
   "cell_type": "markdown",
   "id": "9d948d3f",
   "metadata": {},
   "source": [
    "std"
   ]
  },
  {
   "cell_type": "code",
   "execution_count": null,
   "id": "6e844074",
   "metadata": {},
   "outputs": [],
   "source": [
    "ftr_importances_values = std_dt_clf.feature_importances_\n",
    "# Top 중요도로 정렬을 쉽게 하고, 시본(Seaborn)의 막대그래프로 쉽게 표현하기 위해 Series변환\n",
    "ftr_importances = pd.Series(ftr_importances_values, index=train_x.columns  )\n",
    "# 중요도값 순으로 Series를 정렬\n",
    "ftr_top = ftr_importances.sort_values(ascending=False)\n",
    "plt.figure(figsize=(10,6))\n",
    "plt.title('Feature importances')\n",
    "sns.barplot(x=ftr_top , y = ftr_top.index)\n",
    "plt.show()"
   ]
  },
  {
   "cell_type": "code",
   "execution_count": null,
   "id": "835199c8",
   "metadata": {},
   "outputs": [],
   "source": [
    "ftr_importances_values = std_rf_clf.feature_importances_\n",
    "# Top 중요도로 정렬을 쉽게 하고, 시본(Seaborn)의 막대그래프로 쉽게 표현하기 위해 Series변환\n",
    "ftr_importances = pd.Series(ftr_importances_values, index=train_x.columns  )\n",
    "# 중요도값 순으로 Series를 정렬\n",
    "ftr_top = ftr_importances.sort_values(ascending=False)\n",
    "plt.figure(figsize=(10,6))\n",
    "plt.title('Feature importances')\n",
    "sns.barplot(x=ftr_top , y = ftr_top.index)\n",
    "plt.show()"
   ]
  },
  {
   "cell_type": "code",
   "execution_count": null,
   "id": "b0386d6d",
   "metadata": {},
   "outputs": [],
   "source": [
    "from matplotlib import pyplot\n",
    "importance = std_lr_clf.coef_[0]\n",
    "# summarize feature importance\n",
    "for i,v in enumerate(importance):\n",
    "\tprint('Feature: %0d, Score: %.5f' % (i,v))\n",
    "# plot feature importance\n",
    "pyplot.bar([x for x in range(len(importance))], importance)\n",
    "pyplot.show()"
   ]
  },
  {
   "cell_type": "markdown",
   "id": "158d3da2",
   "metadata": {},
   "source": [
    "mm"
   ]
  },
  {
   "cell_type": "code",
   "execution_count": null,
   "id": "7ce32b58",
   "metadata": {},
   "outputs": [],
   "source": [
    "ftr_importances_values = mm_dt_clf.feature_importances_\n",
    "# Top 중요도로 정렬을 쉽게 하고, 시본(Seaborn)의 막대그래프로 쉽게 표현하기 위해 Series변환\n",
    "ftr_importances = pd.Series(ftr_importances_values, index=train_x.columns  )\n",
    "# 중요도값 순으로 Series를 정렬\n",
    "ftr_top = ftr_importances.sort_values(ascending=False)\n",
    "plt.figure(figsize=(10,6))\n",
    "plt.title('Feature importances')\n",
    "sns.barplot(x=ftr_top , y = ftr_top.index)\n",
    "plt.show()"
   ]
  },
  {
   "cell_type": "code",
   "execution_count": null,
   "id": "3b1efc04",
   "metadata": {},
   "outputs": [],
   "source": [
    "ftr_importances_values = mm_rf_clf.feature_importances_\n",
    "# Top 중요도로 정렬을 쉽게 하고, 시본(Seaborn)의 막대그래프로 쉽게 표현하기 위해 Series변환\n",
    "ftr_importances = pd.Series(ftr_importances_values, index=train_x.columns  )\n",
    "# 중요도값 순으로 Series를 정렬\n",
    "ftr_top = ftr_importances.sort_values(ascending=False)\n",
    "plt.figure(figsize=(10,6))\n",
    "plt.title('Feature importances')\n",
    "sns.barplot(x=ftr_top , y = ftr_top.index)\n",
    "plt.show()"
   ]
  },
  {
   "cell_type": "code",
   "execution_count": null,
   "id": "13254b73",
   "metadata": {},
   "outputs": [],
   "source": [
    "from matplotlib import pyplot\n",
    "importance = mm_lr_clf.coef_[0]\n",
    "# summarize feature importance\n",
    "for i,v in enumerate(importance):\n",
    "\tprint('Feature: %0d, Score: %.5f' % (i,v))\n",
    "# plot feature importance\n",
    "pyplot.bar([x for x in range(len(importance))], importance)\n",
    "pyplot.show()"
   ]
  },
  {
   "cell_type": "markdown",
   "id": "0b781e73",
   "metadata": {},
   "source": [
    "Make Train & Test Set"
   ]
  },
  {
   "cell_type": "code",
   "execution_count": 16,
   "id": "29d219ce",
   "metadata": {},
   "outputs": [],
   "source": [
    "train_x = adult_train.iloc[:,:-1]\n",
    "train_y = adult_train.iloc[:,-1]\n",
    "test_x = adult_test.iloc[:,:-1]\n",
    "test_y = adult_test.iloc[:,-1]"
   ]
  },
  {
   "cell_type": "markdown",
   "id": "55953e39",
   "metadata": {},
   "source": [
    "## PreProcessing with Scaler"
   ]
  },
  {
   "cell_type": "markdown",
   "id": "001406cc",
   "metadata": {},
   "source": [
    "### 1. StandardScaler"
   ]
  },
  {
   "cell_type": "markdown",
   "id": "984e32cd",
   "metadata": {},
   "source": [
    "오류 났던 이유: object -> int64로 변환이 진행되지 않았기 때문"
   ]
  },
  {
   "cell_type": "code",
   "execution_count": 17,
   "id": "02d3e476",
   "metadata": {},
   "outputs": [],
   "source": [
    "std_scaler = StandardScaler()\n",
    "std_train_x = std_scaler.fit_transform(train_x)\n",
    "std_test_x = std_scaler.fit_transform(test_x)"
   ]
  },
  {
   "cell_type": "code",
   "execution_count": 18,
   "id": "72975e16",
   "metadata": {},
   "outputs": [
    {
     "data": {
      "text/plain": [
       "array([[-0.99412926, -0.2528865 ,  0.35347399, ..., -0.14266185,\n",
       "        -0.21806206, -0.03143184],\n",
       "       [-0.05541716, -0.2528865 , -0.94239062, ..., -0.14266185,\n",
       "        -0.21806206,  0.7699177 ],\n",
       "       [-0.77750339, -1.49902606,  1.39544986, ..., -0.14266185,\n",
       "        -0.21806206, -0.03143184],\n",
       "       ...,\n",
       "       [-0.05541716, -0.2528865 ,  1.75522095, ..., -0.14266185,\n",
       "        -0.21806206,  0.7699177 ],\n",
       "       [ 0.37783458, -0.2528865 , -0.99842039, ...,  0.57664374,\n",
       "        -0.21806206, -0.03143184],\n",
       "       [-0.27204303,  0.37018328, -0.0689392 , ..., -0.14266185,\n",
       "        -0.21806206,  1.57126723]])"
      ]
     },
     "execution_count": 18,
     "metadata": {},
     "output_type": "execute_result"
    }
   ],
   "source": [
    "std_test_x"
   ]
  },
  {
   "cell_type": "markdown",
   "id": "e80c29a1",
   "metadata": {},
   "source": [
    "### 2. MinMaxScaler"
   ]
  },
  {
   "cell_type": "code",
   "execution_count": 19,
   "id": "1f765105",
   "metadata": {},
   "outputs": [],
   "source": [
    "mm_scaler = MinMaxScaler()\n",
    "mm_train_x = mm_scaler.fit_transform(train_x)\n",
    "mm_test_x = mm_scaler.fit_transform(test_x)"
   ]
  },
  {
   "cell_type": "code",
   "execution_count": 20,
   "id": "e47de4f8",
   "metadata": {},
   "outputs": [
    {
     "data": {
      "text/plain": [
       "array([[0.10958904, 0.375     , 0.14443012, ..., 0.        , 0.        ,\n",
       "        0.39795918],\n",
       "       [0.28767123, 0.375     , 0.05167688, ..., 0.        , 0.        ,\n",
       "        0.5       ],\n",
       "       [0.15068493, 0.125     , 0.21901093, ..., 0.        , 0.        ,\n",
       "        0.39795918],\n",
       "       ...,\n",
       "       [0.28767123, 0.375     , 0.24476203, ..., 0.        , 0.        ,\n",
       "        0.5       ],\n",
       "       [0.36986301, 0.375     , 0.04766648, ..., 0.05455055, 0.        ,\n",
       "        0.39795918],\n",
       "       [0.24657534, 0.5       , 0.11419533, ..., 0.        , 0.        ,\n",
       "        0.60204082]])"
      ]
     },
     "execution_count": 20,
     "metadata": {},
     "output_type": "execute_result"
    }
   ],
   "source": [
    "mm_test_x"
   ]
  },
  {
   "cell_type": "markdown",
   "id": "751827b1",
   "metadata": {},
   "source": [
    "## No PreProcessing Scaler"
   ]
  },
  {
   "cell_type": "markdown",
   "id": "56651f37",
   "metadata": {},
   "source": [
    "### Decision Tree & Random Forest & Logistic Regression"
   ]
  },
  {
   "cell_type": "code",
   "execution_count": 21,
   "id": "09041073",
   "metadata": {},
   "outputs": [],
   "source": [
    "from sklearn.tree import DecisionTreeClassifier\n",
    "from sklearn.ensemble import RandomForestClassifier\n",
    "from sklearn.linear_model import LogisticRegression\n",
    "\n",
    "dt_clf = DecisionTreeClassifier(random_state=156)\n",
    "rf_clf = RandomForestClassifier(random_state=156)\n",
    "lr_clf = LogisticRegression()"
   ]
  },
  {
   "cell_type": "code",
   "execution_count": 22,
   "id": "946255b1",
   "metadata": {},
   "outputs": [
    {
     "data": {
      "text/plain": [
       "LogisticRegression()"
      ]
     },
     "execution_count": 22,
     "metadata": {},
     "output_type": "execute_result"
    }
   ],
   "source": [
    "dt_clf.fit(train_x,train_y)\n",
    "rf_clf.fit(train_x,train_y)\n",
    "lr_clf.fit(train_x,train_y)"
   ]
  },
  {
   "cell_type": "code",
   "execution_count": 23,
   "id": "b4132320",
   "metadata": {},
   "outputs": [],
   "source": [
    "pred_dt = dt_clf.predict(test_x)\n",
    "pred_rf = rf_clf.predict(test_x)\n",
    "pred_lr = lr_clf.predict(test_x)"
   ]
  },
  {
   "cell_type": "code",
   "execution_count": 24,
   "id": "440a92e7",
   "metadata": {},
   "outputs": [],
   "source": [
    "pred_dt_proba = dt_clf.predict_proba(test_x)[:, 1]\n",
    "pred_rf_proba = rf_clf.predict_proba(test_x)[:, 1]\n",
    "pred_lr_proba = lr_clf.predict_proba(test_x)[:, 1]"
   ]
  },
  {
   "cell_type": "markdown",
   "id": "59324dbc",
   "metadata": {},
   "source": [
    "## PreProcessing Standard Scaler"
   ]
  },
  {
   "cell_type": "markdown",
   "id": "a1b6a9fe",
   "metadata": {},
   "source": [
    "### Decision Tree & Random Forest & Logistic Regression"
   ]
  },
  {
   "cell_type": "code",
   "execution_count": 25,
   "id": "9d4ad91d",
   "metadata": {},
   "outputs": [],
   "source": [
    "from sklearn.tree import DecisionTreeClassifier\n",
    "from sklearn.ensemble import RandomForestClassifier\n",
    "from sklearn.linear_model import LogisticRegression\n",
    "\n",
    "std_dt_clf = DecisionTreeClassifier(random_state=156)\n",
    "std_rf_clf = RandomForestClassifier(random_state=156)\n",
    "std_lr_clf = LogisticRegression()"
   ]
  },
  {
   "cell_type": "code",
   "execution_count": 26,
   "id": "5554aa7e",
   "metadata": {},
   "outputs": [
    {
     "data": {
      "text/plain": [
       "LogisticRegression()"
      ]
     },
     "execution_count": 26,
     "metadata": {},
     "output_type": "execute_result"
    }
   ],
   "source": [
    "std_dt_clf.fit(std_train_x,train_y)\n",
    "std_rf_clf.fit(std_train_x,train_y)\n",
    "std_lr_clf.fit(std_train_x,train_y)"
   ]
  },
  {
   "cell_type": "code",
   "execution_count": 27,
   "id": "4253f5b3",
   "metadata": {},
   "outputs": [],
   "source": [
    "std_pred_dt = std_dt_clf.predict(std_test_x)\n",
    "std_pred_rf = std_rf_clf.predict(std_test_x)\n",
    "std_pred_lr = std_lr_clf.predict(std_test_x)"
   ]
  },
  {
   "cell_type": "code",
   "execution_count": 28,
   "id": "cd9836d3",
   "metadata": {},
   "outputs": [
    {
     "name": "stdout",
     "output_type": "stream",
     "text": [
      "[[1. 0.]\n",
      " [0. 1.]\n",
      " [0. 1.]\n",
      " ...\n",
      " [0. 1.]\n",
      " [1. 0.]\n",
      " [0. 1.]]\n"
     ]
    }
   ],
   "source": [
    "print(std_dt_clf.predict_proba(std_test_x))"
   ]
  },
  {
   "cell_type": "code",
   "execution_count": 29,
   "id": "0188d81e",
   "metadata": {},
   "outputs": [],
   "source": [
    "std_pred_dt_proba = std_dt_clf.predict_proba(std_test_x)[:, 1]\n",
    "std_pred_rf_proba = std_rf_clf.predict_proba(std_test_x)[:, 1]\n",
    "std_pred_lr_proba = std_lr_clf.predict_proba(std_test_x)[:, 1]"
   ]
  },
  {
   "cell_type": "code",
   "execution_count": 30,
   "id": "a9d9acd5",
   "metadata": {},
   "outputs": [
    {
     "data": {
      "text/plain": [
       "array([0.0171286 , 0.19840803, 0.31907555, ..., 0.50976456, 0.74063402,\n",
       "       0.51596827])"
      ]
     },
     "execution_count": 30,
     "metadata": {},
     "output_type": "execute_result"
    }
   ],
   "source": [
    "std_pred_lr_proba"
   ]
  },
  {
   "cell_type": "markdown",
   "id": "0797ab41",
   "metadata": {},
   "source": [
    "## PreProcessing MinMax Scaler"
   ]
  },
  {
   "cell_type": "markdown",
   "id": "5b38bc33",
   "metadata": {},
   "source": [
    "### Decision Tree & Random Forest & Logistic Regression"
   ]
  },
  {
   "cell_type": "code",
   "execution_count": 31,
   "id": "1c13439a",
   "metadata": {},
   "outputs": [],
   "source": [
    "from sklearn.tree import DecisionTreeClassifier\n",
    "from sklearn.ensemble import RandomForestClassifier\n",
    "from sklearn.linear_model import LogisticRegression\n",
    "\n",
    "mm_dt_clf = DecisionTreeClassifier(random_state=156)\n",
    "mm_rf_clf = RandomForestClassifier(random_state=156)\n",
    "mm_lr_clf = LogisticRegression()"
   ]
  },
  {
   "cell_type": "code",
   "execution_count": 32,
   "id": "cf5f76ae",
   "metadata": {},
   "outputs": [
    {
     "data": {
      "text/plain": [
       "LogisticRegression()"
      ]
     },
     "execution_count": 32,
     "metadata": {},
     "output_type": "execute_result"
    }
   ],
   "source": [
    "mm_dt_clf.fit(mm_train_x,train_y)\n",
    "mm_rf_clf.fit(mm_train_x,train_y)\n",
    "mm_lr_clf.fit(mm_train_x,train_y)"
   ]
  },
  {
   "cell_type": "code",
   "execution_count": 33,
   "id": "2b75ad49",
   "metadata": {},
   "outputs": [],
   "source": [
    "mm_pred_dt = mm_dt_clf.predict(mm_test_x)\n",
    "mm_pred_rf = mm_rf_clf.predict(mm_test_x)\n",
    "mm_pred_lr = mm_lr_clf.predict(mm_test_x)"
   ]
  },
  {
   "cell_type": "code",
   "execution_count": 34,
   "id": "d146de34",
   "metadata": {},
   "outputs": [],
   "source": [
    "mm_pred_dt_proba = mm_dt_clf.predict_proba(mm_test_x)[:, 1]\n",
    "mm_pred_rf_proba = mm_rf_clf.predict_proba(mm_test_x)[:, 1]\n",
    "mm_pred_lr_proba = mm_lr_clf.predict_proba(mm_test_x)[:, 1]"
   ]
  },
  {
   "cell_type": "markdown",
   "id": "cc69485b",
   "metadata": {},
   "source": [
    "## 평가"
   ]
  },
  {
   "cell_type": "code",
   "execution_count": 35,
   "id": "80896fb9",
   "metadata": {},
   "outputs": [],
   "source": [
    "def get_clf_eval(y_test, pred=None, pred_proba=None):\n",
    "    confusion = confusion_matrix( y_test, pred)\n",
    "    accuracy = accuracy_score(y_test , pred)\n",
    "    precision = precision_score(y_test , pred)\n",
    "    recall = recall_score(y_test , pred)\n",
    "    f1 = f1_score(y_test,pred)\n",
    "    # ROC-AUC 추가 \n",
    "    roc_auc = roc_auc_score(y_test, pred_proba)\n",
    "    print('오차 행렬')\n",
    "    print(confusion)\n",
    "    # ROC-AUC print 추가\n",
    "    print('정확도: {0:.4f}, 정밀도: {1:.4f}, 재현율: {2:.4f},\\\n",
    "    F1: {3:.4f}, AUC:{4:.4f}'.format(accuracy, precision, recall, f1, roc_auc))"
   ]
  },
  {
   "cell_type": "code",
   "execution_count": 36,
   "id": "167d83ab",
   "metadata": {},
   "outputs": [],
   "source": [
    "from sklearn.preprocessing import Binarizer\n",
    "\n",
    "def get_eval_by_threshold(y_test , pred_proba_c1, thresholds):\n",
    "    # thresholds 리스트 객체내의 값을 차례로 iteration하면서 Evaluation 수행.\n",
    "    for custom_threshold in thresholds:\n",
    "        binarizer = Binarizer(threshold=custom_threshold).fit(pred_proba_c1) \n",
    "        custom_predict = binarizer.transform(pred_proba_c1)\n",
    "        print('임곗값:',custom_threshold)\n",
    "        get_clf_eval(y_test , custom_predict, pred_proba_c1)"
   ]
  },
  {
   "cell_type": "markdown",
   "id": "38601907",
   "metadata": {},
   "source": [
    "### 1. Decision Tree"
   ]
  },
  {
   "cell_type": "code",
   "execution_count": 37,
   "id": "4a0010b5",
   "metadata": {},
   "outputs": [
    {
     "name": "stdout",
     "output_type": "stream",
     "text": [
      "no scaler\n",
      "오차 행렬\n",
      "[[10813  1622]\n",
      " [ 1505  2341]]\n",
      "정확도: 0.8079, 정밀도: 0.5907, 재현율: 0.6087,    F1: 0.5996, AUC:0.7391\n",
      "standard scaler\n",
      "오차 행렬\n",
      "[[10812  1623]\n",
      " [ 1541  2305]]\n",
      "정확도: 0.8057, 정밀도: 0.5868, 재현율: 0.5993,    F1: 0.5930, AUC:0.7344\n",
      "minmax scaler\n",
      "오차 행렬\n",
      "[[10735  1700]\n",
      " [ 1617  2229]]\n",
      "정확도: 0.7963, 정밀도: 0.5673, 재현율: 0.5796,    F1: 0.5734, AUC:0.7391\n"
     ]
    }
   ],
   "source": [
    "print('no scaler')\n",
    "get_clf_eval(test_y, pred_dt, pred_dt_proba)\n",
    "print('standard scaler')\n",
    "get_clf_eval(test_y, std_pred_dt, std_pred_dt_proba)\n",
    "print('minmax scaler')\n",
    "get_clf_eval(test_y, mm_pred_dt, pred_dt_proba)\n"
   ]
  },
  {
   "cell_type": "markdown",
   "id": "5ac2afd6",
   "metadata": {},
   "source": [
    "\n",
    "### 2. Random Forest"
   ]
  },
  {
   "cell_type": "code",
   "execution_count": 38,
   "id": "530b5ffe",
   "metadata": {},
   "outputs": [
    {
     "name": "stdout",
     "output_type": "stream",
     "text": [
      "no scaler\n",
      "오차 행렬\n",
      "[[11552   883]\n",
      " [ 1513  2333]]\n",
      "정확도: 0.8528, 정밀도: 0.7254, 재현율: 0.6066,    F1: 0.6607, AUC:0.9035\n",
      "standard scaler\n",
      "오차 행렬\n",
      "[[11549   886]\n",
      " [ 1562  2284]]\n",
      "정확도: 0.8496, 정밀도: 0.7205, 재현율: 0.5939,    F1: 0.6511, AUC:0.9008\n",
      "minmax scaler\n",
      "오차 행렬\n",
      "[[11490   945]\n",
      " [ 1621  2225]]\n",
      "정확도: 0.8424, 정밀도: 0.7019, 재현율: 0.5785,    F1: 0.6343, AUC:0.9035\n"
     ]
    }
   ],
   "source": [
    "print('no scaler')\n",
    "get_clf_eval(test_y, pred_rf, pred_rf_proba)\n",
    "print('standard scaler')\n",
    "get_clf_eval(test_y, std_pred_rf, std_pred_rf_proba)\n",
    "print('minmax scaler')\n",
    "get_clf_eval(test_y, mm_pred_rf, pred_rf_proba)"
   ]
  },
  {
   "cell_type": "code",
   "execution_count": 39,
   "id": "19f0eaed",
   "metadata": {},
   "outputs": [
    {
     "name": "stdout",
     "output_type": "stream",
     "text": [
      "임곗값: 0.3\n",
      "오차 행렬\n",
      "[[10503  1932]\n",
      " [  821  3025]]\n",
      "정확도: 0.8309, 정밀도: 0.6102, 재현율: 0.7865,    F1: 0.6873, AUC:0.9035\n",
      "임곗값: 0.33\n",
      "오차 행렬\n",
      "[[10695  1740]\n",
      " [  918  2928]]\n",
      "정확도: 0.8367, 정밀도: 0.6272, 재현율: 0.7613,    F1: 0.6878, AUC:0.9035\n",
      "임곗값: 0.36\n",
      "오차 행렬\n",
      "[[10876  1559]\n",
      " [ 1010  2836]]\n",
      "정확도: 0.8422, 정밀도: 0.6453, 재현율: 0.7374,    F1: 0.6883, AUC:0.9035\n",
      "임곗값: 0.39\n",
      "오차 행렬\n",
      "[[11056  1379]\n",
      " [ 1117  2729]]\n",
      "정확도: 0.8467, 정밀도: 0.6643, 재현율: 0.7096,    F1: 0.6862, AUC:0.9035\n",
      "임곗값: 0.42\n",
      "오차 행렬\n",
      "[[11221  1214]\n",
      " [ 1228  2618]]\n",
      "정확도: 0.8500, 정밀도: 0.6832, 재현율: 0.6807,    F1: 0.6819, AUC:0.9035\n",
      "임곗값: 0.45\n",
      "오차 행렬\n",
      "[[11371  1064]\n",
      " [ 1326  2520]]\n",
      "정확도: 0.8532, 정밀도: 0.7031, 재현율: 0.6552,    F1: 0.6783, AUC:0.9035\n",
      "임곗값: 0.48\n",
      "오차 행렬\n",
      "[[11488   947]\n",
      " [ 1436  2410]]\n",
      "정확도: 0.8536, 정밀도: 0.7179, 재현율: 0.6266,    F1: 0.6692, AUC:0.9035\n",
      "임곗값: 0.5\n",
      "오차 행렬\n",
      "[[11552   883]\n",
      " [ 1513  2333]]\n",
      "정확도: 0.8528, 정밀도: 0.7254, 재현율: 0.6066,    F1: 0.6607, AUC:0.9035\n"
     ]
    }
   ],
   "source": [
    "thresholds = [0.3 , 0.33 ,0.36,0.39, 0.42 , 0.45 ,0.48, 0.50]\n",
    "get_eval_by_threshold(test_y, pred_rf_proba.reshape(-1,1), thresholds )"
   ]
  },
  {
   "cell_type": "markdown",
   "id": "fb3f469a",
   "metadata": {},
   "source": [
    "<b>학습정도, 성별, 인종, 국가 drop후 결과</b>"
   ]
  },
  {
   "cell_type": "markdown",
   "id": "6a8b0124",
   "metadata": {},
   "source": [
    "분류자는 Random forest가 AUC가 가장 높아서 채택"
   ]
  },
  {
   "cell_type": "markdown",
   "id": "63565287",
   "metadata": {},
   "source": [
    "정밀도(Precision)과 재현율(Recall)이 Crossover되는 구간이 0.42~0.45사이 값이므로\n",
    "threshold의 임곗값을 0.45로 정함"
   ]
  },
  {
   "cell_type": "markdown",
   "id": "dfe65e09",
   "metadata": {},
   "source": [
    "오차 행렬<br>\n",
    "[[11221  1214]<br>\n",
    " [ 1228  2618]]<br>\n",
    "정확도: 0.8500, 정밀도: 0.6832, 재현율: 0.6807,    F1: 0.6819, AUC:0.9035\n",
    "임곗값: 0.45"
   ]
  },
  {
   "cell_type": "code",
   "execution_count": 45,
   "id": "d133aa74",
   "metadata": {},
   "outputs": [],
   "source": [
    "from sklearn.metrics import precision_recall_curve\n",
    "\n",
    "def precision_recall_curve_plot(y_test, pred_proba_c1):\n",
    "    # threshold ndarray와 이 threshold에 따른 정밀도, 재현율 ndarray 추출\n",
    "    precisions, recalls, thresholds = precision_recall_curve(y_test, pred_proba_c1)\n",
    "    \n",
    "    # X축을 threshold값으로, Y축을 정밀도ㅡ 재현율 값으로 각각 Plot 수행, 정밀도는 점선으로 표시\n",
    "    plt.figure(figsize=(8,6))\n",
    "    threshold_boundary = thresholds.shape[0]\n",
    "    plt.plot(thresholds, precisions[0:threshold_boundary], linestyle = '--', label = 'precision')\n",
    "    plt.plot(thresholds, recalls[0:threshold_boundary], label = 'recall')\n",
    "    \n",
    "    # threshold 값 X 축과 Scale을 0.1 단위로 변경\n",
    "    start, end = plt.xlim()\n",
    "    plt.xticks(np.round(np.arange(start, end, 0.1),2))\n",
    "    \n",
    "    # X축, Y축 label과 legend, 그리고 grid 설정\n",
    "    plt.xlabel('Threshold value'); plt.ylabel('Precision and Recall value')\n",
    "    plt.legend(); plt.grid()\n",
    "    plt.show()"
   ]
  },
  {
   "cell_type": "code",
   "execution_count": 46,
   "id": "e3351077",
   "metadata": {},
   "outputs": [
    {
     "data": {
      "image/png": "[encoded data removed]",
      "text/plain": [
       "<Figure size 576x432 with 1 Axes>"
      ]
     },
     "metadata": {
      "needs_background": "light"
     },
     "output_type": "display_data"
    }
   ],
   "source": [
    "precision_recall_curve_plot(test_y, pred_rf_proba)"
   ]
  },
  {
   "cell_type": "code",
   "execution_count": 47,
   "id": "24a31e01",
   "metadata": {},
   "outputs": [
    {
     "data": {
      "image/png": "[encoded data removed]",
      "text/plain": [
       "<Figure size 576x432 with 1 Axes>"
      ]
     },
     "metadata": {
      "needs_background": "light"
     },
     "output_type": "display_data"
    }
   ],
   "source": [
    "precision_recall_curve_plot(test_y, std_pred_rf_proba)"
   ]
  },
  {
   "cell_type": "code",
   "execution_count": 48,
   "id": "77738d3e",
   "metadata": {},
   "outputs": [
    {
     "data": {
      "image/png": "[encoded data removed]",
      "text/plain": [
       "<Figure size 576x432 with 1 Axes>"
      ]
     },
     "metadata": {
      "needs_background": "light"
     },
     "output_type": "display_data"
    }
   ],
   "source": [
    "precision_recall_curve_plot(test_y, mm_pred_rf_proba)"
   ]
  },
  {
   "cell_type": "code",
   "execution_count": 49,
   "id": "9cc4bb78",
   "metadata": {},
   "outputs": [
    {
     "name": "stdout",
     "output_type": "stream",
     "text": [
      "임곗값: 0.3\n",
      "오차 행렬\n",
      "[[10481  1954]\n",
      " [  852  2994]]\n",
      "정확도: 0.8277, 정밀도: 0.6051, 재현율: 0.7785,    F1: 0.6809, AUC:0.9008\n",
      "임곗값: 0.33\n",
      "오차 행렬\n",
      "[[10698  1737]\n",
      " [  958  2888]]\n",
      "정확도: 0.8345, 정밀도: 0.6244, 재현율: 0.7509,    F1: 0.6819, AUC:0.9008\n",
      "임곗값: 0.36\n",
      "오차 행렬\n",
      "[[10872  1563]\n",
      " [ 1057  2789]]\n",
      "정확도: 0.8391, 정밀도: 0.6409, 재현율: 0.7252,    F1: 0.6804, AUC:0.9008\n",
      "임곗값: 0.39\n",
      "오차 행렬\n",
      "[[11067  1368]\n",
      " [ 1159  2687]]\n",
      "정확도: 0.8448, 정밀도: 0.6626, 재현율: 0.6986,    F1: 0.6802, AUC:0.9008\n",
      "임곗값: 0.42\n",
      "오차 행렬\n",
      "[[11212  1223]\n",
      " [ 1267  2579]]\n",
      "정확도: 0.8471, 정밀도: 0.6783, 재현율: 0.6706,    F1: 0.6744, AUC:0.9008\n",
      "임곗값: 0.45\n",
      "오차 행렬\n",
      "[[11368  1067]\n",
      " [ 1371  2475]]\n",
      "정확도: 0.8503, 정밀도: 0.6988, 재현율: 0.6435,    F1: 0.6700, AUC:0.9008\n",
      "임곗값: 0.48\n",
      "오차 행렬\n",
      "[[11477   958]\n",
      " [ 1484  2362]]\n",
      "정확도: 0.8500, 정밀도: 0.7114, 재현율: 0.6141,    F1: 0.6592, AUC:0.9008\n",
      "임곗값: 0.5\n",
      "오차 행렬\n",
      "[[11549   886]\n",
      " [ 1562  2284]]\n",
      "정확도: 0.8496, 정밀도: 0.7205, 재현율: 0.5939,    F1: 0.6511, AUC:0.9008\n"
     ]
    }
   ],
   "source": [
    "thresholds = [0.3 , 0.33 ,0.36,0.39, 0.42 , 0.45 ,0.48, 0.50]\n",
    "get_eval_by_threshold(test_y, std_pred_rf_proba.reshape(-1,1), thresholds )"
   ]
  },
  {
   "cell_type": "code",
   "execution_count": 50,
   "id": "37779f6a",
   "metadata": {},
   "outputs": [
    {
     "name": "stdout",
     "output_type": "stream",
     "text": [
      "임곗값: 0.3\n",
      "오차 행렬\n",
      "[[10461  1974]\n",
      " [  886  2960]]\n",
      "정확도: 0.8243, 정밀도: 0.5999, 재현율: 0.7696,    F1: 0.6743, AUC:0.8951\n",
      "임곗값: 0.33\n",
      "오차 행렬\n",
      "[[10650  1785]\n",
      " [  975  2871]]\n",
      "정확도: 0.8305, 정밀도: 0.6166, 재현율: 0.7465,    F1: 0.6754, AUC:0.8951\n",
      "임곗값: 0.36\n",
      "오차 행렬\n",
      "[[10819  1616]\n",
      " [ 1084  2762]]\n",
      "정확도: 0.8342, 정밀도: 0.6309, 재현율: 0.7181,    F1: 0.6717, AUC:0.8951\n",
      "임곗값: 0.39\n",
      "오차 행렬\n",
      "[[10991  1444]\n",
      " [ 1200  2646]]\n",
      "정확도: 0.8376, 정밀도: 0.6469, 재현율: 0.6880,    F1: 0.6668, AUC:0.8951\n",
      "임곗값: 0.42\n",
      "오차 행렬\n",
      "[[11155  1280]\n",
      " [ 1320  2526]]\n",
      "정확도: 0.8403, 정밀도: 0.6637, 재현율: 0.6568,    F1: 0.6602, AUC:0.8951\n",
      "임곗값: 0.45\n",
      "오차 행렬\n",
      "[[11304  1131]\n",
      " [ 1426  2420]]\n",
      "정확도: 0.8429, 정밀도: 0.6815, 재현율: 0.6292,    F1: 0.6543, AUC:0.8951\n",
      "임곗값: 0.48\n",
      "오차 행렬\n",
      "[[11422  1013]\n",
      " [ 1545  2301]]\n",
      "정확도: 0.8429, 정밀도: 0.6943, 재현율: 0.5983,    F1: 0.6427, AUC:0.8951\n",
      "임곗값: 0.5\n",
      "오차 행렬\n",
      "[[11490   945]\n",
      " [ 1621  2225]]\n",
      "정확도: 0.8424, 정밀도: 0.7019, 재현율: 0.5785,    F1: 0.6343, AUC:0.8951\n"
     ]
    }
   ],
   "source": [
    "thresholds = [0.3 , 0.33 ,0.36,0.39, 0.42 , 0.45 ,0.48, 0.50]\n",
    "get_eval_by_threshold(test_y, mm_pred_rf_proba.reshape(-1,1), thresholds )"
   ]
  },
  {
   "cell_type": "markdown",
   "id": "81168186",
   "metadata": {},
   "source": [
    "### 3.Logistic Regression"
   ]
  },
  {
   "cell_type": "code",
   "execution_count": 84,
   "id": "5124ac6c",
   "metadata": {},
   "outputs": [
    {
     "name": "stdout",
     "output_type": "stream",
     "text": [
      "no scaler\n",
      "오차 행렬\n",
      "[[11746   689]\n",
      " [ 2731  1115]]\n",
      "정확도: 0.7899, 정밀도: 0.6181, 재현율: 0.2899,    F1: 0.3947, AUC:0.7328\n",
      "standard scaler\n",
      "오차 행렬\n",
      "[[11710   725]\n",
      " [ 2151  1695]]\n",
      "정확도: 0.8234, 정밀도: 0.7004, 재현율: 0.4407,    F1: 0.5410, AUC:0.8477\n",
      "minmax scaler\n",
      "오차 행렬\n",
      "[[11709   726]\n",
      " [ 2180  1666]]\n",
      "정확도: 0.8215, 정밀도: 0.6965, 재현율: 0.4332,    F1: 0.5341, AUC:0.7328\n"
     ]
    }
   ],
   "source": [
    "print('no scaler')\n",
    "get_clf_eval(test_y, pred_lr, pred_lr_proba)\n",
    "print('standard scaler')\n",
    "get_clf_eval(test_y, std_pred_lr, std_pred_lr_proba)\n",
    "print('minmax scaler')\n",
    "get_clf_eval(test_y, mm_pred_lr, pred_lr_proba)"
   ]
  },
  {
   "cell_type": "code",
   "execution_count": 86,
   "id": "919c1c6a",
   "metadata": {},
   "outputs": [
    {
     "name": "stdout",
     "output_type": "stream",
     "text": [
      "임곗값: 0.3\n",
      "오차 행렬\n",
      "[[10419  2016]\n",
      " [ 2281  1565]]\n",
      "정확도: 0.7361, 정밀도: 0.4370, 재현율: 0.4069,    F1: 0.4214, AUC:0.7328\n",
      "임곗값: 0.33\n",
      "오차 행렬\n",
      "[[10853  1582]\n",
      " [ 2427  1419]]\n",
      "정확도: 0.7538, 정밀도: 0.4728, 재현율: 0.3690,    F1: 0.4145, AUC:0.7328\n",
      "임곗값: 0.36\n",
      "오차 행렬\n",
      "[[11138  1297]\n",
      " [ 2513  1333]]\n",
      "정확도: 0.7660, 정밀도: 0.5068, 재현율: 0.3466,    F1: 0.4117, AUC:0.7328\n",
      "임곗값: 0.39\n",
      "오차 행렬\n",
      "[[11293  1142]\n",
      " [ 2556  1290]]\n",
      "정확도: 0.7729, 정밀도: 0.5304, 재현율: 0.3354,    F1: 0.4110, AUC:0.7328\n",
      "임곗값: 0.42\n",
      "오차 행렬\n",
      "[[11432  1003]\n",
      " [ 2590  1256]]\n",
      "정확도: 0.7793, 정밀도: 0.5560, 재현율: 0.3266,    F1: 0.4115, AUC:0.7328\n",
      "임곗값: 0.45\n",
      "오차 행렬\n",
      "[[11568   867]\n",
      " [ 2635  1211]]\n",
      "정확도: 0.7849, 정밀도: 0.5828, 재현율: 0.3149,    F1: 0.4088, AUC:0.7328\n",
      "임곗값: 0.48\n",
      "오차 행렬\n",
      "[[11687   748]\n",
      " [ 2684  1162]]\n",
      "정확도: 0.7892, 정밀도: 0.6084, 재현율: 0.3021,    F1: 0.4038, AUC:0.7328\n",
      "임곗값: 0.5\n",
      "오차 행렬\n",
      "[[11746   689]\n",
      " [ 2731  1115]]\n",
      "정확도: 0.7899, 정밀도: 0.6181, 재현율: 0.2899,    F1: 0.3947, AUC:0.7328\n"
     ]
    }
   ],
   "source": [
    "thresholds = [0.3 , 0.33 ,0.36,0.39, 0.42 , 0.45 ,0.48, 0.50]\n",
    "get_eval_by_threshold(test_y, pred_lr_proba.reshape(-1,1), thresholds )"
   ]
  },
  {
   "cell_type": "code",
   "execution_count": null,
   "id": "d1da52f0",
   "metadata": {},
   "outputs": [],
   "source": []
  }
 ],
 "metadata": {
  "kernelspec": {
   "display_name": "Python 3",
   "language": "python",
   "name": "python3"
  },
  "language_info": {
   "codemirror_mode": {
    "name": "ipython",
    "version": 3
   },
   "file_extension": ".py",
   "mimetype": "text/x-python",
   "name": "python",
   "nbconvert_exporter": "python",
   "pygments_lexer": "ipython3",
   "version": "3.8.9"
  }
 },
 "nbformat": 4,
 "nbformat_minor": 5
}
