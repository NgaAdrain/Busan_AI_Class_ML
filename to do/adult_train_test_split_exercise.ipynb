{
  "nbformat": 4,
  "nbformat_minor": 0,
  "metadata": {
    "colab": {
      "name": "adult_train_test_split_exercise.ipynb",
      "provenance": [],
      "collapsed_sections": []
    },
    "kernelspec": {
      "name": "python3",
      "display_name": "Python 3"
    },
    "language_info": {
      "name": "python"
    }
  },
  "cells": [
    {
      "cell_type": "code",
      "metadata": {
        "id": "6BEZOSIMsL1D"
      },
      "source": [
        "from sklearn.tree import DecisionTreeClassifier\n",
        "from sklearn.ensemble import RandomForestClassifier\n",
        "from sklearn.linear_model import LogisticRegression\n",
        "\n",
        "from sklearn.model_selection import train_test_split\n",
        "from sklearn.model_selection import cross_val_score , cross_validate\n",
        "\n",
        "from sklearn.metrics import classification_report, confusion_matrix\n",
        "from sklearn.metrics import accuracy_score, precision_score , recall_score , f1_score , roc_auc_score , confusion_matrix\n",
        "\n",
        "from sklearn.model_selection import KFold\n",
        "from sklearn.model_selection import StratifiedKFold\n",
        "from sklearn.model_selection import GridSearchCV\n",
        "\n",
        "from sklearn.preprocessing import StandardScaler\n",
        "from sklearn.preprocessing import MinMaxScaler\n",
        "from sklearn.preprocessing import Binarizer\n",
        "\n",
        "import graphviz\n",
        "from sklearn.tree import export_graphviz\n",
        "from IPython.display import display\n",
        "\n",
        "import numpy as np\n",
        "import pandas as pd\n",
        "import matplotlib.pyplot as plt\n",
        "import seaborn as sns"
      ],
      "execution_count": null,
      "outputs": []
    },
    {
      "cell_type": "code",
      "metadata": {
        "colab": {
          "base_uri": "https://localhost:8080/",
          "height": 142
        },
        "id": "RiaDj0D4sPA_",
        "outputId": "cc441f80-9eb3-4516-c18d-689c1f0d22ba"
      },
      "source": [
        "adult = pd.read_csv('./adult_data/adult.csv')\n",
        "adult.head(3)"
      ],
      "execution_count": null,
      "outputs": [
        {
          "output_type": "execute_result",
          "data": {
            "text/html": [
              "<div>\n",
              "<style scoped>\n",
              "    .dataframe tbody tr th:only-of-type {\n",
              "        vertical-align: middle;\n",
              "    }\n",
              "\n",
              "    .dataframe tbody tr th {\n",
              "        vertical-align: top;\n",
              "    }\n",
              "\n",
              "    .dataframe thead th {\n",
              "        text-align: right;\n",
              "    }\n",
              "</style>\n",
              "<table border=\"1\" class=\"dataframe\">\n",
              "  <thead>\n",
              "    <tr style=\"text-align: right;\">\n",
              "      <th></th>\n",
              "      <th>age</th>\n",
              "      <th>workclass</th>\n",
              "      <th>fnlwgt</th>\n",
              "      <th>education</th>\n",
              "      <th>educational-num</th>\n",
              "      <th>marital-status</th>\n",
              "      <th>occupation</th>\n",
              "      <th>relationship</th>\n",
              "      <th>race</th>\n",
              "      <th>gender</th>\n",
              "      <th>capital-gain</th>\n",
              "      <th>capital-loss</th>\n",
              "      <th>hours-per-week</th>\n",
              "      <th>native-country</th>\n",
              "      <th>income</th>\n",
              "    </tr>\n",
              "  </thead>\n",
              "  <tbody>\n",
              "    <tr>\n",
              "      <th>0</th>\n",
              "      <td>25</td>\n",
              "      <td>Private</td>\n",
              "      <td>226802</td>\n",
              "      <td>11th</td>\n",
              "      <td>7</td>\n",
              "      <td>Never-married</td>\n",
              "      <td>Machine-op-inspct</td>\n",
              "      <td>Own-child</td>\n",
              "      <td>Black</td>\n",
              "      <td>Male</td>\n",
              "      <td>0</td>\n",
              "      <td>0</td>\n",
              "      <td>40</td>\n",
              "      <td>United-States</td>\n",
              "      <td>&lt;=50K</td>\n",
              "    </tr>\n",
              "    <tr>\n",
              "      <th>1</th>\n",
              "      <td>38</td>\n",
              "      <td>Private</td>\n",
              "      <td>89814</td>\n",
              "      <td>HS-grad</td>\n",
              "      <td>9</td>\n",
              "      <td>Married-civ-spouse</td>\n",
              "      <td>Farming-fishing</td>\n",
              "      <td>Husband</td>\n",
              "      <td>White</td>\n",
              "      <td>Male</td>\n",
              "      <td>0</td>\n",
              "      <td>0</td>\n",
              "      <td>50</td>\n",
              "      <td>United-States</td>\n",
              "      <td>&lt;=50K</td>\n",
              "    </tr>\n",
              "    <tr>\n",
              "      <th>2</th>\n",
              "      <td>28</td>\n",
              "      <td>Local-gov</td>\n",
              "      <td>336951</td>\n",
              "      <td>Assoc-acdm</td>\n",
              "      <td>12</td>\n",
              "      <td>Married-civ-spouse</td>\n",
              "      <td>Protective-serv</td>\n",
              "      <td>Husband</td>\n",
              "      <td>White</td>\n",
              "      <td>Male</td>\n",
              "      <td>0</td>\n",
              "      <td>0</td>\n",
              "      <td>40</td>\n",
              "      <td>United-States</td>\n",
              "      <td>&gt;50K</td>\n",
              "    </tr>\n",
              "  </tbody>\n",
              "</table>\n",
              "</div>"
            ],
            "text/plain": [
              "   age  workclass  fnlwgt  ... hours-per-week  native-country income\n",
              "0   25    Private  226802  ...             40   United-States  <=50K\n",
              "1   38    Private   89814  ...             50   United-States  <=50K\n",
              "2   28  Local-gov  336951  ...             40   United-States   >50K\n",
              "\n",
              "[3 rows x 15 columns]"
            ]
          },
          "metadata": {
            "tags": []
          },
          "execution_count": 2
        }
      ]
    },
    {
      "cell_type": "markdown",
      "metadata": {
        "id": "7dhKc6GUw_va"
      },
      "source": [
        "<b> null value replace </b>"
      ]
    },
    {
      "cell_type": "code",
      "metadata": {
        "colab": {
          "base_uri": "https://localhost:8080/"
        },
        "id": "jhh9vOoDwTF_",
        "outputId": "d3da3b83-44fc-4fd2-8856-39b7d75ca15f"
      },
      "source": [
        "print(adult.isnull().sum().sum())\n",
        "\n",
        "adult = adult.replace({' ?'},np.nan)\n",
        "adult = adult.replace({'?'},np.nan)\n",
        "\n",
        "print(adult.isnull().sum().sum())\n",
        "\n",
        "adult.fillna('Unknown',inplace=True)\n",
        "\n",
        "print(adult.isnull().sum().sum())"
      ],
      "execution_count": null,
      "outputs": [
        {
          "output_type": "stream",
          "text": [
            "0\n",
            "0\n",
            "0\n"
          ],
          "name": "stdout"
        }
      ]
    },
    {
      "cell_type": "markdown",
      "metadata": {
        "id": "nA4MdP_ZyEjq"
      },
      "source": [
        "<b> label encoding </b>"
      ]
    },
    {
      "cell_type": "code",
      "metadata": {
        "colab": {
          "base_uri": "https://localhost:8080/"
        },
        "id": "T1AdzcGVyAGw",
        "outputId": "28534ea9-8202-4399-f2f4-c1fd03cd3c28"
      },
      "source": [
        "from sklearn import preprocessing\n",
        "\n",
        "def encode_features(dataDF):\n",
        "    features = ['workclass', 'education', 'marital-status','occupation','relationship','race','gender','native-country','income']\n",
        "    for feature in features:\n",
        "        le = preprocessing.LabelEncoder()\n",
        "        le = le.fit(dataDF[feature])\n",
        "        dataDF[feature] = le.transform(dataDF[feature])\n",
        "        \n",
        "    return dataDF\n",
        "\n",
        "encode_features(adult)\n",
        "adult_label = adult.iloc[:,-1]\n",
        "adult = adult.iloc[:,:-1]\n",
        "adult.head(15)\n",
        "adult_label.head()"
      ],
      "execution_count": null,
      "outputs": [
        {
          "output_type": "execute_result",
          "data": {
            "text/plain": [
              "0    0\n",
              "1    0\n",
              "2    1\n",
              "3    1\n",
              "4    0\n",
              "Name: income, dtype: int64"
            ]
          },
          "metadata": {
            "tags": []
          },
          "execution_count": 4
        }
      ]
    },
    {
      "cell_type": "markdown",
      "metadata": {
        "id": "ce6438ef"
      },
      "source": [
        "# No Drops"
      ]
    },
    {
      "cell_type": "markdown",
      "metadata": {
        "id": "hAy74WefwvD6"
      },
      "source": [
        "<b> train & test split</b>"
      ]
    },
    {
      "cell_type": "code",
      "metadata": {
        "id": "1L-OXiFZwJAz"
      },
      "source": [
        "train_x, test_x, train_y, test_y = train_test_split(adult,adult_label,test_size = 0.2, random_state = 123)"
      ],
      "execution_count": null,
      "outputs": []
    },
    {
      "cell_type": "code",
      "metadata": {
        "colab": {
          "base_uri": "https://localhost:8080/",
          "height": 204
        },
        "id": "wYQ2_bc7wGM0",
        "outputId": "c29424a3-7d77-4665-cda3-6a336479018c"
      },
      "source": [
        "train_x.head()"
      ],
      "execution_count": null,
      "outputs": [
        {
          "output_type": "execute_result",
          "data": {
            "text/html": [
              "<div>\n",
              "<style scoped>\n",
              "    .dataframe tbody tr th:only-of-type {\n",
              "        vertical-align: middle;\n",
              "    }\n",
              "\n",
              "    .dataframe tbody tr th {\n",
              "        vertical-align: top;\n",
              "    }\n",
              "\n",
              "    .dataframe thead th {\n",
              "        text-align: right;\n",
              "    }\n",
              "</style>\n",
              "<table border=\"1\" class=\"dataframe\">\n",
              "  <thead>\n",
              "    <tr style=\"text-align: right;\">\n",
              "      <th></th>\n",
              "      <th>age</th>\n",
              "      <th>workclass</th>\n",
              "      <th>fnlwgt</th>\n",
              "      <th>education</th>\n",
              "      <th>educational-num</th>\n",
              "      <th>marital-status</th>\n",
              "      <th>occupation</th>\n",
              "      <th>relationship</th>\n",
              "      <th>race</th>\n",
              "      <th>gender</th>\n",
              "      <th>capital-gain</th>\n",
              "      <th>capital-loss</th>\n",
              "      <th>hours-per-week</th>\n",
              "      <th>native-country</th>\n",
              "    </tr>\n",
              "  </thead>\n",
              "  <tbody>\n",
              "    <tr>\n",
              "      <th>21502</th>\n",
              "      <td>18</td>\n",
              "      <td>4</td>\n",
              "      <td>300379</td>\n",
              "      <td>2</td>\n",
              "      <td>8</td>\n",
              "      <td>4</td>\n",
              "      <td>1</td>\n",
              "      <td>3</td>\n",
              "      <td>4</td>\n",
              "      <td>1</td>\n",
              "      <td>0</td>\n",
              "      <td>0</td>\n",
              "      <td>12</td>\n",
              "      <td>39</td>\n",
              "    </tr>\n",
              "    <tr>\n",
              "      <th>24794</th>\n",
              "      <td>29</td>\n",
              "      <td>4</td>\n",
              "      <td>34292</td>\n",
              "      <td>11</td>\n",
              "      <td>9</td>\n",
              "      <td>4</td>\n",
              "      <td>8</td>\n",
              "      <td>3</td>\n",
              "      <td>4</td>\n",
              "      <td>1</td>\n",
              "      <td>0</td>\n",
              "      <td>0</td>\n",
              "      <td>38</td>\n",
              "      <td>39</td>\n",
              "    </tr>\n",
              "    <tr>\n",
              "      <th>32958</th>\n",
              "      <td>29</td>\n",
              "      <td>4</td>\n",
              "      <td>102345</td>\n",
              "      <td>15</td>\n",
              "      <td>10</td>\n",
              "      <td>4</td>\n",
              "      <td>13</td>\n",
              "      <td>1</td>\n",
              "      <td>4</td>\n",
              "      <td>1</td>\n",
              "      <td>0</td>\n",
              "      <td>0</td>\n",
              "      <td>52</td>\n",
              "      <td>39</td>\n",
              "    </tr>\n",
              "    <tr>\n",
              "      <th>4441</th>\n",
              "      <td>49</td>\n",
              "      <td>5</td>\n",
              "      <td>83444</td>\n",
              "      <td>9</td>\n",
              "      <td>13</td>\n",
              "      <td>2</td>\n",
              "      <td>12</td>\n",
              "      <td>0</td>\n",
              "      <td>4</td>\n",
              "      <td>1</td>\n",
              "      <td>0</td>\n",
              "      <td>0</td>\n",
              "      <td>85</td>\n",
              "      <td>39</td>\n",
              "    </tr>\n",
              "    <tr>\n",
              "      <th>30752</th>\n",
              "      <td>38</td>\n",
              "      <td>4</td>\n",
              "      <td>40077</td>\n",
              "      <td>11</td>\n",
              "      <td>9</td>\n",
              "      <td>2</td>\n",
              "      <td>3</td>\n",
              "      <td>0</td>\n",
              "      <td>4</td>\n",
              "      <td>1</td>\n",
              "      <td>0</td>\n",
              "      <td>0</td>\n",
              "      <td>50</td>\n",
              "      <td>39</td>\n",
              "    </tr>\n",
              "  </tbody>\n",
              "</table>\n",
              "</div>"
            ],
            "text/plain": [
              "       age  workclass  fnlwgt  ...  capital-loss  hours-per-week  native-country\n",
              "21502   18          4  300379  ...             0              12              39\n",
              "24794   29          4   34292  ...             0              38              39\n",
              "32958   29          4  102345  ...             0              52              39\n",
              "4441    49          5   83444  ...             0              85              39\n",
              "30752   38          4   40077  ...             0              50              39\n",
              "\n",
              "[5 rows x 14 columns]"
            ]
          },
          "metadata": {
            "tags": []
          },
          "execution_count": 6
        }
      ]
    },
    {
      "cell_type": "code",
      "metadata": {
        "colab": {
          "base_uri": "https://localhost:8080/",
          "height": 204
        },
        "id": "OmswNJBTtaD0",
        "outputId": "05776d5f-a13f-4af3-d8fe-3990b7cd513a"
      },
      "source": [
        "test_x.head()"
      ],
      "execution_count": null,
      "outputs": [
        {
          "output_type": "execute_result",
          "data": {
            "text/html": [
              "<div>\n",
              "<style scoped>\n",
              "    .dataframe tbody tr th:only-of-type {\n",
              "        vertical-align: middle;\n",
              "    }\n",
              "\n",
              "    .dataframe tbody tr th {\n",
              "        vertical-align: top;\n",
              "    }\n",
              "\n",
              "    .dataframe thead th {\n",
              "        text-align: right;\n",
              "    }\n",
              "</style>\n",
              "<table border=\"1\" class=\"dataframe\">\n",
              "  <thead>\n",
              "    <tr style=\"text-align: right;\">\n",
              "      <th></th>\n",
              "      <th>age</th>\n",
              "      <th>workclass</th>\n",
              "      <th>fnlwgt</th>\n",
              "      <th>education</th>\n",
              "      <th>educational-num</th>\n",
              "      <th>marital-status</th>\n",
              "      <th>occupation</th>\n",
              "      <th>relationship</th>\n",
              "      <th>race</th>\n",
              "      <th>gender</th>\n",
              "      <th>capital-gain</th>\n",
              "      <th>capital-loss</th>\n",
              "      <th>hours-per-week</th>\n",
              "      <th>native-country</th>\n",
              "    </tr>\n",
              "  </thead>\n",
              "  <tbody>\n",
              "    <tr>\n",
              "      <th>20668</th>\n",
              "      <td>52</td>\n",
              "      <td>4</td>\n",
              "      <td>117700</td>\n",
              "      <td>11</td>\n",
              "      <td>9</td>\n",
              "      <td>0</td>\n",
              "      <td>1</td>\n",
              "      <td>1</td>\n",
              "      <td>4</td>\n",
              "      <td>0</td>\n",
              "      <td>0</td>\n",
              "      <td>0</td>\n",
              "      <td>40</td>\n",
              "      <td>39</td>\n",
              "    </tr>\n",
              "    <tr>\n",
              "      <th>1722</th>\n",
              "      <td>19</td>\n",
              "      <td>4</td>\n",
              "      <td>351757</td>\n",
              "      <td>0</td>\n",
              "      <td>6</td>\n",
              "      <td>4</td>\n",
              "      <td>8</td>\n",
              "      <td>4</td>\n",
              "      <td>4</td>\n",
              "      <td>1</td>\n",
              "      <td>0</td>\n",
              "      <td>0</td>\n",
              "      <td>30</td>\n",
              "      <td>8</td>\n",
              "    </tr>\n",
              "    <tr>\n",
              "      <th>39609</th>\n",
              "      <td>31</td>\n",
              "      <td>1</td>\n",
              "      <td>101345</td>\n",
              "      <td>11</td>\n",
              "      <td>9</td>\n",
              "      <td>4</td>\n",
              "      <td>6</td>\n",
              "      <td>3</td>\n",
              "      <td>4</td>\n",
              "      <td>0</td>\n",
              "      <td>0</td>\n",
              "      <td>0</td>\n",
              "      <td>40</td>\n",
              "      <td>39</td>\n",
              "    </tr>\n",
              "    <tr>\n",
              "      <th>15858</th>\n",
              "      <td>25</td>\n",
              "      <td>4</td>\n",
              "      <td>324854</td>\n",
              "      <td>9</td>\n",
              "      <td>13</td>\n",
              "      <td>4</td>\n",
              "      <td>12</td>\n",
              "      <td>1</td>\n",
              "      <td>4</td>\n",
              "      <td>0</td>\n",
              "      <td>0</td>\n",
              "      <td>0</td>\n",
              "      <td>40</td>\n",
              "      <td>39</td>\n",
              "    </tr>\n",
              "    <tr>\n",
              "      <th>41078</th>\n",
              "      <td>36</td>\n",
              "      <td>4</td>\n",
              "      <td>245521</td>\n",
              "      <td>5</td>\n",
              "      <td>4</td>\n",
              "      <td>2</td>\n",
              "      <td>5</td>\n",
              "      <td>0</td>\n",
              "      <td>4</td>\n",
              "      <td>1</td>\n",
              "      <td>0</td>\n",
              "      <td>0</td>\n",
              "      <td>35</td>\n",
              "      <td>26</td>\n",
              "    </tr>\n",
              "  </tbody>\n",
              "</table>\n",
              "</div>"
            ],
            "text/plain": [
              "       age  workclass  fnlwgt  ...  capital-loss  hours-per-week  native-country\n",
              "20668   52          4  117700  ...             0              40              39\n",
              "1722    19          4  351757  ...             0              30               8\n",
              "39609   31          1  101345  ...             0              40              39\n",
              "15858   25          4  324854  ...             0              40              39\n",
              "41078   36          4  245521  ...             0              35              26\n",
              "\n",
              "[5 rows x 14 columns]"
            ]
          },
          "metadata": {
            "tags": []
          },
          "execution_count": 7
        }
      ]
    },
    {
      "cell_type": "code",
      "metadata": {
        "colab": {
          "base_uri": "https://localhost:8080/"
        },
        "id": "az_gEPmfubBY",
        "outputId": "3b07c2e1-bdf4-4c85-f0d1-55d309a485a7"
      },
      "source": [
        "print(train_y)"
      ],
      "execution_count": null,
      "outputs": [
        {
          "output_type": "stream",
          "text": [
            "21502    0\n",
            "24794    0\n",
            "32958    0\n",
            "4441     1\n",
            "30752    1\n",
            "        ..\n",
            "7763     0\n",
            "15377    0\n",
            "17730    1\n",
            "28030    0\n",
            "15725    1\n",
            "Name: income, Length: 39073, dtype: int64\n"
          ],
          "name": "stdout"
        }
      ]
    },
    {
      "cell_type": "code",
      "metadata": {
        "colab": {
          "base_uri": "https://localhost:8080/"
        },
        "id": "Z4lIk2svtam9",
        "outputId": "6e6a2d14-10e2-4300-f5b6-2232af6d6ac4"
      },
      "source": [
        "print(test_y)"
      ],
      "execution_count": null,
      "outputs": [
        {
          "output_type": "stream",
          "text": [
            "20668    0\n",
            "1722     0\n",
            "39609    0\n",
            "15858    0\n",
            "41078    0\n",
            "        ..\n",
            "147      1\n",
            "46161    0\n",
            "15119    1\n",
            "38550    0\n",
            "22739    0\n",
            "Name: income, Length: 9769, dtype: int64\n"
          ],
          "name": "stdout"
        }
      ]
    },
    {
      "cell_type": "markdown",
      "metadata": {
        "id": "55953e39"
      },
      "source": [
        "## PreProcessing with Scaler"
      ]
    },
    {
      "cell_type": "markdown",
      "metadata": {
        "id": "001406cc"
      },
      "source": [
        "### 1. StandardScaler"
      ]
    },
    {
      "cell_type": "code",
      "metadata": {
        "id": "02d3e476"
      },
      "source": [
        "std_scaler = StandardScaler()\n",
        "std_train_x = std_scaler.fit_transform(train_x)\n",
        "std_test_x = std_scaler.fit_transform(test_x)"
      ],
      "execution_count": null,
      "outputs": []
    },
    {
      "cell_type": "markdown",
      "metadata": {
        "id": "e80c29a1"
      },
      "source": [
        "### 2. MinMaxScaler"
      ]
    },
    {
      "cell_type": "code",
      "metadata": {
        "id": "1f765105"
      },
      "source": [
        "mm_scaler = MinMaxScaler()\n",
        "mm_train_x = mm_scaler.fit_transform(train_x)\n",
        "mm_test_x = mm_scaler.fit_transform(test_x)"
      ],
      "execution_count": null,
      "outputs": []
    },
    {
      "cell_type": "markdown",
      "metadata": {
        "id": "751827b1"
      },
      "source": [
        "## No PreProcessing Scaler"
      ]
    },
    {
      "cell_type": "markdown",
      "metadata": {
        "id": "56651f37"
      },
      "source": [
        "### Decision Tree & Random Forest & Logistic Regression"
      ]
    },
    {
      "cell_type": "code",
      "metadata": {
        "id": "09041073"
      },
      "source": [
        "from sklearn.tree import DecisionTreeClassifier\n",
        "from sklearn.ensemble import RandomForestClassifier\n",
        "from sklearn.linear_model import LogisticRegression\n",
        "\n",
        "dt_clf = DecisionTreeClassifier(random_state=156)\n",
        "rf_clf = RandomForestClassifier(random_state=156)\n",
        "lr_clf = LogisticRegression()"
      ],
      "execution_count": null,
      "outputs": []
    },
    {
      "cell_type": "code",
      "metadata": {
        "id": "946255b1",
        "colab": {
          "base_uri": "https://localhost:8080/"
        },
        "outputId": "2148df95-9155-464d-a87c-4a5f0cbbb0b7"
      },
      "source": [
        "dt_clf.fit(train_x,train_y)\n",
        "rf_clf.fit(train_x,train_y)\n",
        "lr_clf.fit(train_x,train_y)"
      ],
      "execution_count": null,
      "outputs": [
        {
          "output_type": "execute_result",
          "data": {
            "text/plain": [
              "LogisticRegression(C=1.0, class_weight=None, dual=False, fit_intercept=True,\n",
              "                   intercept_scaling=1, l1_ratio=None, max_iter=100,\n",
              "                   multi_class='auto', n_jobs=None, penalty='l2',\n",
              "                   random_state=None, solver='lbfgs', tol=0.0001, verbose=0,\n",
              "                   warm_start=False)"
            ]
          },
          "metadata": {
            "tags": []
          },
          "execution_count": 13
        }
      ]
    },
    {
      "cell_type": "code",
      "metadata": {
        "id": "b4132320"
      },
      "source": [
        "pred_dt = dt_clf.predict(test_x)\n",
        "pred_rf = rf_clf.predict(test_x)\n",
        "pred_lr = lr_clf.predict(test_x)"
      ],
      "execution_count": null,
      "outputs": []
    },
    {
      "cell_type": "code",
      "metadata": {
        "id": "440a92e7"
      },
      "source": [
        "pred_dt_proba = dt_clf.predict_proba(test_x)[:, 1]\n",
        "pred_rf_proba = rf_clf.predict_proba(test_x)[:, 1]\n",
        "pred_lr_proba = lr_clf.predict_proba(test_x)[:, 1]"
      ],
      "execution_count": null,
      "outputs": []
    },
    {
      "cell_type": "markdown",
      "metadata": {
        "id": "59324dbc"
      },
      "source": [
        "## PreProcessing Standard Scaler"
      ]
    },
    {
      "cell_type": "markdown",
      "metadata": {
        "id": "a1b6a9fe"
      },
      "source": [
        "### Decision Tree & Random Forest & Logistic Regression"
      ]
    },
    {
      "cell_type": "code",
      "metadata": {
        "id": "9d4ad91d"
      },
      "source": [
        "from sklearn.tree import DecisionTreeClassifier\n",
        "from sklearn.ensemble import RandomForestClassifier\n",
        "from sklearn.linear_model import LogisticRegression\n",
        "\n",
        "std_dt_clf = DecisionTreeClassifier(random_state=156)\n",
        "std_rf_clf = RandomForestClassifier(random_state=156)\n",
        "std_lr_clf = LogisticRegression()"
      ],
      "execution_count": null,
      "outputs": []
    },
    {
      "cell_type": "code",
      "metadata": {
        "id": "5554aa7e",
        "colab": {
          "base_uri": "https://localhost:8080/"
        },
        "outputId": "2e2d8062-8f47-4b8e-fad4-1aa89c15472a"
      },
      "source": [
        "std_dt_clf.fit(std_train_x,train_y)\n",
        "std_rf_clf.fit(std_train_x,train_y)\n",
        "std_lr_clf.fit(std_train_x,train_y)"
      ],
      "execution_count": null,
      "outputs": [
        {
          "output_type": "execute_result",
          "data": {
            "text/plain": [
              "LogisticRegression(C=1.0, class_weight=None, dual=False, fit_intercept=True,\n",
              "                   intercept_scaling=1, l1_ratio=None, max_iter=100,\n",
              "                   multi_class='auto', n_jobs=None, penalty='l2',\n",
              "                   random_state=None, solver='lbfgs', tol=0.0001, verbose=0,\n",
              "                   warm_start=False)"
            ]
          },
          "metadata": {
            "tags": []
          },
          "execution_count": 17
        }
      ]
    },
    {
      "cell_type": "code",
      "metadata": {
        "id": "4253f5b3"
      },
      "source": [
        "std_pred_dt = std_dt_clf.predict(std_test_x)\n",
        "std_pred_rf = std_rf_clf.predict(std_test_x)\n",
        "std_pred_lr = std_lr_clf.predict(std_test_x)"
      ],
      "execution_count": null,
      "outputs": []
    },
    {
      "cell_type": "code",
      "metadata": {
        "id": "0188d81e"
      },
      "source": [
        "std_pred_dt_proba = std_dt_clf.predict_proba(std_test_x)[:, 1]\n",
        "std_pred_rf_proba = std_rf_clf.predict_proba(std_test_x)[:, 1]\n",
        "std_pred_lr_proba = std_lr_clf.predict_proba(std_test_x)[:, 1]"
      ],
      "execution_count": null,
      "outputs": []
    },
    {
      "cell_type": "markdown",
      "metadata": {
        "id": "0797ab41"
      },
      "source": [
        "## PreProcessing MinMax Scaler"
      ]
    },
    {
      "cell_type": "markdown",
      "metadata": {
        "id": "5b38bc33"
      },
      "source": [
        "### Decision Tree & Random Forest & Logistic Regression"
      ]
    },
    {
      "cell_type": "code",
      "metadata": {
        "id": "1c13439a"
      },
      "source": [
        "from sklearn.tree import DecisionTreeClassifier\n",
        "from sklearn.ensemble import RandomForestClassifier\n",
        "from sklearn.linear_model import LogisticRegression\n",
        "\n",
        "mm_dt_clf = DecisionTreeClassifier(random_state=156)\n",
        "mm_rf_clf = RandomForestClassifier(random_state=156)\n",
        "mm_lr_clf = LogisticRegression()"
      ],
      "execution_count": null,
      "outputs": []
    },
    {
      "cell_type": "code",
      "metadata": {
        "id": "cf5f76ae",
        "colab": {
          "base_uri": "https://localhost:8080/"
        },
        "outputId": "4d85c9f0-6b9f-4f1c-9e4f-312f7597cda4"
      },
      "source": [
        "mm_dt_clf.fit(mm_train_x,train_y)\n",
        "mm_rf_clf.fit(mm_train_x,train_y)\n",
        "mm_lr_clf.fit(mm_train_x,train_y)"
      ],
      "execution_count": null,
      "outputs": [
        {
          "output_type": "execute_result",
          "data": {
            "text/plain": [
              "LogisticRegression(C=1.0, class_weight=None, dual=False, fit_intercept=True,\n",
              "                   intercept_scaling=1, l1_ratio=None, max_iter=100,\n",
              "                   multi_class='auto', n_jobs=None, penalty='l2',\n",
              "                   random_state=None, solver='lbfgs', tol=0.0001, verbose=0,\n",
              "                   warm_start=False)"
            ]
          },
          "metadata": {
            "tags": []
          },
          "execution_count": 21
        }
      ]
    },
    {
      "cell_type": "code",
      "metadata": {
        "id": "2b75ad49"
      },
      "source": [
        "mm_pred_dt = mm_dt_clf.predict(mm_test_x)\n",
        "mm_pred_rf = mm_rf_clf.predict(mm_test_x)\n",
        "mm_pred_lr = mm_lr_clf.predict(mm_test_x)"
      ],
      "execution_count": null,
      "outputs": []
    },
    {
      "cell_type": "code",
      "metadata": {
        "id": "d146de34"
      },
      "source": [
        "mm_pred_dt_proba = mm_dt_clf.predict_proba(mm_test_x)[:, 1]\n",
        "mm_pred_rf_proba = mm_rf_clf.predict_proba(mm_test_x)[:, 1]\n",
        "mm_pred_lr_proba = mm_lr_clf.predict_proba(mm_test_x)[:, 1]"
      ],
      "execution_count": null,
      "outputs": []
    },
    {
      "cell_type": "code",
      "metadata": {
        "id": "tTRa5xJa39ln"
      },
      "source": [
        ""
      ],
      "execution_count": null,
      "outputs": []
    },
    {
      "cell_type": "markdown",
      "metadata": {
        "id": "cc69485b"
      },
      "source": [
        "## 평가"
      ]
    },
    {
      "cell_type": "code",
      "metadata": {
        "id": "80896fb9"
      },
      "source": [
        "def get_clf_eval(y_test, pred=None, pred_proba=None):\n",
        "    confusion = confusion_matrix( y_test, pred)\n",
        "    accuracy = accuracy_score(y_test , pred)\n",
        "    precision = precision_score(y_test , pred)\n",
        "    recall = recall_score(y_test , pred)\n",
        "    f1 = f1_score(y_test,pred)\n",
        "    # ROC-AUC 추가 \n",
        "    roc_auc = roc_auc_score(y_test, pred_proba)\n",
        "    print('오차 행렬')\n",
        "    print(confusion)\n",
        "    # ROC-AUC print 추가\n",
        "    print('정확도: {0:.4f}, 정밀도: {1:.4f}, 재현율: {2:.4f},\\\n",
        "    F1: {3:.4f}, AUC:{4:.4f}'.format(accuracy, precision, recall, f1, roc_auc))"
      ],
      "execution_count": null,
      "outputs": []
    },
    {
      "cell_type": "markdown",
      "metadata": {
        "id": "38601907"
      },
      "source": [
        "### 1. Decision Tree"
      ]
    },
    {
      "cell_type": "code",
      "metadata": {
        "id": "4a0010b5",
        "colab": {
          "base_uri": "https://localhost:8080/"
        },
        "outputId": "373d967d-a74e-4cf1-823f-f5ba68e16a56"
      },
      "source": [
        "print('no scaler')\n",
        "get_clf_eval(test_y, pred_dt, pred_dt_proba)\n",
        "print('standard scaler')\n",
        "get_clf_eval(test_y, std_pred_dt, std_pred_dt_proba)\n",
        "print('minmax scaler')\n",
        "get_clf_eval(test_y, mm_pred_dt, pred_dt_proba)\n"
      ],
      "execution_count": null,
      "outputs": [
        {
          "output_type": "stream",
          "text": [
            "no scaler\n",
            "오차 행렬\n",
            "[[6448  969]\n",
            " [ 875 1477]]\n",
            "정확도: 0.8112, 정밀도: 0.6038, 재현율: 0.6280,    F1: 0.6157, AUC:0.7487\n",
            "standard scaler\n",
            "오차 행렬\n",
            "[[6443  974]\n",
            " [ 956 1396]]\n",
            "정확도: 0.8024, 정밀도: 0.5890, 재현율: 0.5935,    F1: 0.5913, AUC:0.7313\n",
            "minmax scaler\n",
            "오차 행렬\n",
            "[[6359 1058]\n",
            " [1034 1318]]\n",
            "정확도: 0.7859, 정밀도: 0.5547, 재현율: 0.5604,    F1: 0.5575, AUC:0.7487\n"
          ],
          "name": "stdout"
        }
      ]
    },
    {
      "cell_type": "markdown",
      "metadata": {
        "id": "5ac2afd6"
      },
      "source": [
        "\n",
        "### 2. Random Forest"
      ]
    },
    {
      "cell_type": "code",
      "metadata": {
        "id": "530b5ffe",
        "colab": {
          "base_uri": "https://localhost:8080/"
        },
        "outputId": "e09385fb-bf08-4886-dea2-36585b9a66cb"
      },
      "source": [
        "print('no scaler')\n",
        "get_clf_eval(test_y, pred_rf, pred_rf_proba)\n",
        "print('standard scaler')\n",
        "get_clf_eval(test_y, std_pred_rf, std_pred_rf_proba)\n",
        "print('minmax scaler')\n",
        "get_clf_eval(test_y, mm_pred_rf, pred_rf_proba)"
      ],
      "execution_count": null,
      "outputs": [
        {
          "output_type": "stream",
          "text": [
            "no scaler\n",
            "오차 행렬\n",
            "[[6934  483]\n",
            " [ 880 1472]]\n",
            "정확도: 0.8605, 정밀도: 0.7529, 재현율: 0.6259,    F1: 0.6835, AUC:0.9064\n",
            "standard scaler\n",
            "오차 행렬\n",
            "[[6938  479]\n",
            " [ 936 1416]]\n",
            "정확도: 0.8552, 정밀도: 0.7472, 재현율: 0.6020,    F1: 0.6668, AUC:0.9010\n",
            "minmax scaler\n",
            "오차 행렬\n",
            "[[6856  561]\n",
            " [ 900 1452]]\n",
            "정확도: 0.8504, 정밀도: 0.7213, 재현율: 0.6173,    F1: 0.6653, AUC:0.9064\n"
          ],
          "name": "stdout"
        }
      ]
    },
    {
      "cell_type": "markdown",
      "metadata": {
        "id": "81168186"
      },
      "source": [
        "### 3.Logistic Regression"
      ]
    },
    {
      "cell_type": "code",
      "metadata": {
        "id": "5124ac6c",
        "colab": {
          "base_uri": "https://localhost:8080/"
        },
        "outputId": "ce7e89c1-9496-4c13-9028-7289c95829b9"
      },
      "source": [
        "print('no scaler')\n",
        "get_clf_eval(test_y, pred_lr, pred_lr_proba)\n",
        "print('standard scaler')\n",
        "get_clf_eval(test_y, std_pred_lr, std_pred_lr_proba)\n",
        "print('minmax scaler')\n",
        "get_clf_eval(test_y, mm_pred_lr, pred_lr_proba)"
      ],
      "execution_count": null,
      "outputs": [
        {
          "output_type": "stream",
          "text": [
            "no scaler\n",
            "오차 행렬\n",
            "[[7169  248]\n",
            " [1728  624]]\n",
            "정확도: 0.7977, 정밀도: 0.7156, 재현율: 0.2653,    F1: 0.3871, AUC:0.5591\n",
            "standard scaler\n",
            "오차 행렬\n",
            "[[6980  437]\n",
            " [1298 1054]]\n",
            "정확도: 0.8224, 정밀도: 0.7069, 재현율: 0.4481,    F1: 0.5485, AUC:0.8528\n",
            "minmax scaler\n",
            "오차 행렬\n",
            "[[6926  491]\n",
            " [1262 1090]]\n",
            "정확도: 0.8206, 정밀도: 0.6894, 재현율: 0.4634,    F1: 0.5543, AUC:0.5591\n"
          ],
          "name": "stdout"
        }
      ]
    },
    {
      "cell_type": "markdown",
      "metadata": {
        "id": "a-qGW5282MTu"
      },
      "source": [
        "## **쓰레쉬홀드 찾아서 최적 parameter 찾기 연습**"
      ]
    },
    {
      "cell_type": "code",
      "metadata": {
        "id": "FgNpFzOV2oDz"
      },
      "source": [
        "from sklearn.preprocessing import Binarizer\n",
        "\n",
        "def get_eval_by_threshold(y_test , pred_proba_c1, thresholds):\n",
        "    # thresholds 리스트 객체내의 값을 차례로 iteration하면서 Evaluation 수행.\n",
        "    for custom_threshold in thresholds:\n",
        "        binarizer = Binarizer(threshold=custom_threshold).fit(pred_proba_c1) \n",
        "        custom_predict = binarizer.transform(pred_proba_c1)\n",
        "        print('임곗값:',custom_threshold)\n",
        "        get_clf_eval(y_test , custom_predict, pred_proba_c1)"
      ],
      "execution_count": null,
      "outputs": []
    },
    {
      "cell_type": "markdown",
      "metadata": {
        "id": "jS7Bimn83EhL"
      },
      "source": [
        "1. No scale"
      ]
    },
    {
      "cell_type": "code",
      "metadata": {
        "colab": {
          "base_uri": "https://localhost:8080/"
        },
        "id": "74pCKrXf21L-",
        "outputId": "d2ce59b4-d451-4a2f-a18d-24a3abee335c"
      },
      "source": [
        "thresholds = [0.3 , 0.33 ,0.36,0.39, 0.42 , 0.45 ,0.48, 0.50]\n",
        "get_eval_by_threshold(test_y, pred_dt_proba.reshape(-1,1), thresholds )"
      ],
      "execution_count": null,
      "outputs": [
        {
          "output_type": "stream",
          "text": [
            "임곗값: 0.3\n",
            "오차 행렬\n",
            "[[6448  969]\n",
            " [ 875 1477]]\n",
            "정확도: 0.8112, 정밀도: 0.6038, 재현율: 0.6280,    F1: 0.6157, AUC:0.7487\n",
            "임곗값: 0.33\n",
            "오차 행렬\n",
            "[[6448  969]\n",
            " [ 875 1477]]\n",
            "정확도: 0.8112, 정밀도: 0.6038, 재현율: 0.6280,    F1: 0.6157, AUC:0.7487\n",
            "임곗값: 0.36\n",
            "오차 행렬\n",
            "[[6448  969]\n",
            " [ 875 1477]]\n",
            "정확도: 0.8112, 정밀도: 0.6038, 재현율: 0.6280,    F1: 0.6157, AUC:0.7487\n",
            "임곗값: 0.39\n",
            "오차 행렬\n",
            "[[6448  969]\n",
            " [ 875 1477]]\n",
            "정확도: 0.8112, 정밀도: 0.6038, 재현율: 0.6280,    F1: 0.6157, AUC:0.7487\n",
            "임곗값: 0.42\n",
            "오차 행렬\n",
            "[[6448  969]\n",
            " [ 875 1477]]\n",
            "정확도: 0.8112, 정밀도: 0.6038, 재현율: 0.6280,    F1: 0.6157, AUC:0.7487\n",
            "임곗값: 0.45\n",
            "오차 행렬\n",
            "[[6448  969]\n",
            " [ 875 1477]]\n",
            "정확도: 0.8112, 정밀도: 0.6038, 재현율: 0.6280,    F1: 0.6157, AUC:0.7487\n",
            "임곗값: 0.48\n",
            "오차 행렬\n",
            "[[6448  969]\n",
            " [ 875 1477]]\n",
            "정확도: 0.8112, 정밀도: 0.6038, 재현율: 0.6280,    F1: 0.6157, AUC:0.7487\n",
            "임곗값: 0.5\n",
            "오차 행렬\n",
            "[[6448  969]\n",
            " [ 875 1477]]\n",
            "정확도: 0.8112, 정밀도: 0.6038, 재현율: 0.6280,    F1: 0.6157, AUC:0.7487\n"
          ],
          "name": "stdout"
        }
      ]
    },
    {
      "cell_type": "code",
      "metadata": {
        "colab": {
          "base_uri": "https://localhost:8080/"
        },
        "id": "_oK-xDKE20oj",
        "outputId": "fc755bcd-edec-4bb1-c366-d89f3e8b67a0"
      },
      "source": [
        "thresholds = [0.3 , 0.33 ,0.36,0.39, 0.42 , 0.45 ,0.48, 0.50]\n",
        "get_eval_by_threshold(test_y, pred_rf_proba.reshape(-1,1), thresholds )"
      ],
      "execution_count": null,
      "outputs": [
        {
          "output_type": "stream",
          "text": [
            "임곗값: 0.3\n",
            "오차 행렬\n",
            "[[6288 1129]\n",
            " [ 503 1849]]\n",
            "정확도: 0.8329, 정밀도: 0.6209, 재현율: 0.7861,    F1: 0.6938, AUC:0.9064\n",
            "임곗값: 0.33\n",
            "오차 행렬\n",
            "[[6425  992]\n",
            " [ 554 1798]]\n",
            "정확도: 0.8417, 정밀도: 0.6444, 재현율: 0.7645,    F1: 0.6993, AUC:0.9064\n",
            "임곗값: 0.36\n",
            "오차 행렬\n",
            "[[6520  897]\n",
            " [ 609 1743]]\n",
            "정확도: 0.8458, 정밀도: 0.6602, 재현율: 0.7411,    F1: 0.6983, AUC:0.9064\n",
            "임곗값: 0.39\n",
            "오차 행렬\n",
            "[[6641  776]\n",
            " [ 668 1684]]\n",
            "정확도: 0.8522, 정밀도: 0.6846, 재현율: 0.7160,    F1: 0.6999, AUC:0.9064\n",
            "임곗값: 0.42\n",
            "오차 행렬\n",
            "[[6739  678]\n",
            " [ 716 1636]]\n",
            "정확도: 0.8573, 정밀도: 0.7070, 재현율: 0.6956,    F1: 0.7012, AUC:0.9064\n",
            "임곗값: 0.45\n",
            "오차 행렬\n",
            "[[6807  610]\n",
            " [ 779 1573]]\n",
            "정확도: 0.8578, 정밀도: 0.7206, 재현율: 0.6688,    F1: 0.6937, AUC:0.9064\n",
            "임곗값: 0.48\n",
            "오차 행렬\n",
            "[[6885  532]\n",
            " [ 840 1512]]\n",
            "정확도: 0.8596, 정밀도: 0.7397, 재현율: 0.6429,    F1: 0.6879, AUC:0.9064\n",
            "임곗값: 0.5\n",
            "오차 행렬\n",
            "[[6934  483]\n",
            " [ 880 1472]]\n",
            "정확도: 0.8605, 정밀도: 0.7529, 재현율: 0.6259,    F1: 0.6835, AUC:0.9064\n"
          ],
          "name": "stdout"
        }
      ]
    },
    {
      "cell_type": "code",
      "metadata": {
        "colab": {
          "base_uri": "https://localhost:8080/"
        },
        "id": "MoWRkZYn2rhr",
        "outputId": "af64e1a5-02d6-4ead-d812-b42d7e4de1f5"
      },
      "source": [
        "thresholds = [0.3 , 0.33 ,0.36,0.39, 0.42 , 0.45 ,0.48, 0.50]\n",
        "get_eval_by_threshold(test_y, pred_lr_proba.reshape(-1,1), thresholds )"
      ],
      "execution_count": null,
      "outputs": [
        {
          "output_type": "stream",
          "text": [
            "임곗값: 0.3\n",
            "오차 행렬\n",
            "[[6773  644]\n",
            " [1612  740]]\n",
            "정확도: 0.7691, 정밀도: 0.5347, 재현율: 0.3146,    F1: 0.3961, AUC:0.5591\n",
            "임곗값: 0.33\n",
            "오차 행렬\n",
            "[[6895  522]\n",
            " [1623  729]]\n",
            "정확도: 0.7804, 정밀도: 0.5827, 재현율: 0.3099,    F1: 0.4047, AUC:0.5591\n",
            "임곗값: 0.36\n",
            "오차 행렬\n",
            "[[6940  477]\n",
            " [1627  725]]\n",
            "정확도: 0.7846, 정밀도: 0.6032, 재현율: 0.3082,    F1: 0.4080, AUC:0.5591\n",
            "임곗값: 0.39\n",
            "오차 행렬\n",
            "[[6987  430]\n",
            " [1635  717]]\n",
            "정확도: 0.7886, 정밀도: 0.6251, 재현율: 0.3048,    F1: 0.4098, AUC:0.5591\n",
            "임곗값: 0.42\n",
            "오차 행렬\n",
            "[[7030  387]\n",
            " [1643  709]]\n",
            "정확도: 0.7922, 정밀도: 0.6469, 재현율: 0.3014,    F1: 0.4113, AUC:0.5591\n",
            "임곗값: 0.45\n",
            "오차 행렬\n",
            "[[7080  337]\n",
            " [1666  686]]\n",
            "정확도: 0.7950, 정밀도: 0.6706, 재현율: 0.2917,    F1: 0.4065, AUC:0.5591\n",
            "임곗값: 0.48\n",
            "오차 행렬\n",
            "[[7129  288]\n",
            " [1702  650]]\n",
            "정확도: 0.7963, 정밀도: 0.6930, 재현율: 0.2764,    F1: 0.3951, AUC:0.5591\n",
            "임곗값: 0.5\n",
            "오차 행렬\n",
            "[[7169  248]\n",
            " [1728  624]]\n",
            "정확도: 0.7977, 정밀도: 0.7156, 재현율: 0.2653,    F1: 0.3871, AUC:0.5591\n"
          ],
          "name": "stdout"
        }
      ]
    },
    {
      "cell_type": "markdown",
      "metadata": {
        "id": "6H9bAk663J8z"
      },
      "source": [
        "2. standard scale"
      ]
    },
    {
      "cell_type": "code",
      "metadata": {
        "colab": {
          "base_uri": "https://localhost:8080/"
        },
        "id": "g5UuG9m23VMe",
        "outputId": "10d8719b-793d-49db-a17f-26f186f386e5"
      },
      "source": [
        "thresholds = [0.3 , 0.33 ,0.36,0.39, 0.42 , 0.45 ,0.48, 0.50]\n",
        "get_eval_by_threshold(test_y, std_pred_dt_proba.reshape(-1,1), thresholds )"
      ],
      "execution_count": null,
      "outputs": [
        {
          "output_type": "stream",
          "text": [
            "임곗값: 0.3\n",
            "오차 행렬\n",
            "[[6443  974]\n",
            " [ 955 1397]]\n",
            "정확도: 0.8025, 정밀도: 0.5892, 재현율: 0.5940,    F1: 0.5916, AUC:0.7313\n",
            "임곗값: 0.33\n",
            "오차 행렬\n",
            "[[6443  974]\n",
            " [ 955 1397]]\n",
            "정확도: 0.8025, 정밀도: 0.5892, 재현율: 0.5940,    F1: 0.5916, AUC:0.7313\n",
            "임곗값: 0.36\n",
            "오차 행렬\n",
            "[[6443  974]\n",
            " [ 955 1397]]\n",
            "정확도: 0.8025, 정밀도: 0.5892, 재현율: 0.5940,    F1: 0.5916, AUC:0.7313\n",
            "임곗값: 0.39\n",
            "오차 행렬\n",
            "[[6443  974]\n",
            " [ 955 1397]]\n",
            "정확도: 0.8025, 정밀도: 0.5892, 재현율: 0.5940,    F1: 0.5916, AUC:0.7313\n",
            "임곗값: 0.42\n",
            "오차 행렬\n",
            "[[6443  974]\n",
            " [ 955 1397]]\n",
            "정확도: 0.8025, 정밀도: 0.5892, 재현율: 0.5940,    F1: 0.5916, AUC:0.7313\n",
            "임곗값: 0.45\n",
            "오차 행렬\n",
            "[[6443  974]\n",
            " [ 955 1397]]\n",
            "정확도: 0.8025, 정밀도: 0.5892, 재현율: 0.5940,    F1: 0.5916, AUC:0.7313\n",
            "임곗값: 0.48\n",
            "오차 행렬\n",
            "[[6443  974]\n",
            " [ 955 1397]]\n",
            "정확도: 0.8025, 정밀도: 0.5892, 재현율: 0.5940,    F1: 0.5916, AUC:0.7313\n",
            "임곗값: 0.5\n",
            "오차 행렬\n",
            "[[6443  974]\n",
            " [ 956 1396]]\n",
            "정확도: 0.8024, 정밀도: 0.5890, 재현율: 0.5935,    F1: 0.5913, AUC:0.7313\n"
          ],
          "name": "stdout"
        }
      ]
    },
    {
      "cell_type": "code",
      "metadata": {
        "colab": {
          "base_uri": "https://localhost:8080/"
        },
        "id": "kRTXmjcn3VMm",
        "outputId": "4b04bb63-7e6e-4ccf-f5bc-566a0b3435cf"
      },
      "source": [
        "thresholds = [0.3 , 0.33 ,0.36,0.39, 0.42 , 0.45 ,0.48, 0.50]\n",
        "get_eval_by_threshold(test_y, std_pred_rf_proba.reshape(-1,1), thresholds )"
      ],
      "execution_count": null,
      "outputs": [
        {
          "output_type": "stream",
          "text": [
            "임곗값: 0.3\n",
            "오차 행렬\n",
            "[[6278 1139]\n",
            " [ 534 1818]]\n",
            "정확도: 0.8287, 정밀도: 0.6148, 재현율: 0.7730,    F1: 0.6849, AUC:0.9010\n",
            "임곗값: 0.33\n",
            "오차 행렬\n",
            "[[6415 1002]\n",
            " [ 593 1759]]\n",
            "정확도: 0.8367, 정밀도: 0.6371, 재현율: 0.7479,    F1: 0.6881, AUC:0.9010\n",
            "임곗값: 0.36\n",
            "오차 행렬\n",
            "[[6525  892]\n",
            " [ 645 1707]]\n",
            "정확도: 0.8427, 정밀도: 0.6568, 재현율: 0.7258,    F1: 0.6896, AUC:0.9010\n",
            "임곗값: 0.39\n",
            "오차 행렬\n",
            "[[6639  778]\n",
            " [ 711 1641]]\n",
            "정확도: 0.8476, 정밀도: 0.6784, 재현율: 0.6977,    F1: 0.6879, AUC:0.9010\n",
            "임곗값: 0.42\n",
            "오차 행렬\n",
            "[[6729  688]\n",
            " [ 766 1586]]\n",
            "정확도: 0.8512, 정밀도: 0.6974, 재현율: 0.6743,    F1: 0.6857, AUC:0.9010\n",
            "임곗값: 0.45\n",
            "오차 행렬\n",
            "[[6810  607]\n",
            " [ 835 1517]]\n",
            "정확도: 0.8524, 정밀도: 0.7142, 재현율: 0.6450,    F1: 0.6778, AUC:0.9010\n",
            "임곗값: 0.48\n",
            "오차 행렬\n",
            "[[6891  526]\n",
            " [ 897 1455]]\n",
            "정확도: 0.8543, 정밀도: 0.7345, 재현율: 0.6186,    F1: 0.6716, AUC:0.9010\n",
            "임곗값: 0.5\n",
            "오차 행렬\n",
            "[[6938  479]\n",
            " [ 936 1416]]\n",
            "정확도: 0.8552, 정밀도: 0.7472, 재현율: 0.6020,    F1: 0.6668, AUC:0.9010\n"
          ],
          "name": "stdout"
        }
      ]
    },
    {
      "cell_type": "code",
      "metadata": {
        "colab": {
          "base_uri": "https://localhost:8080/"
        },
        "id": "yzrnhSqR3VMm",
        "outputId": "8045438d-c7ea-4cab-f348-0eeb5425f2e4"
      },
      "source": [
        "thresholds = [0.3 , 0.33 ,0.36,0.39, 0.42 , 0.45 ,0.48, 0.50]\n",
        "get_eval_by_threshold(test_y, std_pred_lr_proba.reshape(-1,1), thresholds )"
      ],
      "execution_count": null,
      "outputs": [
        {
          "output_type": "stream",
          "text": [
            "임곗값: 0.3\n",
            "오차 행렬\n",
            "[[6220 1197]\n",
            " [ 774 1578]]\n",
            "정확도: 0.7982, 정밀도: 0.5686, 재현율: 0.6709,    F1: 0.6156, AUC:0.8528\n",
            "임곗값: 0.33\n",
            "오차 행렬\n",
            "[[6399 1018]\n",
            " [ 858 1494]]\n",
            "정확도: 0.8080, 정밀도: 0.5947, 재현율: 0.6352,    F1: 0.6143, AUC:0.8528\n",
            "임곗값: 0.36\n",
            "오차 행렬\n",
            "[[6538  879]\n",
            " [ 952 1400]]\n",
            "정확도: 0.8126, 정밀도: 0.6143, 재현율: 0.5952,    F1: 0.6046, AUC:0.8528\n",
            "임곗값: 0.39\n",
            "오차 행렬\n",
            "[[6667  750]\n",
            " [1027 1325]]\n",
            "정확도: 0.8181, 정밀도: 0.6386, 재현율: 0.5634,    F1: 0.5986, AUC:0.8528\n",
            "임곗값: 0.42\n",
            "오차 행렬\n",
            "[[6775  642]\n",
            " [1101 1251]]\n",
            "정확도: 0.8216, 정밀도: 0.6609, 재현율: 0.5319,    F1: 0.5894, AUC:0.8528\n",
            "임곗값: 0.45\n",
            "오차 행렬\n",
            "[[6862  555]\n",
            " [1181 1171]]\n",
            "정확도: 0.8223, 정밀도: 0.6784, 재현율: 0.4979,    F1: 0.5743, AUC:0.8528\n",
            "임곗값: 0.48\n",
            "오차 행렬\n",
            "[[6933  484]\n",
            " [1258 1094]]\n",
            "정확도: 0.8217, 정밀도: 0.6933, 재현율: 0.4651,    F1: 0.5567, AUC:0.8528\n",
            "임곗값: 0.5\n",
            "오차 행렬\n",
            "[[6980  437]\n",
            " [1298 1054]]\n",
            "정확도: 0.8224, 정밀도: 0.7069, 재현율: 0.4481,    F1: 0.5485, AUC:0.8528\n"
          ],
          "name": "stdout"
        }
      ]
    },
    {
      "cell_type": "markdown",
      "metadata": {
        "id": "vMpNE5M23byT"
      },
      "source": [
        "3. minmax scale"
      ]
    },
    {
      "cell_type": "code",
      "metadata": {
        "colab": {
          "base_uri": "https://localhost:8080/"
        },
        "id": "8ry4fLOP3efC",
        "outputId": "14757fca-d6e1-4182-c30c-6fa5b66b579c"
      },
      "source": [
        "thresholds = [0.3 , 0.33 ,0.36,0.39, 0.42 , 0.45 ,0.48, 0.50]\n",
        "get_eval_by_threshold(test_y, mm_pred_dt_proba.reshape(-1,1), thresholds )"
      ],
      "execution_count": null,
      "outputs": [
        {
          "output_type": "stream",
          "text": [
            "임곗값: 0.3\n",
            "오차 행렬\n",
            "[[6359 1058]\n",
            " [1034 1318]]\n",
            "정확도: 0.7859, 정밀도: 0.5547, 재현율: 0.5604,    F1: 0.5575, AUC:0.7089\n",
            "임곗값: 0.33\n",
            "오차 행렬\n",
            "[[6359 1058]\n",
            " [1034 1318]]\n",
            "정확도: 0.7859, 정밀도: 0.5547, 재현율: 0.5604,    F1: 0.5575, AUC:0.7089\n",
            "임곗값: 0.36\n",
            "오차 행렬\n",
            "[[6359 1058]\n",
            " [1034 1318]]\n",
            "정확도: 0.7859, 정밀도: 0.5547, 재현율: 0.5604,    F1: 0.5575, AUC:0.7089\n",
            "임곗값: 0.39\n",
            "오차 행렬\n",
            "[[6359 1058]\n",
            " [1034 1318]]\n",
            "정확도: 0.7859, 정밀도: 0.5547, 재현율: 0.5604,    F1: 0.5575, AUC:0.7089\n",
            "임곗값: 0.42\n",
            "오차 행렬\n",
            "[[6359 1058]\n",
            " [1034 1318]]\n",
            "정확도: 0.7859, 정밀도: 0.5547, 재현율: 0.5604,    F1: 0.5575, AUC:0.7089\n",
            "임곗값: 0.45\n",
            "오차 행렬\n",
            "[[6359 1058]\n",
            " [1034 1318]]\n",
            "정확도: 0.7859, 정밀도: 0.5547, 재현율: 0.5604,    F1: 0.5575, AUC:0.7089\n",
            "임곗값: 0.48\n",
            "오차 행렬\n",
            "[[6359 1058]\n",
            " [1034 1318]]\n",
            "정확도: 0.7859, 정밀도: 0.5547, 재현율: 0.5604,    F1: 0.5575, AUC:0.7089\n",
            "임곗값: 0.5\n",
            "오차 행렬\n",
            "[[6359 1058]\n",
            " [1034 1318]]\n",
            "정확도: 0.7859, 정밀도: 0.5547, 재현율: 0.5604,    F1: 0.5575, AUC:0.7089\n"
          ],
          "name": "stdout"
        }
      ]
    },
    {
      "cell_type": "code",
      "metadata": {
        "colab": {
          "base_uri": "https://localhost:8080/"
        },
        "id": "_IHhYb4D3efD",
        "outputId": "0ac9253f-47cb-4cef-bf50-d9ccb2fb3ab4"
      },
      "source": [
        "thresholds = [0.3 , 0.33 ,0.36,0.39, 0.42 , 0.45 ,0.48, 0.50]\n",
        "get_eval_by_threshold(test_y, mm_pred_rf_proba.reshape(-1,1), thresholds )"
      ],
      "execution_count": null,
      "outputs": [
        {
          "output_type": "stream",
          "text": [
            "임곗값: 0.3\n",
            "오차 행렬\n",
            "[[6156 1261]\n",
            " [ 499 1853]]\n",
            "정확도: 0.8198, 정밀도: 0.5951, 재현율: 0.7878,    F1: 0.6780, AUC:0.8986\n",
            "임곗값: 0.33\n",
            "오차 행렬\n",
            "[[6282 1135]\n",
            " [ 556 1796]]\n",
            "정확도: 0.8269, 정밀도: 0.6128, 재현율: 0.7636,    F1: 0.6799, AUC:0.8986\n",
            "임곗값: 0.36\n",
            "오차 행렬\n",
            "[[6409 1008]\n",
            " [ 605 1747]]\n",
            "정확도: 0.8349, 정밀도: 0.6341, 재현율: 0.7428,    F1: 0.6842, AUC:0.8986\n",
            "임곗값: 0.39\n",
            "오차 행렬\n",
            "[[6522  895]\n",
            " [ 666 1686]]\n",
            "정확도: 0.8402, 정밀도: 0.6532, 재현율: 0.7168,    F1: 0.6836, AUC:0.8986\n",
            "임곗값: 0.42\n",
            "오차 행렬\n",
            "[[6627  790]\n",
            " [ 736 1616]]\n",
            "정확도: 0.8438, 정밀도: 0.6717, 재현율: 0.6871,    F1: 0.6793, AUC:0.8986\n",
            "임곗값: 0.45\n",
            "오차 행렬\n",
            "[[6718  699]\n",
            " [ 795 1557]]\n",
            "정확도: 0.8471, 정밀도: 0.6902, 재현율: 0.6620,    F1: 0.6758, AUC:0.8986\n",
            "임곗값: 0.48\n",
            "오차 행렬\n",
            "[[6798  619]\n",
            " [ 869 1483]]\n",
            "정확도: 0.8477, 정밀도: 0.7055, 재현율: 0.6305,    F1: 0.6659, AUC:0.8986\n",
            "임곗값: 0.5\n",
            "오차 행렬\n",
            "[[6856  561]\n",
            " [ 900 1452]]\n",
            "정확도: 0.8504, 정밀도: 0.7213, 재현율: 0.6173,    F1: 0.6653, AUC:0.8986\n"
          ],
          "name": "stdout"
        }
      ]
    },
    {
      "cell_type": "code",
      "metadata": {
        "colab": {
          "base_uri": "https://localhost:8080/"
        },
        "id": "RHkOd6uI3efD",
        "outputId": "3f265208-9c44-4967-950b-efc2c184c78c"
      },
      "source": [
        "thresholds = [0.3 , 0.33 ,0.36,0.39, 0.42 , 0.45 ,0.48, 0.50]\n",
        "get_eval_by_threshold(test_y, mm_pred_lr_proba.reshape(-1,1), thresholds )"
      ],
      "execution_count": null,
      "outputs": [
        {
          "output_type": "stream",
          "text": [
            "임곗값: 0.3\n",
            "오차 행렬\n",
            "[[6078 1339]\n",
            " [ 702 1650]]\n",
            "정확도: 0.7911, 정밀도: 0.5520, 재현율: 0.7015,    F1: 0.6179, AUC:0.8506\n",
            "임곗값: 0.33\n",
            "오차 행렬\n",
            "[[6273 1144]\n",
            " [ 809 1543]]\n",
            "정확도: 0.8001, 정밀도: 0.5742, 재현율: 0.6560,    F1: 0.6124, AUC:0.8506\n",
            "임곗값: 0.36\n",
            "오차 행렬\n",
            "[[6432  985]\n",
            " [ 886 1466]]\n",
            "정확도: 0.8085, 정밀도: 0.5981, 재현율: 0.6233,    F1: 0.6105, AUC:0.8506\n",
            "임곗값: 0.39\n",
            "오차 행렬\n",
            "[[6577  840]\n",
            " [ 975 1377]]\n",
            "정확도: 0.8142, 정밀도: 0.6211, 재현율: 0.5855,    F1: 0.6028, AUC:0.8506\n",
            "임곗값: 0.42\n",
            "오차 행렬\n",
            "[[6685  732]\n",
            " [1051 1301]]\n",
            "정확도: 0.8175, 정밀도: 0.6399, 재현율: 0.5531,    F1: 0.5934, AUC:0.8506\n",
            "임곗값: 0.45\n",
            "오차 행렬\n",
            "[[6790  627]\n",
            " [1126 1226]]\n",
            "정확도: 0.8206, 정밀도: 0.6616, 재현율: 0.5213,    F1: 0.5831, AUC:0.8506\n",
            "임곗값: 0.48\n",
            "오차 행렬\n",
            "[[6881  536]\n",
            " [1212 1140]]\n",
            "정확도: 0.8211, 정밀도: 0.6802, 재현율: 0.4847,    F1: 0.5660, AUC:0.8506\n",
            "임곗값: 0.5\n",
            "오차 행렬\n",
            "[[6926  491]\n",
            " [1262 1090]]\n",
            "정확도: 0.8206, 정밀도: 0.6894, 재현율: 0.4634,    F1: 0.5543, AUC:0.8506\n"
          ],
          "name": "stdout"
        }
      ]
    }
  ]
}